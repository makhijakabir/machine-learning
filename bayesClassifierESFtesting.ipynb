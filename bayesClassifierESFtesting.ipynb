{
  "nbformat": 4,
  "nbformat_minor": 0,
  "metadata": {
    "colab": {
      "name": "bayesClassifierESFtesting",
      "provenance": [],
      "toc_visible": true,
      "authorship_tag": "ABX9TyPxmf5sDpLvnuPHI/YkT6kY",
      "include_colab_link": true
    },
    "kernelspec": {
      "name": "python3",
      "display_name": "Python 3"
    },
    "language_info": {
      "name": "python"
    }
  },
  "cells": [
    {
      "cell_type": "markdown",
      "metadata": {
        "id": "view-in-github",
        "colab_type": "text"
      },
      "source": [
        "<a href=\"https://colab.research.google.com/github/makhijakabir/machine-learning/blob/main/bayesClassifierESFtesting.ipynb\" target=\"_parent\"><img src=\"https://colab.research.google.com/assets/colab-badge.svg\" alt=\"Open In Colab\"/></a>"
      ]
    },
    {
      "cell_type": "markdown",
      "metadata": {
        "id": "6D3tQHNpOdu5"
      },
      "source": [
        "#Testing, checking inference and, evaluating the model using the bayes classifier to build an email spam filter"
      ]
    },
    {
      "cell_type": "code",
      "metadata": {
        "colab": {
          "base_uri": "https://localhost:8080/"
        },
        "id": "VnWoaFp-Yo7G",
        "outputId": "0c2a2927-8fcd-45d7-e0be-c103de737a0b"
      },
      "source": [
        "from google.colab import drive\n",
        "drive.mount('/content/drive')"
      ],
      "execution_count": 1,
      "outputs": [
        {
          "output_type": "stream",
          "name": "stdout",
          "text": [
            "Mounted at /content/drive\n"
          ]
        }
      ]
    },
    {
      "cell_type": "markdown",
      "metadata": {
        "id": "SRcbrQhvYJUG"
      },
      "source": [
        "##Imports"
      ]
    },
    {
      "cell_type": "code",
      "metadata": {
        "id": "Q7AV-AePYPIg"
      },
      "source": [
        "import numpy as np\n",
        "import pandas as pd\n",
        "import matplotlib.pyplot as plt\n",
        "import seaborn as sns\n",
        "\n",
        "%matplotlib inline"
      ],
      "execution_count": 6,
      "outputs": []
    },
    {
      "cell_type": "markdown",
      "metadata": {
        "id": "DsD_bJQDYUlj"
      },
      "source": [
        "##Constants"
      ]
    },
    {
      "cell_type": "code",
      "metadata": {
        "id": "Ji91sU81YTKG"
      },
      "source": [
        "tokenSpamProbFile = '/content/drive/MyDrive/Colab Notebooks/SpamData/03_Testing/prob-spam.txt'\n",
        "tokenNotSpamProbFile = '/content/drive/MyDrive/Colab Notebooks/SpamData/03_Testing/prob-notspam.txt'\n",
        "\n",
        "tokenAllProbFile = '/content/drive/MyDrive/Colab Notebooks/SpamData/03_Testing/prob-all-tokens.txt'\n",
        "\n",
        "testFeaturesMatrixFile = '/content/drive/MyDrive/Colab Notebooks/SpamData/03_Testing/test-features.txt'\n",
        "testTargetFile = '/content/drive/MyDrive/Colab Notebooks/SpamData/03_Testing/test-target-file.txt'\n",
        "\n",
        "vocabSize = 2500"
      ],
      "execution_count": 12,
      "outputs": []
    },
    {
      "cell_type": "markdown",
      "metadata": {
        "id": "6MgbErsOPgB_"
      },
      "source": [
        "##Load the Data"
      ]
    },
    {
      "cell_type": "code",
      "metadata": {
        "id": "fV_sPTyXOYuC"
      },
      "source": [
        "#features\n",
        "xTest = np.loadtxt(testFeaturesMatrixFile, delimiter=' ')\n",
        "\n",
        "#Target\n",
        "yTest = np.loadtxt(testTargetFile, delimiter=' ')\n",
        "\n",
        "#Token Probabilities\n",
        "probTokenSpam = np.loadtxt(tokenSpamProbFile, delimiter=' ')\n",
        "probTokenNotSpam = np.loadtxt(tokenNotSpamProbFile, delimiter=' ')\n",
        "probAll = np.loadtxt(tokenAllProbFile, delimiter=' ')"
      ],
      "execution_count": 14,
      "outputs": []
    },
    {
      "cell_type": "markdown",
      "metadata": {
        "id": "1UCKFE_LUNOT"
      },
      "source": [
        "##Spam Probability Set the PRIOR\n",
        "\n",
        "$(Spam \\, | \\, X) = \\frac{P(X \\, | \\, Spam \\,) \\, P(Spam)}{P(X)}$"
      ]
    },
    {
      "cell_type": "code",
      "metadata": {
        "id": "4XR_JAbePwRw"
      },
      "source": [
        "probSpam = 0.3116"
      ],
      "execution_count": 20,
      "outputs": []
    },
    {
      "cell_type": "markdown",
      "metadata": {
        "id": "I8LdYOZVWG1B"
      },
      "source": [
        "###Joint Probability in LOG format"
      ]
    },
    {
      "cell_type": "code",
      "metadata": {
        "id": "Lo_WgOhnWJJz"
      },
      "source": [
        "logJointSpam = xTest.dot(np.log(probTokenSpam) - np.log(probAll)) + np.log(probSpam)"
      ],
      "execution_count": 21,
      "outputs": []
    },
    {
      "cell_type": "code",
      "metadata": {
        "colab": {
          "base_uri": "https://localhost:8080/"
        },
        "id": "z87VKmZ6YXgk",
        "outputId": "524ff6ec-4917-425e-b79f-a1f02e642ef8"
      },
      "source": [
        "logJointSpam[: 5]"
      ],
      "execution_count": 23,
      "outputs": [
        {
          "output_type": "execute_result",
          "data": {
            "text/plain": [
              "array([ 5.03989819, 14.87701323, 96.77694121,  7.46314895, 16.48771107])"
            ]
          },
          "metadata": {},
          "execution_count": 23
        }
      ]
    },
    {
      "cell_type": "markdown",
      "metadata": {
        "id": "NTTzQ7p5XpH3"
      },
      "source": [
        "##Not Sapm Probability Set the PRIOR\n",
        "\n",
        "$(Not \\, Spam \\, | \\, X) = \\frac{P(X \\, | \\, Not \\, Spam \\,) \\, (1 \\, - \\, P(Spam))}{P(X)}$"
      ]
    },
    {
      "cell_type": "code",
      "metadata": {
        "id": "W2yv-eRLXpIT"
      },
      "source": [
        "probNotSpam = 1 - 0.3116 "
      ],
      "execution_count": 27,
      "outputs": []
    },
    {
      "cell_type": "markdown",
      "metadata": {
        "id": "Adc6FwFxXpIU"
      },
      "source": [
        "###Joint Probability in LOG format"
      ]
    },
    {
      "cell_type": "code",
      "metadata": {
        "id": "Y7JjLi6dXpIU"
      },
      "source": [
        "logJointNotSpam = xTest.dot(np.log(probTokenNotSpam) - np.log(probAll)) + np.log(probNotSpam)"
      ],
      "execution_count": 28,
      "outputs": []
    },
    {
      "cell_type": "code",
      "metadata": {
        "colab": {
          "base_uri": "https://localhost:8080/"
        },
        "id": "MXDNv748YaaD",
        "outputId": "ccb87769-cb5b-4d6d-dc50-905338a7c05a"
      },
      "source": [
        "logJointNotSpam[: 5]"
      ],
      "execution_count": 29,
      "outputs": [
        {
          "output_type": "execute_result",
          "data": {
            "text/plain": [
              "array([ -12.83638491,  -29.96532013, -193.83139411,  -36.32987775,\n",
              "        -33.5437104 ])"
            ]
          },
          "metadata": {},
          "execution_count": 29
        }
      ]
    },
    {
      "cell_type": "markdown",
      "metadata": {
        "id": "U1jHJ-m8Z45w"
      },
      "source": [
        "##Making Predictions whether or not an email is spam"
      ]
    },
    {
      "cell_type": "markdown",
      "metadata": {
        "id": "Bwz7bAoyaPze"
      },
      "source": [
        "###Checking for the higher joint probability\n",
        "\n",
        "$P(Spam \\, | \\, X) \\, > \\, P(Not \\, Spam \\, | \\, X)$\n",
        "<br>**OR**<br>\n",
        "$P(Spam \\, | \\, X) \\, < \\, P(Not \\, Spam \\, | \\, X)$"
      ]
    },
    {
      "cell_type": "code",
      "metadata": {
        "id": "JqZNEeLaYdDL"
      },
      "source": [
        "prediction = logJointSpam > logJointNotSpam  "
      ],
      "execution_count": 30,
      "outputs": []
    },
    {
      "cell_type": "markdown",
      "metadata": {
        "id": "nzRRkzV4cSQP"
      },
      "source": [
        "##Metrics and Evaluation"
      ]
    },
    {
      "cell_type": "markdown",
      "metadata": {
        "id": "mGF_GPO2cWUy"
      },
      "source": [
        "###Accuracy"
      ]
    },
    {
      "cell_type": "code",
      "metadata": {
        "colab": {
          "base_uri": "https://localhost:8080/"
        },
        "id": "sOflItadbI4G",
        "outputId": "0b22e271-b2f9-446b-a465-4d86f556eef0"
      },
      "source": [
        "correctDocs = (yTest == prediction).sum()\n",
        "print('Total no of emails verified corretcly is:', correctDocs)\n",
        "\n",
        "incorrectDocs = xTest.shape[0] - correctDocs\n",
        "print('total no of emails verified incorrectly is:', incorrectDocs)"
      ],
      "execution_count": 40,
      "outputs": [
        {
          "output_type": "stream",
          "name": "stdout",
          "text": [
            "Total no of emails verified corretcly is: 1675\n",
            "total no of emails verified incorrectly is: 42\n"
          ]
        }
      ]
    },
    {
      "cell_type": "code",
      "metadata": {
        "colab": {
          "base_uri": "https://localhost:8080/"
        },
        "id": "3JOXbA64chHp",
        "outputId": "63865cae-0078-4166-e2ee-6125b0282c95"
      },
      "source": [
        "#Accuracy\n",
        "\n",
        "fracCorrect = correctDocs/len(xTest)\n",
        "fracIncorrect = 1 - fracCorrect\n",
        "print('the percentage of wrongly classified emails is: {:2%}'.format(fracIncorrect))\n",
        "print('the ACCURACY of the model is {:2%}'.format(fracCorrect))"
      ],
      "execution_count": 43,
      "outputs": [
        {
          "output_type": "stream",
          "name": "stdout",
          "text": [
            "the percentage of wrongly classified emails is: 2.446127%\n",
            "the ACCURACY of the model is 97.553873%\n"
          ]
        }
      ]
    },
    {
      "cell_type": "code",
      "metadata": {
        "id": "zAPuRIBOddQQ"
      },
      "source": [
        ""
      ],
      "execution_count": null,
      "outputs": []
    }
  ]
}