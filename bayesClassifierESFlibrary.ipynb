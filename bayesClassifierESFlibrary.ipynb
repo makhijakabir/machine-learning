{
  "nbformat": 4,
  "nbformat_minor": 0,
  "metadata": {
    "colab": {
      "name": "bayesClassifierESFlibrary",
      "provenance": [],
      "mount_file_id": "1TwNO8S1UgcpxXFyGPTkdlO9S4Q4H7MKy",
      "authorship_tag": "ABX9TyN9lF2dVGdtDUHEyIijjjao",
      "include_colab_link": true
    },
    "kernelspec": {
      "name": "python3",
      "display_name": "Python 3"
    },
    "language_info": {
      "name": "python"
    }
  },
  "cells": [
    {
      "cell_type": "markdown",
      "metadata": {
        "id": "view-in-github",
        "colab_type": "text"
      },
      "source": [
        "<a href=\"https://colab.research.google.com/github/makhijakabir/machine-learning/blob/main/bayesClassifierESFlibrary.ipynb\" target=\"_parent\"><img src=\"https://colab.research.google.com/assets/colab-badge.svg\" alt=\"Open In Colab\"/></a>"
      ]
    },
    {
      "cell_type": "code",
      "metadata": {
        "id": "2TQuAnqMJ3pc"
      },
      "source": [
        "import numpy as np\n",
        "import pandas as pd\n",
        "\n",
        "from sklearn.feature_extraction.text import CountVectorizer\n",
        "from sklearn.model_selection import train_test_split\n",
        "from sklearn.naive_bayes import MultinomialNB\n",
        "\n",
        "from sklearn.metrics import recall_score, precision_score, f1_score"
      ],
      "execution_count": 35,
      "outputs": []
    },
    {
      "cell_type": "code",
      "metadata": {
        "id": "HnhISGEmKCEn"
      },
      "source": [
        "DATA_JSON_FILE = '/content/drive/MyDrive/Colab Notebooks/SpamData/01_Processing/exmail-test-data.json'"
      ],
      "execution_count": 2,
      "outputs": []
    },
    {
      "cell_type": "code",
      "metadata": {
        "id": "TBNW8gwmKdMe"
      },
      "source": [
        "data = pd.read_json(DATA_JSON_FILE)"
      ],
      "execution_count": 3,
      "outputs": []
    },
    {
      "cell_type": "code",
      "metadata": {
        "colab": {
          "base_uri": "https://localhost:8080/",
          "height": 424
        },
        "id": "yAYj30PyKg5C",
        "outputId": "d712a26a-cc0f-4689-caa8-866bd3e7e8e3"
      },
      "source": [
        "data"
      ],
      "execution_count": 6,
      "outputs": [
        {
          "output_type": "execute_result",
          "data": {
            "text/html": [
              "<div>\n",
              "<style scoped>\n",
              "    .dataframe tbody tr th:only-of-type {\n",
              "        vertical-align: middle;\n",
              "    }\n",
              "\n",
              "    .dataframe tbody tr th {\n",
              "        vertical-align: top;\n",
              "    }\n",
              "\n",
              "    .dataframe thead th {\n",
              "        text-align: right;\n",
              "    }\n",
              "</style>\n",
              "<table border=\"1\" class=\"dataframe\">\n",
              "  <thead>\n",
              "    <tr style=\"text-align: right;\">\n",
              "      <th></th>\n",
              "      <th>CATEGORY</th>\n",
              "      <th>MESSAGE</th>\n",
              "      <th>FILE_NAME</th>\n",
              "    </tr>\n",
              "  </thead>\n",
              "  <tbody>\n",
              "    <tr>\n",
              "      <th>0</th>\n",
              "      <td>1</td>\n",
              "      <td>This is a multi-part message in MIME format.\\n...</td>\n",
              "      <td>00273.0c7d73771d79e84e2aab8c909c5bb210</td>\n",
              "    </tr>\n",
              "    <tr>\n",
              "      <th>1</th>\n",
              "      <td>1</td>\n",
              "      <td>On January 1st 2002, the European countries be...</td>\n",
              "      <td>00154.b6c448ccff434e2dbe2c7c200a36aa31</td>\n",
              "    </tr>\n",
              "    <tr>\n",
              "      <th>2</th>\n",
              "      <td>1</td>\n",
              "      <td>This is a multi-part message in MIME format.\\n...</td>\n",
              "      <td>00223.349b9b0748ee72bad60729ffaae2cc00</td>\n",
              "    </tr>\n",
              "    <tr>\n",
              "      <th>3</th>\n",
              "      <td>1</td>\n",
              "      <td>&lt;!DOCTYPE HTML PUBLIC \"-//W3C//DTD HTML 3.2//E...</td>\n",
              "      <td>00351.fd1b8a6cd42e81125fb38c2660cd9317</td>\n",
              "    </tr>\n",
              "    <tr>\n",
              "      <th>4</th>\n",
              "      <td>1</td>\n",
              "      <td>&lt;!DOCTYPE HTML PUBLIC \"-//W3C//DTD HTML 4.0 Tr...</td>\n",
              "      <td>00001.7848dde101aa985090474a91ec93fcf0</td>\n",
              "    </tr>\n",
              "    <tr>\n",
              "      <th>...</th>\n",
              "      <td>...</td>\n",
              "      <td>...</td>\n",
              "      <td>...</td>\n",
              "    </tr>\n",
              "    <tr>\n",
              "      <th>5791</th>\n",
              "      <td>0</td>\n",
              "      <td>\"This is a very tenuous time for Microsoft,\" G...</td>\n",
              "      <td>00695.2de9d6d30a7713e550b4fd02bb35e7b4</td>\n",
              "    </tr>\n",
              "    <tr>\n",
              "      <th>5792</th>\n",
              "      <td>0</td>\n",
              "      <td>On 21 Jul 2002 23:59:59 +1200\\n\\nMark Derricut...</td>\n",
              "      <td>01137.e0afde7fc471f626742746c738013750</td>\n",
              "    </tr>\n",
              "    <tr>\n",
              "      <th>5793</th>\n",
              "      <td>0</td>\n",
              "      <td>Pablo Sofware Solutions FTP server Directory T...</td>\n",
              "      <td>01294.7f208bf4ae152863fd40f25e2e121d49</td>\n",
              "    </tr>\n",
              "    <tr>\n",
              "      <th>5794</th>\n",
              "      <td>0</td>\n",
              "      <td>If you run Pick, and then use the \"New FTOC\" b...</td>\n",
              "      <td>00747.352d424267d36975a7b40b85ffd0885e</td>\n",
              "    </tr>\n",
              "    <tr>\n",
              "      <th>5795</th>\n",
              "      <td>0</td>\n",
              "      <td>On Wed, 14 Aug 2002, Chip Paswater wrote:\\n\\n\\...</td>\n",
              "      <td>00654.7e84d693f6d2dc216aa501c47db607f7</td>\n",
              "    </tr>\n",
              "  </tbody>\n",
              "</table>\n",
              "<p>5796 rows × 3 columns</p>\n",
              "</div>"
            ],
            "text/plain": [
              "      CATEGORY  ...                               FILE_NAME\n",
              "0            1  ...  00273.0c7d73771d79e84e2aab8c909c5bb210\n",
              "1            1  ...  00154.b6c448ccff434e2dbe2c7c200a36aa31\n",
              "2            1  ...  00223.349b9b0748ee72bad60729ffaae2cc00\n",
              "3            1  ...  00351.fd1b8a6cd42e81125fb38c2660cd9317\n",
              "4            1  ...  00001.7848dde101aa985090474a91ec93fcf0\n",
              "...        ...  ...                                     ...\n",
              "5791         0  ...  00695.2de9d6d30a7713e550b4fd02bb35e7b4\n",
              "5792         0  ...  01137.e0afde7fc471f626742746c738013750\n",
              "5793         0  ...  01294.7f208bf4ae152863fd40f25e2e121d49\n",
              "5794         0  ...  00747.352d424267d36975a7b40b85ffd0885e\n",
              "5795         0  ...  00654.7e84d693f6d2dc216aa501c47db607f7\n",
              "\n",
              "[5796 rows x 3 columns]"
            ]
          },
          "metadata": {},
          "execution_count": 6
        }
      ]
    },
    {
      "cell_type": "code",
      "metadata": {
        "colab": {
          "base_uri": "https://localhost:8080/"
        },
        "id": "bIuTH2gKKjdR",
        "outputId": "86a9050f-850e-4de9-aa61-e3d34a6d829a"
      },
      "source": [
        "data.shape"
      ],
      "execution_count": 7,
      "outputs": [
        {
          "output_type": "execute_result",
          "data": {
            "text/plain": [
              "(5796, 3)"
            ]
          },
          "metadata": {},
          "execution_count": 7
        }
      ]
    },
    {
      "cell_type": "code",
      "metadata": {
        "id": "JeTXMQ_1Kvur"
      },
      "source": [
        "data.sort_index(inplace=True)"
      ],
      "execution_count": 9,
      "outputs": []
    },
    {
      "cell_type": "code",
      "metadata": {
        "colab": {
          "base_uri": "https://localhost:8080/",
          "height": 424
        },
        "id": "fYTLDs3WK5HW",
        "outputId": "1086df7f-24f5-4cdd-a885-d27ac328f885"
      },
      "source": [
        "data"
      ],
      "execution_count": 10,
      "outputs": [
        {
          "output_type": "execute_result",
          "data": {
            "text/html": [
              "<div>\n",
              "<style scoped>\n",
              "    .dataframe tbody tr th:only-of-type {\n",
              "        vertical-align: middle;\n",
              "    }\n",
              "\n",
              "    .dataframe tbody tr th {\n",
              "        vertical-align: top;\n",
              "    }\n",
              "\n",
              "    .dataframe thead th {\n",
              "        text-align: right;\n",
              "    }\n",
              "</style>\n",
              "<table border=\"1\" class=\"dataframe\">\n",
              "  <thead>\n",
              "    <tr style=\"text-align: right;\">\n",
              "      <th></th>\n",
              "      <th>CATEGORY</th>\n",
              "      <th>MESSAGE</th>\n",
              "      <th>FILE_NAME</th>\n",
              "    </tr>\n",
              "  </thead>\n",
              "  <tbody>\n",
              "    <tr>\n",
              "      <th>0</th>\n",
              "      <td>1</td>\n",
              "      <td>This is a multi-part message in MIME format.\\n...</td>\n",
              "      <td>00273.0c7d73771d79e84e2aab8c909c5bb210</td>\n",
              "    </tr>\n",
              "    <tr>\n",
              "      <th>1</th>\n",
              "      <td>1</td>\n",
              "      <td>On January 1st 2002, the European countries be...</td>\n",
              "      <td>00154.b6c448ccff434e2dbe2c7c200a36aa31</td>\n",
              "    </tr>\n",
              "    <tr>\n",
              "      <th>2</th>\n",
              "      <td>1</td>\n",
              "      <td>This is a multi-part message in MIME format.\\n...</td>\n",
              "      <td>00223.349b9b0748ee72bad60729ffaae2cc00</td>\n",
              "    </tr>\n",
              "    <tr>\n",
              "      <th>3</th>\n",
              "      <td>1</td>\n",
              "      <td>&lt;!DOCTYPE HTML PUBLIC \"-//W3C//DTD HTML 3.2//E...</td>\n",
              "      <td>00351.fd1b8a6cd42e81125fb38c2660cd9317</td>\n",
              "    </tr>\n",
              "    <tr>\n",
              "      <th>4</th>\n",
              "      <td>1</td>\n",
              "      <td>&lt;!DOCTYPE HTML PUBLIC \"-//W3C//DTD HTML 4.0 Tr...</td>\n",
              "      <td>00001.7848dde101aa985090474a91ec93fcf0</td>\n",
              "    </tr>\n",
              "    <tr>\n",
              "      <th>...</th>\n",
              "      <td>...</td>\n",
              "      <td>...</td>\n",
              "      <td>...</td>\n",
              "    </tr>\n",
              "    <tr>\n",
              "      <th>5791</th>\n",
              "      <td>0</td>\n",
              "      <td>\"This is a very tenuous time for Microsoft,\" G...</td>\n",
              "      <td>00695.2de9d6d30a7713e550b4fd02bb35e7b4</td>\n",
              "    </tr>\n",
              "    <tr>\n",
              "      <th>5792</th>\n",
              "      <td>0</td>\n",
              "      <td>On 21 Jul 2002 23:59:59 +1200\\n\\nMark Derricut...</td>\n",
              "      <td>01137.e0afde7fc471f626742746c738013750</td>\n",
              "    </tr>\n",
              "    <tr>\n",
              "      <th>5793</th>\n",
              "      <td>0</td>\n",
              "      <td>Pablo Sofware Solutions FTP server Directory T...</td>\n",
              "      <td>01294.7f208bf4ae152863fd40f25e2e121d49</td>\n",
              "    </tr>\n",
              "    <tr>\n",
              "      <th>5794</th>\n",
              "      <td>0</td>\n",
              "      <td>If you run Pick, and then use the \"New FTOC\" b...</td>\n",
              "      <td>00747.352d424267d36975a7b40b85ffd0885e</td>\n",
              "    </tr>\n",
              "    <tr>\n",
              "      <th>5795</th>\n",
              "      <td>0</td>\n",
              "      <td>On Wed, 14 Aug 2002, Chip Paswater wrote:\\n\\n\\...</td>\n",
              "      <td>00654.7e84d693f6d2dc216aa501c47db607f7</td>\n",
              "    </tr>\n",
              "  </tbody>\n",
              "</table>\n",
              "<p>5796 rows × 3 columns</p>\n",
              "</div>"
            ],
            "text/plain": [
              "      CATEGORY  ...                               FILE_NAME\n",
              "0            1  ...  00273.0c7d73771d79e84e2aab8c909c5bb210\n",
              "1            1  ...  00154.b6c448ccff434e2dbe2c7c200a36aa31\n",
              "2            1  ...  00223.349b9b0748ee72bad60729ffaae2cc00\n",
              "3            1  ...  00351.fd1b8a6cd42e81125fb38c2660cd9317\n",
              "4            1  ...  00001.7848dde101aa985090474a91ec93fcf0\n",
              "...        ...  ...                                     ...\n",
              "5791         0  ...  00695.2de9d6d30a7713e550b4fd02bb35e7b4\n",
              "5792         0  ...  01137.e0afde7fc471f626742746c738013750\n",
              "5793         0  ...  01294.7f208bf4ae152863fd40f25e2e121d49\n",
              "5794         0  ...  00747.352d424267d36975a7b40b85ffd0885e\n",
              "5795         0  ...  00654.7e84d693f6d2dc216aa501c47db607f7\n",
              "\n",
              "[5796 rows x 3 columns]"
            ]
          },
          "metadata": {},
          "execution_count": 10
        }
      ]
    },
    {
      "cell_type": "code",
      "metadata": {
        "id": "sWa6WCoSK8_q"
      },
      "source": [
        "vectorizer = CountVectorizer(stop_words='english')"
      ],
      "execution_count": 14,
      "outputs": []
    },
    {
      "cell_type": "code",
      "metadata": {
        "id": "V150_ub0LTtb"
      },
      "source": [
        "all_features = vectorizer.fit_transform(data.MESSAGE)"
      ],
      "execution_count": 15,
      "outputs": []
    },
    {
      "cell_type": "code",
      "metadata": {
        "colab": {
          "base_uri": "https://localhost:8080/"
        },
        "id": "jO3nhY3FLiO5",
        "outputId": "d4de1a16-1e9c-40b4-d98d-da76ae355d96"
      },
      "source": [
        "all_features.shape"
      ],
      "execution_count": 17,
      "outputs": [
        {
          "output_type": "execute_result",
          "data": {
            "text/plain": [
              "(5796, 102694)"
            ]
          },
          "metadata": {},
          "execution_count": 17
        }
      ]
    },
    {
      "cell_type": "code",
      "metadata": {
        "id": "ZYvCiNOGLnMy"
      },
      "source": [
        "vectorizer.vocabulary_"
      ],
      "execution_count": null,
      "outputs": []
    },
    {
      "cell_type": "code",
      "metadata": {
        "id": "8qQnt16JLx3Q"
      },
      "source": [
        "xTrain, xTest, yTrain, yTest = train_test_split(all_features, data.CATEGORY, test_size=0.3, random_state=88)"
      ],
      "execution_count": 20,
      "outputs": []
    },
    {
      "cell_type": "code",
      "metadata": {
        "id": "Yr1sMRrLMPXP"
      },
      "source": [
        "classifier = MultinomialNB()"
      ],
      "execution_count": 25,
      "outputs": []
    },
    {
      "cell_type": "code",
      "metadata": {
        "colab": {
          "base_uri": "https://localhost:8080/"
        },
        "id": "9TmXEye2MRfS",
        "outputId": "7fb53c9c-1d7a-47d8-d47d-2a8b13464a36"
      },
      "source": [
        "classifier.fit(xTrain, yTrain)"
      ],
      "execution_count": 26,
      "outputs": [
        {
          "output_type": "execute_result",
          "data": {
            "text/plain": [
              "MultinomialNB(alpha=1.0, class_prior=None, fit_prior=True)"
            ]
          },
          "metadata": {},
          "execution_count": 26
        }
      ]
    },
    {
      "cell_type": "code",
      "metadata": {
        "colab": {
          "base_uri": "https://localhost:8080/"
        },
        "id": "NlHLzZXnMl8A",
        "outputId": "12c179a8-9854-45d4-9b38-6ac30dcdc6a9"
      },
      "source": [
        "nrCorrect = (yTest == classifier.predict(xTest)).sum()\n",
        "nrInCorrect = yTest.size - nrCorrect\n",
        "\n",
        "print(\"The number of correctly classified emails is:\", nrCorrect)\n",
        "print(\"The number of in-correctly classified emails is:\", nrInCorrect)"
      ],
      "execution_count": 31,
      "outputs": [
        {
          "output_type": "stream",
          "name": "stdout",
          "text": [
            "The number of correctly classified emails is: 1650\n",
            "The number of in-correctly classified emails is: 89\n"
          ]
        }
      ]
    },
    {
      "cell_type": "code",
      "metadata": {
        "colab": {
          "base_uri": "https://localhost:8080/"
        },
        "id": "XIA84_qkM7PV",
        "outputId": "6f836ed9-baa5-4ee9-8e74-f4861eae9a50"
      },
      "source": [
        "fracWrong = nrInCorrect / (nrCorrect + nrInCorrect)\n",
        "print('The testing accuracy of the model is:', 1-fracWrong)"
      ],
      "execution_count": 33,
      "outputs": [
        {
          "output_type": "stream",
          "name": "stdout",
          "text": [
            "The testing accuracy of the model is: 0.948821161587119\n"
          ]
        }
      ]
    },
    {
      "cell_type": "code",
      "metadata": {
        "colab": {
          "base_uri": "https://localhost:8080/"
        },
        "id": "4euNG8XkNkbW",
        "outputId": "4b69f8ae-de80-4ab0-9e95-ed47fbaaafd0"
      },
      "source": [
        "classifier.score(xTest, yTest)"
      ],
      "execution_count": 34,
      "outputs": [
        {
          "output_type": "execute_result",
          "data": {
            "text/plain": [
              "0.948821161587119"
            ]
          },
          "metadata": {},
          "execution_count": 34
        }
      ]
    },
    {
      "cell_type": "code",
      "metadata": {
        "colab": {
          "base_uri": "https://localhost:8080/"
        },
        "id": "eb_y1rPXN4Gw",
        "outputId": "d0213be3-15f4-4ee8-a0c6-51917cc58064"
      },
      "source": [
        "recall_score(yTest, classifier.predict(xTest))"
      ],
      "execution_count": 36,
      "outputs": [
        {
          "output_type": "execute_result",
          "data": {
            "text/plain": [
              "0.851985559566787"
            ]
          },
          "metadata": {},
          "execution_count": 36
        }
      ]
    },
    {
      "cell_type": "code",
      "metadata": {
        "colab": {
          "base_uri": "https://localhost:8080/"
        },
        "id": "LrL16-yLOP1r",
        "outputId": "5ad73fad-ebc9-433f-92f0-652fce0e13a8"
      },
      "source": [
        "precision_score(yTest, classifier.predict(xTest))"
      ],
      "execution_count": 37,
      "outputs": [
        {
          "output_type": "execute_result",
          "data": {
            "text/plain": [
              "0.9853862212943633"
            ]
          },
          "metadata": {},
          "execution_count": 37
        }
      ]
    },
    {
      "cell_type": "code",
      "metadata": {
        "colab": {
          "base_uri": "https://localhost:8080/"
        },
        "id": "Vup1Z3puOSsv",
        "outputId": "1a4f4b23-cf90-4067-8b09-3bb74e212941"
      },
      "source": [
        "f1_score(yTest, classifier.predict(xTest))"
      ],
      "execution_count": 38,
      "outputs": [
        {
          "output_type": "execute_result",
          "data": {
            "text/plain": [
              "0.9138431752178122"
            ]
          },
          "metadata": {},
          "execution_count": 38
        }
      ]
    },
    {
      "cell_type": "code",
      "metadata": {
        "id": "p_poLJncOVZe"
      },
      "source": [
        ""
      ],
      "execution_count": null,
      "outputs": []
    }
  ]
}