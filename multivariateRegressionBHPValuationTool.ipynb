{
  "nbformat": 4,
  "nbformat_minor": 0,
  "metadata": {
    "colab": {
      "name": "multivariateRegressionBHPValuationTool",
      "provenance": [],
      "authorship_tag": "ABX9TyO/u7lUTniSfANW0qwsPstE",
      "include_colab_link": true
    },
    "kernelspec": {
      "name": "python3",
      "display_name": "Python 3"
    },
    "language_info": {
      "name": "python"
    }
  },
  "cells": [
    {
      "cell_type": "markdown",
      "metadata": {
        "id": "view-in-github",
        "colab_type": "text"
      },
      "source": [
        "<a href=\"https://colab.research.google.com/github/makhijakabir/machine-learning/blob/main/multivariateRegressionBHPValuationTool.ipynb\" target=\"_parent\"><img src=\"https://colab.research.google.com/assets/colab-badge.svg\" alt=\"Open In Colab\"/></a>"
      ]
    },
    {
      "cell_type": "code",
      "metadata": {
        "id": "WM65Ich_2JNi"
      },
      "source": [
        "from sklearn.datasets import load_boston\n",
        "from sklearn.linear_model import LinearRegression\n",
        "from sklearn.metrics import mean_squared_error\n",
        "\n",
        "import numpy as np\n",
        "import pandas as pd"
      ],
      "execution_count": 16,
      "outputs": []
    },
    {
      "cell_type": "code",
      "metadata": {
        "id": "-xj5b7m92kx1"
      },
      "source": [
        "#Gather Data\n",
        "\n",
        "bostonDataset = load_boston()\n",
        "data = pd.DataFrame(data=bostonDataset.data, columns=bostonDataset.feature_names)\n",
        "features = data.drop(['INDUS', 'AGE'], axis=1)   \n",
        "logPrices = np.log(bostonDataset.target)\n",
        "target = pd.DataFrame(logPrices, columns=['PRICES'])"
      ],
      "execution_count": 17,
      "outputs": []
    },
    {
      "cell_type": "code",
      "metadata": {
        "id": "InMYuvAd3Loa"
      },
      "source": [
        "crimeIDX = 0\n",
        "znIDX = 1\n",
        "chasIDX = 2 \n",
        "rmIDX = 4\n",
        "ptratioIDX = 8\n",
        "\n",
        "propertyStats = features.mean().values.reshape(1, 11)"
      ],
      "execution_count": 18,
      "outputs": []
    },
    {
      "cell_type": "code",
      "metadata": {
        "id": "WNtVsPd-5eDb"
      },
      "source": [
        "regr = LinearRegression().fit(featues, target)\n",
        "fittedVals = regr.predict(features)\n",
        "\n",
        "MSE = mean_squared_error(target, fittedVals)\n",
        "RMSE = np.sqrt(MSE)"
      ],
      "execution_count": 19,
      "outputs": []
    },
    {
      "cell_type": "code",
      "metadata": {
        "id": "q-mfJZKC6vI6"
      },
      "source": [
        "def getLogEstimate(nrRooms, studentsPerClass, nextToRiver=False, highConfidence=True):\n",
        "    \n",
        "    #Configure the property\n",
        "    propertyStats[0][rmIDX] = nrRooms\n",
        "    propertyStats[0][ptratioIDX] = studentsPerClass\n",
        "\n",
        "    if nextToRiver:\n",
        "        propertyStats[0][chasIDX] = 1\n",
        "\n",
        "    #Make the prediction\n",
        "    logEstimate = regr.predict(propertyStats)[0][0]\n",
        "\n",
        "    #Calculate the Range\n",
        "    if highConfidence:\n",
        "        upperBound = logEstimate + 2*RMSE\n",
        "        lowerBound = logEstimate - 2*RMSE\n",
        "        interval = 95\n",
        "    else:\n",
        "        upperBound = logEstimate + RMSE\n",
        "        lowerBound = logEstimate - RMSE\n",
        "        interval = 68\n",
        "\n",
        "    return logEstimate, upperBound, lowerBound, interval\n"
      ],
      "execution_count": 31,
      "outputs": []
    },
    {
      "cell_type": "code",
      "metadata": {
        "colab": {
          "base_uri": "https://localhost:8080/"
        },
        "id": "tNKWiaEY9VU3",
        "outputId": "2c392618-2532-4aaa-d447-8c7c611788a9"
      },
      "source": [
        "getLogEstimate(3, 20, nextToRiver=True, highConfidence=False)"
      ],
      "execution_count": 33,
      "outputs": [
        {
          "output_type": "execute_result",
          "data": {
            "text/plain": [
              "(2.7767581914803987, 2.964270326677529, 2.5892460562832684, 68)"
            ]
          },
          "metadata": {},
          "execution_count": 33
        }
      ]
    },
    {
      "cell_type": "code",
      "metadata": {
        "colab": {
          "base_uri": "https://localhost:8080/"
        },
        "id": "Sx-NHPah9aNX",
        "outputId": "59af1f2a-63f2-4374-977f-4dd421eb6e18"
      },
      "source": [
        "todayMedian = 583.3\n",
        "scaleUp = todayMedian / np.median(bostonDataset.target)\n",
        "\n",
        "logEstimate, upperB, lowerB, conf = getLogEstimate(9, 15, False, False)\n",
        "\n",
        "#Conversion to today's price\n",
        "dollarToday = round(np.e**logEstimate*1000*scaleUp, 2)\n",
        "upperToday = round(np.e**upperB*1000*scaleUp, -3)\n",
        "lowerToday = round(np.e**lowerB*1000*scaleUp, -3)\n",
        "\n",
        "#Printing the prices\n",
        "print(f'The estimated property value is ${dollarToday}')\n",
        "print(f'At {conf}% confidence the variation range is ${lowerToday} - ${upperToday}')"
      ],
      "execution_count": 39,
      "outputs": [
        {
          "output_type": "stream",
          "name": "stdout",
          "text": [
            "The estimated property value is $918392.54\n",
            "At 68% confidence the variation range is $761000.0 - $1108000.0\n"
          ]
        }
      ]
    },
    {
      "cell_type": "code",
      "metadata": {
        "id": "pWxN12Ag_766"
      },
      "source": [
        "def getFinalEstimate(rm, ptratio, chas=False, confidencePercentage=True):\n",
        "    \n",
        "    if rm < 1 or ptratio < 1:\n",
        "        print('This is an unrealistic input. Try again.')\n",
        "        return\n",
        "    \n",
        "    logEstimate, upperB, lowerB, conf = getLogEstimate(rm, ptratio, chas, confidencePercentage)\n",
        "\n",
        "    #Conversion to today's price\n",
        "    dollarToday = round(np.e**logEstimate*1000*scaleUp, 2)\n",
        "    upperToday = round(np.e**upperB*1000*scaleUp, -3)\n",
        "    lowerToday = round(np.e**lowerB*1000*scaleUp, -3)\n",
        "\n",
        "    #Printing the prices \n",
        "    print(f'The estimated property value is ${dollarToday}')\n",
        "    print(f'At {conf}% confidence the variation range is ${lowerToday} - ${upperToday}')"
      ],
      "execution_count": 52,
      "outputs": []
    },
    {
      "cell_type": "code",
      "metadata": {
        "colab": {
          "base_uri": "https://localhost:8080/"
        },
        "id": "0R093j6ACLB8",
        "outputId": "477951e2-b639-485a-bae2-ee08e1742486"
      },
      "source": [
        "getFinalEstimate(5, 60, True)"
      ],
      "execution_count": 54,
      "outputs": [
        {
          "output_type": "stream",
          "name": "stdout",
          "text": [
            "The estimated property value is $118601.38\n",
            "At 95% confidence the variation range is $82000.0 - $173000.0\n"
          ]
        }
      ]
    },
    {
      "cell_type": "code",
      "metadata": {
        "id": "GVgD71ylCPls"
      },
      "source": [
        ""
      ],
      "execution_count": null,
      "outputs": []
    }
  ]
}