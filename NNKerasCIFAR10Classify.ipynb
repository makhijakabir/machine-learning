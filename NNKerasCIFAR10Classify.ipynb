{
  "nbformat": 4,
  "nbformat_minor": 0,
  "metadata": {
    "colab": {
      "name": "NNKerasCIFAR10Classify",
      "provenance": [],
      "toc_visible": true,
      "authorship_tag": "ABX9TyOli5Mrv/i7jsVREHVUilzB",
      "include_colab_link": true
    },
    "kernelspec": {
      "name": "python3",
      "display_name": "Python 3"
    },
    "language_info": {
      "name": "python"
    }
  },
  "cells": [
    {
      "cell_type": "markdown",
      "metadata": {
        "id": "view-in-github",
        "colab_type": "text"
      },
      "source": [
        "<a href=\"https://colab.research.google.com/github/makhijakabir/machine-learning/blob/main/NNKerasCIFAR10Classify.ipynb\" target=\"_parent\"><img src=\"https://colab.research.google.com/assets/colab-badge.svg\" alt=\"Open In Colab\"/></a>"
      ]
    },
    {
      "cell_type": "markdown",
      "metadata": {
        "id": "1yrt8hbMsf7a"
      },
      "source": [
        "#Neural Networks: Using Keras CIFAR10 dataset to classify images into 10 classes"
      ]
    },
    {
      "cell_type": "markdown",
      "metadata": {
        "id": "4SRIo9tksref"
      },
      "source": [
        "##Imports"
      ]
    },
    {
      "cell_type": "code",
      "metadata": {
        "id": "U2V56GtRspH3"
      },
      "source": [
        "from numpy.random import seed\n",
        "seed(888)\n",
        "from tensorflow.random import set_seed\n",
        "set_seed(404)"
      ],
      "execution_count": 1,
      "outputs": []
    },
    {
      "cell_type": "code",
      "metadata": {
        "id": "CtEY4qYEs9lR"
      },
      "source": [
        "import os\n",
        "import numpy as np\n",
        "import tensorflow as tf\n",
        "import keras\n",
        "\n",
        "from keras.datasets import cifar10\n",
        "\n",
        "from IPython.display import display\n",
        "from keras.preprocessing.image import array_to_img\n",
        "\n",
        "import matplotlib.pyplot as plt\n",
        "\n",
        "%matplotlib inline"
      ],
      "execution_count": 2,
      "outputs": []
    },
    {
      "cell_type": "markdown",
      "metadata": {
        "id": "uj627NkZwU8a"
      },
      "source": [
        "##Constants"
      ]
    },
    {
      "cell_type": "code",
      "metadata": {
        "id": "U0w_fgE1wZy4"
      },
      "source": [
        "labelNames = ['Plane', 'Car', 'Bird', 'Cat', 'Deer', 'Dog', 'Frog', 'Horse', 'Ship', 'Truck']"
      ],
      "execution_count": 3,
      "outputs": []
    },
    {
      "cell_type": "markdown",
      "metadata": {
        "id": "ABhAlMKkuuWz"
      },
      "source": [
        "##Get the Data"
      ]
    },
    {
      "cell_type": "code",
      "metadata": {
        "colab": {
          "base_uri": "https://localhost:8080/"
        },
        "id": "IynU5jmsuTFR",
        "outputId": "465a5ceb-c0da-45a9-cbc8-8246bb958dee"
      },
      "source": [
        "(xTrainAll, yTrainAll), (xTestAll, yTestAll) =  cifar10.load_data()"
      ],
      "execution_count": 4,
      "outputs": [
        {
          "output_type": "stream",
          "name": "stdout",
          "text": [
            "Downloading data from https://www.cs.toronto.edu/~kriz/cifar-10-python.tar.gz\n",
            "170500096/170498071 [==============================] - 2s 0us/step\n",
            "170508288/170498071 [==============================] - 2s 0us/step\n"
          ]
        }
      ]
    },
    {
      "cell_type": "code",
      "metadata": {
        "colab": {
          "base_uri": "https://localhost:8080/"
        },
        "id": "240iLJ2QvSZe",
        "outputId": "39ae1d24-bbab-4ffd-ceb4-4a8c9c89b405"
      },
      "source": [
        "type(xTrainAll)"
      ],
      "execution_count": 5,
      "outputs": [
        {
          "output_type": "execute_result",
          "data": {
            "text/plain": [
              "numpy.ndarray"
            ]
          },
          "metadata": {},
          "execution_count": 5
        }
      ]
    },
    {
      "cell_type": "markdown",
      "metadata": {
        "id": "diF5Fz7NvN5p"
      },
      "source": [
        "##Explore the Data"
      ]
    },
    {
      "cell_type": "code",
      "metadata": {
        "colab": {
          "base_uri": "https://localhost:8080/",
          "height": 49
        },
        "id": "-_vlhYB6uybW",
        "outputId": "6b0cda90-591a-4326-acc0-c458cc8b84ae"
      },
      "source": [
        "pic = array_to_img(xTrainAll[7])\n",
        "display(pic)"
      ],
      "execution_count": 6,
      "outputs": [
        {
          "output_type": "display_data",
          "data": {
            "image/png": "[encoded data removed]",
            "text/plain": [
              "<PIL.Image.Image image mode=RGB size=32x32 at 0x7F0BF1508B50>"
            ]
          },
          "metadata": {}
        }
      ]
    },
    {
      "cell_type": "code",
      "metadata": {
        "colab": {
          "base_uri": "https://localhost:8080/",
          "height": 34
        },
        "id": "m1YbNvpqvwj3",
        "outputId": "30226392-1a0f-4a41-fbfb-1cdfcc5b5a9e"
      },
      "source": [
        "labelNames[yTrainAll[7][0]]"
      ],
      "execution_count": 7,
      "outputs": [
        {
          "output_type": "execute_result",
          "data": {
            "application/vnd.google.colaboratory.intrinsic+json": {
              "type": "string"
            },
            "text/plain": [
              "'Horse'"
            ]
          },
          "metadata": {},
          "execution_count": 7
        }
      ]
    },
    {
      "cell_type": "code",
      "metadata": {
        "id": "UBfETFdtwJ7m"
      },
      "source": [
        ""
      ],
      "execution_count": 7,
      "outputs": []
    }
  ]
}