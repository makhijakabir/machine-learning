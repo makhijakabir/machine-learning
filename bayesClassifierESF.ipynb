{
  "nbformat": 4,
  "nbformat_minor": 0,
  "metadata": {
    "colab": {
      "name": "bayesClassifierESF",
      "provenance": [],
      "mount_file_id": "1hTrOv-8giR20RWGiFJNQJaUm9Fky3nCT",
      "authorship_tag": "ABX9TyNu8/gp8ihRcEMaP+cmBQGi",
      "include_colab_link": true
    },
    "kernelspec": {
      "name": "python3",
      "display_name": "Python 3"
    },
    "language_info": {
      "name": "python"
    }
  },
  "cells": [
    {
      "cell_type": "markdown",
      "metadata": {
        "id": "view-in-github",
        "colab_type": "text"
      },
      "source": [
        "<a href=\"https://colab.research.google.com/github/makhijakabir/machine-learning/blob/main/bayesClassifierESF.ipynb\" target=\"_parent\"><img src=\"https://colab.research.google.com/assets/colab-badge.svg\" alt=\"Open In Colab\"/></a>"
      ]
    },
    {
      "cell_type": "markdown",
      "metadata": {
        "id": "0vvR8mcYJYKZ"
      },
      "source": [
        "#An Email Spam Filter using the Baye's Classifier"
      ]
    },
    {
      "cell_type": "markdown",
      "metadata": {
        "id": "T3U-o5TfJKuU"
      },
      "source": [
        "##Imports"
      ]
    },
    {
      "cell_type": "code",
      "metadata": {
        "id": "Q44aFpr1JG5l"
      },
      "source": [
        "from os import walk\n",
        "from os.path import join\n",
        "import pandas as pd"
      ],
      "execution_count": 30,
      "outputs": []
    },
    {
      "cell_type": "markdown",
      "metadata": {
        "id": "s99s4s4xJOAO"
      },
      "source": [
        "##constants (All the constant file paths)"
      ]
    },
    {
      "cell_type": "code",
      "metadata": {
        "id": "ebkBU5crJSN1"
      },
      "source": [
        "exampleFile = '/content/drive/MyDrive/Colab Notebooks/SpamData/01_Processing/practice_email.txt'\n",
        "spam1 = '/content/drive/MyDrive/Colab Notebooks/SpamData/01_Processing/spam_assassin_corpus/spam_1'\n",
        "spam2 = '/content/drive/MyDrive/Colab Notebooks/SpamData/01_Processing/spam_assassin_corpus/spam_2'\n",
        "notSpam1 = '/content/drive/MyDrive/Colab Notebooks/SpamData/01_Processing/spam_assassin_corpus/easy_ham_1'\n",
        "notSpam2 = '/content/drive/MyDrive/Colab Notebooks/SpamData/01_Processing/spam_assassin_corpus/easy_ham_2'\n",
        "\n",
        "spam = 1\n",
        "notSpam = 2"
      ],
      "execution_count": 31,
      "outputs": []
    },
    {
      "cell_type": "markdown",
      "metadata": {
        "id": "jE4eBmihKaeQ"
      },
      "source": [
        "##Reading Files"
      ]
    },
    {
      "cell_type": "code",
      "metadata": {
        "colab": {
          "base_uri": "https://localhost:8080/"
        },
        "id": "C8K1_2ewKMkl",
        "outputId": "04f10ed3-5e4c-43a5-9fe8-2254fe30e88b"
      },
      "source": [
        "#Prints the complete file with all the information\n",
        "\n",
        "stream = open(exampleFile, encoding='latin-1')\n",
        "message = stream.read()\n",
        "stream.close()\n",
        "\n",
        "print(message)"
      ],
      "execution_count": 32,
      "outputs": [
        {
          "output_type": "stream",
          "name": "stdout",
          "text": [
            "From exmh-workers-admin@redhat.com  Thu Aug 22 12:36:23 2002\n",
            "Return-Path: <exmh-workers-admin@spamassassin.taint.org>\n",
            "Delivered-To: zzzz@localhost.netnoteinc.com\n",
            "Received: from localhost (localhost [127.0.0.1])\n",
            "\tby phobos.labs.netnoteinc.com (Postfix) with ESMTP id D03E543C36\n",
            "\tfor <zzzz@localhost>; Thu, 22 Aug 2002 07:36:16 -0400 (EDT)\n",
            "Received: from phobos [127.0.0.1]\n",
            "\tby localhost with IMAP (fetchmail-5.9.0)\n",
            "\tfor zzzz@localhost (single-drop); Thu, 22 Aug 2002 12:36:16 +0100 (IST)\n",
            "Received: from listman.spamassassin.taint.org (listman.spamassassin.taint.org [66.187.233.211]) by\n",
            "    dogma.slashnull.org (8.11.6/8.11.6) with ESMTP id g7MBYrZ04811 for\n",
            "    <zzzz-exmh@spamassassin.taint.org>; Thu, 22 Aug 2002 12:34:53 +0100\n",
            "Received: from listman.spamassassin.taint.org (localhost.localdomain [127.0.0.1]) by\n",
            "    listman.redhat.com (Postfix) with ESMTP id 8386540858; Thu, 22 Aug 2002\n",
            "    07:35:02 -0400 (EDT)\n",
            "Delivered-To: exmh-workers@listman.spamassassin.taint.org\n",
            "Received: from int-mx1.corp.spamassassin.taint.org (int-mx1.corp.spamassassin.taint.org\n",
            "    [172.16.52.254]) by listman.redhat.com (Postfix) with ESMTP id 10CF8406D7\n",
            "    for <exmh-workers@listman.redhat.com>; Thu, 22 Aug 2002 07:34:10 -0400\n",
            "    (EDT)\n",
            "Received: (from mail@localhost) by int-mx1.corp.spamassassin.taint.org (8.11.6/8.11.6)\n",
            "    id g7MBY7g11259 for exmh-workers@listman.redhat.com; Thu, 22 Aug 2002\n",
            "    07:34:07 -0400\n",
            "Received: from mx1.spamassassin.taint.org (mx1.spamassassin.taint.org [172.16.48.31]) by\n",
            "    int-mx1.corp.redhat.com (8.11.6/8.11.6) with SMTP id g7MBY7Y11255 for\n",
            "    <exmh-workers@redhat.com>; Thu, 22 Aug 2002 07:34:07 -0400\n",
            "Received: from ratree.psu.ac.th ([202.28.97.6]) by mx1.spamassassin.taint.org\n",
            "    (8.11.6/8.11.6) with SMTP id g7MBIhl25223 for <exmh-workers@redhat.com>;\n",
            "    Thu, 22 Aug 2002 07:18:55 -0400\n",
            "Received: from delta.cs.mu.OZ.AU (delta.coe.psu.ac.th [172.30.0.98]) by\n",
            "    ratree.psu.ac.th (8.11.6/8.11.6) with ESMTP id g7MBWel29762;\n",
            "    Thu, 22 Aug 2002 18:32:40 +0700 (ICT)\n",
            "Received: from munnari.OZ.AU (localhost [127.0.0.1]) by delta.cs.mu.OZ.AU\n",
            "    (8.11.6/8.11.6) with ESMTP id g7MBQPW13260; Thu, 22 Aug 2002 18:26:25\n",
            "    +0700 (ICT)\n",
            "From: Robert Elz <kre@munnari.OZ.AU>\n",
            "To: Chris Garrigues <cwg-dated-1030377287.06fa6d@DeepEddy.Com>\n",
            "Cc: exmh-workers@spamassassin.taint.org\n",
            "Subject: Re: New Sequences Window\n",
            "In-Reply-To: <1029945287.4797.TMDA@deepeddy.vircio.com>\n",
            "References: <1029945287.4797.TMDA@deepeddy.vircio.com>\n",
            "    <1029882468.3116.TMDA@deepeddy.vircio.com> <9627.1029933001@munnari.OZ.AU>\n",
            "    <1029943066.26919.TMDA@deepeddy.vircio.com>\n",
            "    <1029944441.398.TMDA@deepeddy.vircio.com>\n",
            "MIME-Version: 1.0\n",
            "Content-Type: text/plain; charset=us-ascii\n",
            "Message-Id: <13258.1030015585@munnari.OZ.AU>\n",
            "X-Loop: exmh-workers@spamassassin.taint.org\n",
            "Sender: exmh-workers-admin@spamassassin.taint.org\n",
            "Errors-To: exmh-workers-admin@spamassassin.taint.org\n",
            "X-Beenthere: exmh-workers@spamassassin.taint.org\n",
            "X-Mailman-Version: 2.0.1\n",
            "Precedence: bulk\n",
            "List-Help: <mailto:exmh-workers-request@spamassassin.taint.org?subject=help>\n",
            "List-Post: <mailto:exmh-workers@spamassassin.taint.org>\n",
            "List-Subscribe: <https://listman.spamassassin.taint.org/mailman/listinfo/exmh-workers>,\n",
            "    <mailto:exmh-workers-request@redhat.com?subject=subscribe>\n",
            "List-Id: Discussion list for EXMH developers <exmh-workers.spamassassin.taint.org>\n",
            "List-Unsubscribe: <https://listman.spamassassin.taint.org/mailman/listinfo/exmh-workers>,\n",
            "    <mailto:exmh-workers-request@redhat.com?subject=unsubscribe>\n",
            "List-Archive: <https://listman.spamassassin.taint.org/mailman/private/exmh-workers/>\n",
            "Date: Thu, 22 Aug 2002 18:26:25 +0700\n",
            "\n",
            "\n",
            "Dear Mr Still\n",
            "\n",
            "Good tidings to you and all your staff for the festive season ahead (Christmas).\n",
            "Now to the crux of the matter-in-hand: I am a fully qualified Santa Claus and am wondering whether you might consider me to run my own \"Santa's Grotto\" in your store.\n",
            "But WAIT! You're probably thinking: \"What makes him so special?\"\n",
            "Well, first of all, I have made several changes to the characterisation of Father Christmas. Rather than greeting the children with shouts of \"Ho, ho, ho!\" I prefer to whisper the phrase \"Dependence is not unfathomable in this cruel world we live in\". In addition, my gifts are ALL hand-made, ranging from felt hoops to vanilla-pod holders.\n",
            "You will note also, from the enclosed sketch, that I have radically redesigned Santa's outfit and have renamed my character \"Lord Buckles\". Would you be interested in employing me? I promise NEVER to let you down.\n",
            "I look forward to hearing from you.\n",
            "\n",
            "Best wishes\n",
            "Robin Cooper\n",
            "[Excerpt from the book: The Timewaster Letters by Robin Cooper]\n",
            "\n"
          ]
        }
      ]
    },
    {
      "cell_type": "code",
      "metadata": {
        "colab": {
          "base_uri": "https://localhost:8080/"
        },
        "id": "tT8Sds7JK0e7",
        "outputId": "38d2e932-b93d-414b-b0eb-672871339bed"
      },
      "source": [
        " #Prints only the body of the emails\n",
        "\n",
        "isBody = False\n",
        "mainList = []\n",
        "\n",
        "stream = open(exampleFile, encoding='latin-1')\n",
        "\n",
        "for line in stream:\n",
        "    if isBody:\n",
        "        mainList.append(line)\n",
        "    elif line == '\\n':\n",
        "        isBody = True\n",
        "\n",
        "stream.close()\n",
        "\n",
        "finalBody = '\\n'.join(mainList)\n",
        "print(finalBody)"
      ],
      "execution_count": 33,
      "outputs": [
        {
          "output_type": "stream",
          "name": "stdout",
          "text": [
            "\n",
            "\n",
            "Dear Mr Still\n",
            "\n",
            "\n",
            "\n",
            "Good tidings to you and all your staff for the festive season ahead (Christmas).\n",
            "\n",
            "Now to the crux of the matter-in-hand: I am a fully qualified Santa Claus and am wondering whether you might consider me to run my own \"Santa's Grotto\" in your store.\n",
            "\n",
            "But WAIT! You're probably thinking: \"What makes him so special?\"\n",
            "\n",
            "Well, first of all, I have made several changes to the characterisation of Father Christmas. Rather than greeting the children with shouts of \"Ho, ho, ho!\" I prefer to whisper the phrase \"Dependence is not unfathomable in this cruel world we live in\". In addition, my gifts are ALL hand-made, ranging from felt hoops to vanilla-pod holders.\n",
            "\n",
            "You will note also, from the enclosed sketch, that I have radically redesigned Santa's outfit and have renamed my character \"Lord Buckles\". Would you be interested in employing me? I promise NEVER to let you down.\n",
            "\n",
            "I look forward to hearing from you.\n",
            "\n",
            "\n",
            "\n",
            "Best wishes\n",
            "\n",
            "Robin Cooper\n",
            "\n",
            "[Excerpt from the book: The Timewaster Letters by Robin Cooper]\n",
            "\n"
          ]
        }
      ]
    },
    {
      "cell_type": "markdown",
      "metadata": {
        "id": "DvqUwco7YPhA"
      },
      "source": [
        "##Extraction of all the EMail Bodies using generator functions"
      ]
    },
    {
      "cell_type": "code",
      "metadata": {
        "id": "nYEm96UMOMOs"
      },
      "source": [
        "def emailBodyGen(path):\n",
        "\n",
        "    for root, dirname, filenames in walk(path):\n",
        "        for fileName in filenames:\n",
        "\n",
        "            filepath = join(root, fileName)\n",
        "\n",
        "            stream = open(filepath, encoding='latin-1')\n",
        "\n",
        "            isBody = False\n",
        "            mainList = []\n",
        "\n",
        "            for line in stream:\n",
        "                if isBody:\n",
        "                    mainList.append(line)\n",
        "                elif line == '\\n':\n",
        "                    isBody = True\n",
        "\n",
        "            stream.close()\n",
        "\n",
        "            finalBody = '\\n'.join(mainList)\n",
        "            \n",
        "            yield fileName, finalBody"
      ],
      "execution_count": 34,
      "outputs": []
    },
    {
      "cell_type": "code",
      "metadata": {
        "id": "YPTszd0HZmrm"
      },
      "source": [
        "def dfFromDir(path, classify):\n",
        "    \n",
        "    rows = []\n",
        "    rowNames = []\n",
        "\n",
        "    for fileName, finalBody in emailBodyGen(path):\n",
        "        rows.append({'CATEGORY': classify, 'MESSAGE': finalBody})\n",
        "        rowNames.append(fileName)\n",
        "\n",
        "    return pd.DataFrame(rows, index=rowNames) "
      ],
      "execution_count": 35,
      "outputs": []
    },
    {
      "cell_type": "code",
      "metadata": {
        "colab": {
          "base_uri": "https://localhost:8080/",
          "height": 408
        },
        "id": "LkQsTFj5bGvk",
        "outputId": "bf92a968-5550-4898-9c4f-a82a1f892b1e"
      },
      "source": [
        "spamEmails = dfFromDir(spam1, spam)\n",
        "spamEmails = spamEmails.append(dfFromDir(spam2, spam))\n",
        "spamEmails = spamEmails.append(dfFromDir(notSpam1, notSpam))\n",
        "spamEmails = spamEmails.append(dfFromDir(notSpam2, notSpam))\n",
        "spamEmails"
      ],
      "execution_count": 37,
      "outputs": [
        {
          "output_type": "execute_result",
          "data": {
            "text/html": [
              "<div>\n",
              "<style scoped>\n",
              "    .dataframe tbody tr th:only-of-type {\n",
              "        vertical-align: middle;\n",
              "    }\n",
              "\n",
              "    .dataframe tbody tr th {\n",
              "        vertical-align: top;\n",
              "    }\n",
              "\n",
              "    .dataframe thead th {\n",
              "        text-align: right;\n",
              "    }\n",
              "</style>\n",
              "<table border=\"1\" class=\"dataframe\">\n",
              "  <thead>\n",
              "    <tr style=\"text-align: right;\">\n",
              "      <th></th>\n",
              "      <th>CATEGORY</th>\n",
              "      <th>MESSAGE</th>\n",
              "    </tr>\n",
              "  </thead>\n",
              "  <tbody>\n",
              "    <tr>\n",
              "      <th>00273.0c7d73771d79e84e2aab8c909c5bb210</th>\n",
              "      <td>1</td>\n",
              "      <td>This is a multi-part message in MIME format.\\n...</td>\n",
              "    </tr>\n",
              "    <tr>\n",
              "      <th>00154.b6c448ccff434e2dbe2c7c200a36aa31</th>\n",
              "      <td>1</td>\n",
              "      <td>On January 1st 2002, the European countries be...</td>\n",
              "    </tr>\n",
              "    <tr>\n",
              "      <th>00223.349b9b0748ee72bad60729ffaae2cc00</th>\n",
              "      <td>1</td>\n",
              "      <td>This is a multi-part message in MIME format.\\n...</td>\n",
              "    </tr>\n",
              "    <tr>\n",
              "      <th>00351.fd1b8a6cd42e81125fb38c2660cd9317</th>\n",
              "      <td>1</td>\n",
              "      <td>&lt;!DOCTYPE HTML PUBLIC \"-//W3C//DTD HTML 3.2//E...</td>\n",
              "    </tr>\n",
              "    <tr>\n",
              "      <th>00001.7848dde101aa985090474a91ec93fcf0</th>\n",
              "      <td>1</td>\n",
              "      <td>&lt;!DOCTYPE HTML PUBLIC \"-//W3C//DTD HTML 4.0 Tr...</td>\n",
              "    </tr>\n",
              "    <tr>\n",
              "      <th>...</th>\n",
              "      <td>...</td>\n",
              "      <td>...</td>\n",
              "    </tr>\n",
              "    <tr>\n",
              "      <th>00695.2de9d6d30a7713e550b4fd02bb35e7b4</th>\n",
              "      <td>2</td>\n",
              "      <td>\"This is a very tenuous time for Microsoft,\" G...</td>\n",
              "    </tr>\n",
              "    <tr>\n",
              "      <th>01137.e0afde7fc471f626742746c738013750</th>\n",
              "      <td>2</td>\n",
              "      <td>On 21 Jul 2002 23:59:59 +1200\\n\\nMark Derricut...</td>\n",
              "    </tr>\n",
              "    <tr>\n",
              "      <th>01294.7f208bf4ae152863fd40f25e2e121d49</th>\n",
              "      <td>2</td>\n",
              "      <td>Pablo Sofware Solutions FTP server Directory T...</td>\n",
              "    </tr>\n",
              "    <tr>\n",
              "      <th>00747.352d424267d36975a7b40b85ffd0885e</th>\n",
              "      <td>2</td>\n",
              "      <td>If you run Pick, and then use the \"New FTOC\" b...</td>\n",
              "    </tr>\n",
              "    <tr>\n",
              "      <th>00654.7e84d693f6d2dc216aa501c47db607f7</th>\n",
              "      <td>2</td>\n",
              "      <td>On Wed, 14 Aug 2002, Chip Paswater wrote:\\n\\n\\...</td>\n",
              "    </tr>\n",
              "  </tbody>\n",
              "</table>\n",
              "<p>5799 rows × 2 columns</p>\n",
              "</div>"
            ],
            "text/plain": [
              "                                        CATEGORY                                            MESSAGE\n",
              "00273.0c7d73771d79e84e2aab8c909c5bb210         1  This is a multi-part message in MIME format.\\n...\n",
              "00154.b6c448ccff434e2dbe2c7c200a36aa31         1  On January 1st 2002, the European countries be...\n",
              "00223.349b9b0748ee72bad60729ffaae2cc00         1  This is a multi-part message in MIME format.\\n...\n",
              "00351.fd1b8a6cd42e81125fb38c2660cd9317         1  <!DOCTYPE HTML PUBLIC \"-//W3C//DTD HTML 3.2//E...\n",
              "00001.7848dde101aa985090474a91ec93fcf0         1  <!DOCTYPE HTML PUBLIC \"-//W3C//DTD HTML 4.0 Tr...\n",
              "...                                          ...                                                ...\n",
              "00695.2de9d6d30a7713e550b4fd02bb35e7b4         2  \"This is a very tenuous time for Microsoft,\" G...\n",
              "01137.e0afde7fc471f626742746c738013750         2  On 21 Jul 2002 23:59:59 +1200\\n\\nMark Derricut...\n",
              "01294.7f208bf4ae152863fd40f25e2e121d49         2  Pablo Sofware Solutions FTP server Directory T...\n",
              "00747.352d424267d36975a7b40b85ffd0885e         2  If you run Pick, and then use the \"New FTOC\" b...\n",
              "00654.7e84d693f6d2dc216aa501c47db607f7         2  On Wed, 14 Aug 2002, Chip Paswater wrote:\\n\\n\\...\n",
              "\n",
              "[5799 rows x 2 columns]"
            ]
          },
          "metadata": {},
          "execution_count": 37
        }
      ]
    },
    {
      "cell_type": "code",
      "metadata": {
        "id": "ZeoWJO2kbOVT"
      },
      "source": [
        ""
      ],
      "execution_count": null,
      "outputs": []
    }
  ]
}