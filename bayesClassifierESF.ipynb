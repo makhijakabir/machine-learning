{
  "nbformat": 4,
  "nbformat_minor": 0,
  "metadata": {
    "colab": {
      "name": "bayesClassifierESF",
      "provenance": [],
      "mount_file_id": "1hTrOv-8giR20RWGiFJNQJaUm9Fky3nCT",
      "authorship_tag": "ABX9TyNtEDAWzyAatL54bHP007vg",
      "include_colab_link": true
    },
    "kernelspec": {
      "name": "python3",
      "display_name": "Python 3"
    },
    "language_info": {
      "name": "python"
    }
  },
  "cells": [
    {
      "cell_type": "markdown",
      "metadata": {
        "id": "view-in-github",
        "colab_type": "text"
      },
      "source": [
        "<a href=\"https://colab.research.google.com/github/makhijakabir/machine-learning/blob/main/bayesClassifierESF.ipynb\" target=\"_parent\"><img src=\"https://colab.research.google.com/assets/colab-badge.svg\" alt=\"Open In Colab\"/></a>"
      ]
    },
    {
      "cell_type": "markdown",
      "metadata": {
        "id": "0vvR8mcYJYKZ"
      },
      "source": [
        "#An Email Spam Filter using the Baye's Classifier"
      ]
    },
    {
      "cell_type": "markdown",
      "metadata": {
        "id": "T3U-o5TfJKuU"
      },
      "source": [
        "##Imports"
      ]
    },
    {
      "cell_type": "code",
      "metadata": {
        "id": "Q44aFpr1JG5l"
      },
      "source": [
        "from os import walk\n",
        "from os.path import join\n",
        "\n",
        "import pandas as pd\n",
        "import matplotlib.pyplot as plt\n",
        "\n",
        "import nltk\n",
        "from nltk.stem import PorterStemmer\n",
        "from nltk.corpus import stopwords\n",
        "from nltk.tokenize import word_tokenize\n",
        "\n",
        "from bs4 import BeautifulSoup\n",
        "\n",
        "%matplotlib inline"
      ],
      "execution_count": 77,
      "outputs": []
    },
    {
      "cell_type": "markdown",
      "metadata": {
        "id": "s99s4s4xJOAO"
      },
      "source": [
        "##Constants (All the constant file paths)"
      ]
    },
    {
      "cell_type": "code",
      "metadata": {
        "id": "ebkBU5crJSN1"
      },
      "source": [
        "exampleFile = '/content/drive/MyDrive/Colab Notebooks/SpamData/01_Processing/practice_email.txt'\n",
        "\n",
        "spam1 = '/content/drive/MyDrive/Colab Notebooks/SpamData/01_Processing/spam_assassin_corpus/spam_1'\n",
        "spam2 = '/content/drive/MyDrive/Colab Notebooks/SpamData/01_Processing/spam_assassin_corpus/spam_2'\n",
        "\n",
        "notSpam1 = '/content/drive/MyDrive/Colab Notebooks/SpamData/01_Processing/spam_assassin_corpus/easy_ham_1'\n",
        "notSpam2 = '/content/drive/MyDrive/Colab Notebooks/SpamData/01_Processing/spam_assassin_corpus/easy_ham_2'\n",
        "\n",
        "spam = 1\n",
        "notSpam = 0\n",
        "\n",
        "dataJSON = '/content/drive/MyDrive/Colab Notebooks/SpamData/01_Processing/exmail-test-data.json'"
      ],
      "execution_count": 78,
      "outputs": []
    },
    {
      "cell_type": "markdown",
      "metadata": {
        "id": "jE4eBmihKaeQ"
      },
      "source": [
        "##Reading Files"
      ]
    },
    {
      "cell_type": "code",
      "metadata": {
        "colab": {
          "base_uri": "https://localhost:8080/"
        },
        "id": "C8K1_2ewKMkl",
        "outputId": "335c96f6-32a9-4c51-94c2-a0e2277d00c9"
      },
      "source": [
        "#Prints the complete file with all the information\n",
        "\n",
        "stream = open(exampleFile, encoding='latin-1')\n",
        "message = stream.read()\n",
        "stream.close()\n",
        "\n",
        "print(message)"
      ],
      "execution_count": 79,
      "outputs": [
        {
          "output_type": "stream",
          "name": "stdout",
          "text": [
            "From exmh-workers-admin@redhat.com  Thu Aug 22 12:36:23 2002\n",
            "Return-Path: <exmh-workers-admin@spamassassin.taint.org>\n",
            "Delivered-To: zzzz@localhost.netnoteinc.com\n",
            "Received: from localhost (localhost [127.0.0.1])\n",
            "\tby phobos.labs.netnoteinc.com (Postfix) with ESMTP id D03E543C36\n",
            "\tfor <zzzz@localhost>; Thu, 22 Aug 2002 07:36:16 -0400 (EDT)\n",
            "Received: from phobos [127.0.0.1]\n",
            "\tby localhost with IMAP (fetchmail-5.9.0)\n",
            "\tfor zzzz@localhost (single-drop); Thu, 22 Aug 2002 12:36:16 +0100 (IST)\n",
            "Received: from listman.spamassassin.taint.org (listman.spamassassin.taint.org [66.187.233.211]) by\n",
            "    dogma.slashnull.org (8.11.6/8.11.6) with ESMTP id g7MBYrZ04811 for\n",
            "    <zzzz-exmh@spamassassin.taint.org>; Thu, 22 Aug 2002 12:34:53 +0100\n",
            "Received: from listman.spamassassin.taint.org (localhost.localdomain [127.0.0.1]) by\n",
            "    listman.redhat.com (Postfix) with ESMTP id 8386540858; Thu, 22 Aug 2002\n",
            "    07:35:02 -0400 (EDT)\n",
            "Delivered-To: exmh-workers@listman.spamassassin.taint.org\n",
            "Received: from int-mx1.corp.spamassassin.taint.org (int-mx1.corp.spamassassin.taint.org\n",
            "    [172.16.52.254]) by listman.redhat.com (Postfix) with ESMTP id 10CF8406D7\n",
            "    for <exmh-workers@listman.redhat.com>; Thu, 22 Aug 2002 07:34:10 -0400\n",
            "    (EDT)\n",
            "Received: (from mail@localhost) by int-mx1.corp.spamassassin.taint.org (8.11.6/8.11.6)\n",
            "    id g7MBY7g11259 for exmh-workers@listman.redhat.com; Thu, 22 Aug 2002\n",
            "    07:34:07 -0400\n",
            "Received: from mx1.spamassassin.taint.org (mx1.spamassassin.taint.org [172.16.48.31]) by\n",
            "    int-mx1.corp.redhat.com (8.11.6/8.11.6) with SMTP id g7MBY7Y11255 for\n",
            "    <exmh-workers@redhat.com>; Thu, 22 Aug 2002 07:34:07 -0400\n",
            "Received: from ratree.psu.ac.th ([202.28.97.6]) by mx1.spamassassin.taint.org\n",
            "    (8.11.6/8.11.6) with SMTP id g7MBIhl25223 for <exmh-workers@redhat.com>;\n",
            "    Thu, 22 Aug 2002 07:18:55 -0400\n",
            "Received: from delta.cs.mu.OZ.AU (delta.coe.psu.ac.th [172.30.0.98]) by\n",
            "    ratree.psu.ac.th (8.11.6/8.11.6) with ESMTP id g7MBWel29762;\n",
            "    Thu, 22 Aug 2002 18:32:40 +0700 (ICT)\n",
            "Received: from munnari.OZ.AU (localhost [127.0.0.1]) by delta.cs.mu.OZ.AU\n",
            "    (8.11.6/8.11.6) with ESMTP id g7MBQPW13260; Thu, 22 Aug 2002 18:26:25\n",
            "    +0700 (ICT)\n",
            "From: Robert Elz <kre@munnari.OZ.AU>\n",
            "To: Chris Garrigues <cwg-dated-1030377287.06fa6d@DeepEddy.Com>\n",
            "Cc: exmh-workers@spamassassin.taint.org\n",
            "Subject: Re: New Sequences Window\n",
            "In-Reply-To: <1029945287.4797.TMDA@deepeddy.vircio.com>\n",
            "References: <1029945287.4797.TMDA@deepeddy.vircio.com>\n",
            "    <1029882468.3116.TMDA@deepeddy.vircio.com> <9627.1029933001@munnari.OZ.AU>\n",
            "    <1029943066.26919.TMDA@deepeddy.vircio.com>\n",
            "    <1029944441.398.TMDA@deepeddy.vircio.com>\n",
            "MIME-Version: 1.0\n",
            "Content-Type: text/plain; charset=us-ascii\n",
            "Message-Id: <13258.1030015585@munnari.OZ.AU>\n",
            "X-Loop: exmh-workers@spamassassin.taint.org\n",
            "Sender: exmh-workers-admin@spamassassin.taint.org\n",
            "Errors-To: exmh-workers-admin@spamassassin.taint.org\n",
            "X-Beenthere: exmh-workers@spamassassin.taint.org\n",
            "X-Mailman-Version: 2.0.1\n",
            "Precedence: bulk\n",
            "List-Help: <mailto:exmh-workers-request@spamassassin.taint.org?subject=help>\n",
            "List-Post: <mailto:exmh-workers@spamassassin.taint.org>\n",
            "List-Subscribe: <https://listman.spamassassin.taint.org/mailman/listinfo/exmh-workers>,\n",
            "    <mailto:exmh-workers-request@redhat.com?subject=subscribe>\n",
            "List-Id: Discussion list for EXMH developers <exmh-workers.spamassassin.taint.org>\n",
            "List-Unsubscribe: <https://listman.spamassassin.taint.org/mailman/listinfo/exmh-workers>,\n",
            "    <mailto:exmh-workers-request@redhat.com?subject=unsubscribe>\n",
            "List-Archive: <https://listman.spamassassin.taint.org/mailman/private/exmh-workers/>\n",
            "Date: Thu, 22 Aug 2002 18:26:25 +0700\n",
            "\n",
            "\n",
            "Dear Mr Still\n",
            "\n",
            "Good tidings to you and all your staff for the festive season ahead (Christmas).\n",
            "Now to the crux of the matter-in-hand: I am a fully qualified Santa Claus and am wondering whether you might consider me to run my own \"Santa's Grotto\" in your store.\n",
            "But WAIT! You're probably thinking: \"What makes him so special?\"\n",
            "Well, first of all, I have made several changes to the characterisation of Father Christmas. Rather than greeting the children with shouts of \"Ho, ho, ho!\" I prefer to whisper the phrase \"Dependence is not unfathomable in this cruel world we live in\". In addition, my gifts are ALL hand-made, ranging from felt hoops to vanilla-pod holders.\n",
            "You will note also, from the enclosed sketch, that I have radically redesigned Santa's outfit and have renamed my character \"Lord Buckles\". Would you be interested in employing me? I promise NEVER to let you down.\n",
            "I look forward to hearing from you.\n",
            "\n",
            "Best wishes\n",
            "Robin Cooper\n",
            "[Excerpt from the book: The Timewaster Letters by Robin Cooper]\n",
            "\n"
          ]
        }
      ]
    },
    {
      "cell_type": "code",
      "metadata": {
        "colab": {
          "base_uri": "https://localhost:8080/"
        },
        "id": "tT8Sds7JK0e7",
        "outputId": "0113c2a3-3f6f-4f2b-934d-b4ceb7b4fd45"
      },
      "source": [
        " #Prints only the body of the emails\n",
        "\n",
        "isBody = False\n",
        "mainList = []\n",
        "\n",
        "stream = open(exampleFile, encoding='latin-1')\n",
        "\n",
        "for line in stream:\n",
        "    if isBody:\n",
        "        mainList.append(line)\n",
        "    elif line == '\\n':\n",
        "        isBody = True\n",
        "\n",
        "stream.close()\n",
        "\n",
        "finalBody = '\\n'.join(mainList)\n",
        "print(finalBody)"
      ],
      "execution_count": 80,
      "outputs": [
        {
          "output_type": "stream",
          "name": "stdout",
          "text": [
            "\n",
            "\n",
            "Dear Mr Still\n",
            "\n",
            "\n",
            "\n",
            "Good tidings to you and all your staff for the festive season ahead (Christmas).\n",
            "\n",
            "Now to the crux of the matter-in-hand: I am a fully qualified Santa Claus and am wondering whether you might consider me to run my own \"Santa's Grotto\" in your store.\n",
            "\n",
            "But WAIT! You're probably thinking: \"What makes him so special?\"\n",
            "\n",
            "Well, first of all, I have made several changes to the characterisation of Father Christmas. Rather than greeting the children with shouts of \"Ho, ho, ho!\" I prefer to whisper the phrase \"Dependence is not unfathomable in this cruel world we live in\". In addition, my gifts are ALL hand-made, ranging from felt hoops to vanilla-pod holders.\n",
            "\n",
            "You will note also, from the enclosed sketch, that I have radically redesigned Santa's outfit and have renamed my character \"Lord Buckles\". Would you be interested in employing me? I promise NEVER to let you down.\n",
            "\n",
            "I look forward to hearing from you.\n",
            "\n",
            "\n",
            "\n",
            "Best wishes\n",
            "\n",
            "Robin Cooper\n",
            "\n",
            "[Excerpt from the book: The Timewaster Letters by Robin Cooper]\n",
            "\n"
          ]
        }
      ]
    },
    {
      "cell_type": "markdown",
      "metadata": {
        "id": "DvqUwco7YPhA"
      },
      "source": [
        "##Extraction of all the EMail Bodies using generator functions"
      ]
    },
    {
      "cell_type": "code",
      "metadata": {
        "id": "nYEm96UMOMOs"
      },
      "source": [
        "def emailBodyGen(path):\n",
        "\n",
        "    for root, dirname, filenames in walk(path):\n",
        "        for fileName in filenames:\n",
        "\n",
        "            filepath = join(root, fileName)\n",
        "\n",
        "            stream = open(filepath, encoding='latin-1')\n",
        "\n",
        "            isBody = False\n",
        "            mainList = []\n",
        "\n",
        "            for line in stream:\n",
        "                if isBody:\n",
        "                    mainList.append(line)\n",
        "                elif line == '\\n':\n",
        "                    isBody = True\n",
        "\n",
        "            stream.close()\n",
        "\n",
        "            finalBody = '\\n'.join(mainList)\n",
        "            \n",
        "            yield fileName, finalBody"
      ],
      "execution_count": 81,
      "outputs": []
    },
    {
      "cell_type": "code",
      "metadata": {
        "id": "YPTszd0HZmrm"
      },
      "source": [
        "def dfFromDir(path, classify):\n",
        "    \n",
        "    rows = []\n",
        "    rowNames = []\n",
        "\n",
        "    for fileName, finalBody in emailBodyGen(path):\n",
        "        rows.append({'CATEGORY': classify, 'MESSAGE': finalBody})\n",
        "        rowNames.append(fileName)\n",
        "\n",
        "    return pd.DataFrame(rows, index=rowNames) "
      ],
      "execution_count": 82,
      "outputs": []
    },
    {
      "cell_type": "code",
      "metadata": {
        "colab": {
          "base_uri": "https://localhost:8080/",
          "height": 408
        },
        "id": "LkQsTFj5bGvk",
        "outputId": "47f2ac76-d1d4-490e-884e-011d5442df44"
      },
      "source": [
        "#Storing the spam emails in a spamEmails dataframe\n",
        "\n",
        "spamEmails = dfFromDir(spam1, spam)\n",
        "spamEmails = spamEmails.append(dfFromDir(spam2, spam))\n",
        "spamEmails"
      ],
      "execution_count": 83,
      "outputs": [
        {
          "output_type": "execute_result",
          "data": {
            "text/html": [
              "<div>\n",
              "<style scoped>\n",
              "    .dataframe tbody tr th:only-of-type {\n",
              "        vertical-align: middle;\n",
              "    }\n",
              "\n",
              "    .dataframe tbody tr th {\n",
              "        vertical-align: top;\n",
              "    }\n",
              "\n",
              "    .dataframe thead th {\n",
              "        text-align: right;\n",
              "    }\n",
              "</style>\n",
              "<table border=\"1\" class=\"dataframe\">\n",
              "  <thead>\n",
              "    <tr style=\"text-align: right;\">\n",
              "      <th></th>\n",
              "      <th>CATEGORY</th>\n",
              "      <th>MESSAGE</th>\n",
              "    </tr>\n",
              "  </thead>\n",
              "  <tbody>\n",
              "    <tr>\n",
              "      <th>00273.0c7d73771d79e84e2aab8c909c5bb210</th>\n",
              "      <td>1</td>\n",
              "      <td>This is a multi-part message in MIME format.\\n...</td>\n",
              "    </tr>\n",
              "    <tr>\n",
              "      <th>00154.b6c448ccff434e2dbe2c7c200a36aa31</th>\n",
              "      <td>1</td>\n",
              "      <td>On January 1st 2002, the European countries be...</td>\n",
              "    </tr>\n",
              "    <tr>\n",
              "      <th>00223.349b9b0748ee72bad60729ffaae2cc00</th>\n",
              "      <td>1</td>\n",
              "      <td>This is a multi-part message in MIME format.\\n...</td>\n",
              "    </tr>\n",
              "    <tr>\n",
              "      <th>00351.fd1b8a6cd42e81125fb38c2660cd9317</th>\n",
              "      <td>1</td>\n",
              "      <td>&lt;!DOCTYPE HTML PUBLIC \"-//W3C//DTD HTML 3.2//E...</td>\n",
              "    </tr>\n",
              "    <tr>\n",
              "      <th>00001.7848dde101aa985090474a91ec93fcf0</th>\n",
              "      <td>1</td>\n",
              "      <td>&lt;!DOCTYPE HTML PUBLIC \"-//W3C//DTD HTML 4.0 Tr...</td>\n",
              "    </tr>\n",
              "    <tr>\n",
              "      <th>...</th>\n",
              "      <td>...</td>\n",
              "      <td>...</td>\n",
              "    </tr>\n",
              "    <tr>\n",
              "      <th>00521.70417de823222858b4100b6030a64168</th>\n",
              "      <td>1</td>\n",
              "      <td>BUY 2 ADULT DVDs AT REGULAR PRICE AND GET A TH...</td>\n",
              "    </tr>\n",
              "    <tr>\n",
              "      <th>00484.602c7afb217663a43dd5fa24d97d1ca4</th>\n",
              "      <td>1</td>\n",
              "      <td>------=_NextPart_000_0066_62CFF34B.9C652FBA\\n\\...</td>\n",
              "    </tr>\n",
              "    <tr>\n",
              "      <th>00580.c3b23134b4767f5e796d0df997fede33</th>\n",
              "      <td>1</td>\n",
              "      <td>\\n\\n&lt;html&gt;\\n\\n\\n\\n&lt;head&gt;\\n\\n&lt;/head&gt;\\n\\n\\n\\n&lt;bo...</td>\n",
              "    </tr>\n",
              "    <tr>\n",
              "      <th>00320.a4e760741d537aef50c4c0b950329225</th>\n",
              "      <td>1</td>\n",
              "      <td>&lt;=21DOCTYPE HTML PUBLIC =22-//W3C//DTD HTML 4....</td>\n",
              "    </tr>\n",
              "    <tr>\n",
              "      <th>00642.f213f657ab630999a8d34c26060d79fc</th>\n",
              "      <td>1</td>\n",
              "      <td>\\n\\nGET PAID    for it !\\n\\n\\n\\nLOOKING FOR AM...</td>\n",
              "    </tr>\n",
              "  </tbody>\n",
              "</table>\n",
              "<p>1898 rows × 2 columns</p>\n",
              "</div>"
            ],
            "text/plain": [
              "                                        CATEGORY                                            MESSAGE\n",
              "00273.0c7d73771d79e84e2aab8c909c5bb210         1  This is a multi-part message in MIME format.\\n...\n",
              "00154.b6c448ccff434e2dbe2c7c200a36aa31         1  On January 1st 2002, the European countries be...\n",
              "00223.349b9b0748ee72bad60729ffaae2cc00         1  This is a multi-part message in MIME format.\\n...\n",
              "00351.fd1b8a6cd42e81125fb38c2660cd9317         1  <!DOCTYPE HTML PUBLIC \"-//W3C//DTD HTML 3.2//E...\n",
              "00001.7848dde101aa985090474a91ec93fcf0         1  <!DOCTYPE HTML PUBLIC \"-//W3C//DTD HTML 4.0 Tr...\n",
              "...                                          ...                                                ...\n",
              "00521.70417de823222858b4100b6030a64168         1  BUY 2 ADULT DVDs AT REGULAR PRICE AND GET A TH...\n",
              "00484.602c7afb217663a43dd5fa24d97d1ca4         1  ------=_NextPart_000_0066_62CFF34B.9C652FBA\\n\\...\n",
              "00580.c3b23134b4767f5e796d0df997fede33         1  \\n\\n<html>\\n\\n\\n\\n<head>\\n\\n</head>\\n\\n\\n\\n<bo...\n",
              "00320.a4e760741d537aef50c4c0b950329225         1  <=21DOCTYPE HTML PUBLIC =22-//W3C//DTD HTML 4....\n",
              "00642.f213f657ab630999a8d34c26060d79fc         1  \\n\\nGET PAID    for it !\\n\\n\\n\\nLOOKING FOR AM...\n",
              "\n",
              "[1898 rows x 2 columns]"
            ]
          },
          "metadata": {},
          "execution_count": 83
        }
      ]
    },
    {
      "cell_type": "code",
      "metadata": {
        "colab": {
          "base_uri": "https://localhost:8080/",
          "height": 408
        },
        "id": "4TN8ClCYkAxz",
        "outputId": "3f977684-41c7-4f76-fbae-609bf75e1135"
      },
      "source": [
        "#Storing non spam emails in a notSpaEmails dataframe\n",
        "\n",
        "notSpamEmails = dfFromDir(notSpam1, notSpam)\n",
        "notSpamEmails = notSpamEmails.append(dfFromDir(notSpam2, notSpam))\n",
        "notSpamEmails"
      ],
      "execution_count": 84,
      "outputs": [
        {
          "output_type": "execute_result",
          "data": {
            "text/html": [
              "<div>\n",
              "<style scoped>\n",
              "    .dataframe tbody tr th:only-of-type {\n",
              "        vertical-align: middle;\n",
              "    }\n",
              "\n",
              "    .dataframe tbody tr th {\n",
              "        vertical-align: top;\n",
              "    }\n",
              "\n",
              "    .dataframe thead th {\n",
              "        text-align: right;\n",
              "    }\n",
              "</style>\n",
              "<table border=\"1\" class=\"dataframe\">\n",
              "  <thead>\n",
              "    <tr style=\"text-align: right;\">\n",
              "      <th></th>\n",
              "      <th>CATEGORY</th>\n",
              "      <th>MESSAGE</th>\n",
              "    </tr>\n",
              "  </thead>\n",
              "  <tbody>\n",
              "    <tr>\n",
              "      <th>01565.c10c0b0e0c9903345e28f9c17fc84400</th>\n",
              "      <td>0</td>\n",
              "      <td>\\n\\n--iJXiJc/TAIT2rh2r\\n\\nContent-Type: text/p...</td>\n",
              "    </tr>\n",
              "    <tr>\n",
              "      <th>01433.4392b7c4884f0f218e74a0b86cc5b8c3</th>\n",
              "      <td>0</td>\n",
              "      <td>\\n\\n\"zeek\" said:\\n\\n\\n\\n&gt; This was thoroughly ...</td>\n",
              "    </tr>\n",
              "    <tr>\n",
              "      <th>01413.d1561ddcf3ead3a670b4516b3337216c</th>\n",
              "      <td>0</td>\n",
              "      <td>&gt; &gt; Is the use of \"trusted hardware\" really wo...</td>\n",
              "    </tr>\n",
              "    <tr>\n",
              "      <th>01856.c021a63248e3e6a2e151b67689d75e13</th>\n",
              "      <td>0</td>\n",
              "      <td>URL: http://diveintomark.org/archives/2002/09/...</td>\n",
              "    </tr>\n",
              "    <tr>\n",
              "      <th>01498.e0d9701d1bf2798b86efb602a44d072b</th>\n",
              "      <td>0</td>\n",
              "      <td>http://www.hughes-family.org/bugzilla/show_bug...</td>\n",
              "    </tr>\n",
              "    <tr>\n",
              "      <th>...</th>\n",
              "      <td>...</td>\n",
              "      <td>...</td>\n",
              "    </tr>\n",
              "    <tr>\n",
              "      <th>00695.2de9d6d30a7713e550b4fd02bb35e7b4</th>\n",
              "      <td>0</td>\n",
              "      <td>\"This is a very tenuous time for Microsoft,\" G...</td>\n",
              "    </tr>\n",
              "    <tr>\n",
              "      <th>01137.e0afde7fc471f626742746c738013750</th>\n",
              "      <td>0</td>\n",
              "      <td>On 21 Jul 2002 23:59:59 +1200\\n\\nMark Derricut...</td>\n",
              "    </tr>\n",
              "    <tr>\n",
              "      <th>01294.7f208bf4ae152863fd40f25e2e121d49</th>\n",
              "      <td>0</td>\n",
              "      <td>Pablo Sofware Solutions FTP server Directory T...</td>\n",
              "    </tr>\n",
              "    <tr>\n",
              "      <th>00747.352d424267d36975a7b40b85ffd0885e</th>\n",
              "      <td>0</td>\n",
              "      <td>If you run Pick, and then use the \"New FTOC\" b...</td>\n",
              "    </tr>\n",
              "    <tr>\n",
              "      <th>00654.7e84d693f6d2dc216aa501c47db607f7</th>\n",
              "      <td>0</td>\n",
              "      <td>On Wed, 14 Aug 2002, Chip Paswater wrote:\\n\\n\\...</td>\n",
              "    </tr>\n",
              "  </tbody>\n",
              "</table>\n",
              "<p>3901 rows × 2 columns</p>\n",
              "</div>"
            ],
            "text/plain": [
              "                                        CATEGORY                                            MESSAGE\n",
              "01565.c10c0b0e0c9903345e28f9c17fc84400         0  \\n\\n--iJXiJc/TAIT2rh2r\\n\\nContent-Type: text/p...\n",
              "01433.4392b7c4884f0f218e74a0b86cc5b8c3         0  \\n\\n\"zeek\" said:\\n\\n\\n\\n> This was thoroughly ...\n",
              "01413.d1561ddcf3ead3a670b4516b3337216c         0  > > Is the use of \"trusted hardware\" really wo...\n",
              "01856.c021a63248e3e6a2e151b67689d75e13         0  URL: http://diveintomark.org/archives/2002/09/...\n",
              "01498.e0d9701d1bf2798b86efb602a44d072b         0  http://www.hughes-family.org/bugzilla/show_bug...\n",
              "...                                          ...                                                ...\n",
              "00695.2de9d6d30a7713e550b4fd02bb35e7b4         0  \"This is a very tenuous time for Microsoft,\" G...\n",
              "01137.e0afde7fc471f626742746c738013750         0  On 21 Jul 2002 23:59:59 +1200\\n\\nMark Derricut...\n",
              "01294.7f208bf4ae152863fd40f25e2e121d49         0  Pablo Sofware Solutions FTP server Directory T...\n",
              "00747.352d424267d36975a7b40b85ffd0885e         0  If you run Pick, and then use the \"New FTOC\" b...\n",
              "00654.7e84d693f6d2dc216aa501c47db607f7         0  On Wed, 14 Aug 2002, Chip Paswater wrote:\\n\\n\\...\n",
              "\n",
              "[3901 rows x 2 columns]"
            ]
          },
          "metadata": {},
          "execution_count": 84
        }
      ]
    },
    {
      "cell_type": "code",
      "metadata": {
        "colab": {
          "base_uri": "https://localhost:8080/",
          "height": 408
        },
        "id": "6XKnNpmLkKCk",
        "outputId": "6be092ed-5bb8-4475-d554-b15ecd0780f2"
      },
      "source": [
        "#Conacatenating the 2 dataframes to create a collusive dataframe for all the values\n",
        "\n",
        "data = pd.concat([spamEmails, notSpamEmails])\n",
        "data"
      ],
      "execution_count": 85,
      "outputs": [
        {
          "output_type": "execute_result",
          "data": {
            "text/html": [
              "<div>\n",
              "<style scoped>\n",
              "    .dataframe tbody tr th:only-of-type {\n",
              "        vertical-align: middle;\n",
              "    }\n",
              "\n",
              "    .dataframe tbody tr th {\n",
              "        vertical-align: top;\n",
              "    }\n",
              "\n",
              "    .dataframe thead th {\n",
              "        text-align: right;\n",
              "    }\n",
              "</style>\n",
              "<table border=\"1\" class=\"dataframe\">\n",
              "  <thead>\n",
              "    <tr style=\"text-align: right;\">\n",
              "      <th></th>\n",
              "      <th>CATEGORY</th>\n",
              "      <th>MESSAGE</th>\n",
              "    </tr>\n",
              "  </thead>\n",
              "  <tbody>\n",
              "    <tr>\n",
              "      <th>00273.0c7d73771d79e84e2aab8c909c5bb210</th>\n",
              "      <td>1</td>\n",
              "      <td>This is a multi-part message in MIME format.\\n...</td>\n",
              "    </tr>\n",
              "    <tr>\n",
              "      <th>00154.b6c448ccff434e2dbe2c7c200a36aa31</th>\n",
              "      <td>1</td>\n",
              "      <td>On January 1st 2002, the European countries be...</td>\n",
              "    </tr>\n",
              "    <tr>\n",
              "      <th>00223.349b9b0748ee72bad60729ffaae2cc00</th>\n",
              "      <td>1</td>\n",
              "      <td>This is a multi-part message in MIME format.\\n...</td>\n",
              "    </tr>\n",
              "    <tr>\n",
              "      <th>00351.fd1b8a6cd42e81125fb38c2660cd9317</th>\n",
              "      <td>1</td>\n",
              "      <td>&lt;!DOCTYPE HTML PUBLIC \"-//W3C//DTD HTML 3.2//E...</td>\n",
              "    </tr>\n",
              "    <tr>\n",
              "      <th>00001.7848dde101aa985090474a91ec93fcf0</th>\n",
              "      <td>1</td>\n",
              "      <td>&lt;!DOCTYPE HTML PUBLIC \"-//W3C//DTD HTML 4.0 Tr...</td>\n",
              "    </tr>\n",
              "    <tr>\n",
              "      <th>...</th>\n",
              "      <td>...</td>\n",
              "      <td>...</td>\n",
              "    </tr>\n",
              "    <tr>\n",
              "      <th>00695.2de9d6d30a7713e550b4fd02bb35e7b4</th>\n",
              "      <td>0</td>\n",
              "      <td>\"This is a very tenuous time for Microsoft,\" G...</td>\n",
              "    </tr>\n",
              "    <tr>\n",
              "      <th>01137.e0afde7fc471f626742746c738013750</th>\n",
              "      <td>0</td>\n",
              "      <td>On 21 Jul 2002 23:59:59 +1200\\n\\nMark Derricut...</td>\n",
              "    </tr>\n",
              "    <tr>\n",
              "      <th>01294.7f208bf4ae152863fd40f25e2e121d49</th>\n",
              "      <td>0</td>\n",
              "      <td>Pablo Sofware Solutions FTP server Directory T...</td>\n",
              "    </tr>\n",
              "    <tr>\n",
              "      <th>00747.352d424267d36975a7b40b85ffd0885e</th>\n",
              "      <td>0</td>\n",
              "      <td>If you run Pick, and then use the \"New FTOC\" b...</td>\n",
              "    </tr>\n",
              "    <tr>\n",
              "      <th>00654.7e84d693f6d2dc216aa501c47db607f7</th>\n",
              "      <td>0</td>\n",
              "      <td>On Wed, 14 Aug 2002, Chip Paswater wrote:\\n\\n\\...</td>\n",
              "    </tr>\n",
              "  </tbody>\n",
              "</table>\n",
              "<p>5799 rows × 2 columns</p>\n",
              "</div>"
            ],
            "text/plain": [
              "                                        CATEGORY                                            MESSAGE\n",
              "00273.0c7d73771d79e84e2aab8c909c5bb210         1  This is a multi-part message in MIME format.\\n...\n",
              "00154.b6c448ccff434e2dbe2c7c200a36aa31         1  On January 1st 2002, the European countries be...\n",
              "00223.349b9b0748ee72bad60729ffaae2cc00         1  This is a multi-part message in MIME format.\\n...\n",
              "00351.fd1b8a6cd42e81125fb38c2660cd9317         1  <!DOCTYPE HTML PUBLIC \"-//W3C//DTD HTML 3.2//E...\n",
              "00001.7848dde101aa985090474a91ec93fcf0         1  <!DOCTYPE HTML PUBLIC \"-//W3C//DTD HTML 4.0 Tr...\n",
              "...                                          ...                                                ...\n",
              "00695.2de9d6d30a7713e550b4fd02bb35e7b4         0  \"This is a very tenuous time for Microsoft,\" G...\n",
              "01137.e0afde7fc471f626742746c738013750         0  On 21 Jul 2002 23:59:59 +1200\\n\\nMark Derricut...\n",
              "01294.7f208bf4ae152863fd40f25e2e121d49         0  Pablo Sofware Solutions FTP server Directory T...\n",
              "00747.352d424267d36975a7b40b85ffd0885e         0  If you run Pick, and then use the \"New FTOC\" b...\n",
              "00654.7e84d693f6d2dc216aa501c47db607f7         0  On Wed, 14 Aug 2002, Chip Paswater wrote:\\n\\n\\...\n",
              "\n",
              "[5799 rows x 2 columns]"
            ]
          },
          "metadata": {},
          "execution_count": 85
        }
      ]
    },
    {
      "cell_type": "markdown",
      "metadata": {
        "id": "xFp5-3gvlDYW"
      },
      "source": [
        "##Data Cleaning and Checking for Missing Values"
      ]
    },
    {
      "cell_type": "code",
      "metadata": {
        "colab": {
          "base_uri": "https://localhost:8080/"
        },
        "id": "q2QAI9u4kZ5K",
        "outputId": "d056e0b9-eae7-46e8-c2ff-7b9f1b226c20"
      },
      "source": [
        "#Check if there are any missing values\n",
        "data['MESSAGE'].isnull().values.any() #Returns true if there are any missing values\n"
      ],
      "execution_count": 86,
      "outputs": [
        {
          "output_type": "execute_result",
          "data": {
            "text/plain": [
              "False"
            ]
          },
          "metadata": {},
          "execution_count": 86
        }
      ]
    },
    {
      "cell_type": "code",
      "metadata": {
        "colab": {
          "base_uri": "https://localhost:8080/"
        },
        "id": "0G9q0jXWliUA",
        "outputId": "3e10f777-c6a8-4be4-ce7f-46ee55591238"
      },
      "source": [
        "#Check if there are any empty emails with the string length of 0\n",
        "(data.MESSAGE.str.len() == 0).any()"
      ],
      "execution_count": 87,
      "outputs": [
        {
          "output_type": "execute_result",
          "data": {
            "text/plain": [
              "True"
            ]
          },
          "metadata": {},
          "execution_count": 87
        }
      ]
    },
    {
      "cell_type": "code",
      "metadata": {
        "colab": {
          "base_uri": "https://localhost:8080/"
        },
        "id": "2PDrhGa3mwiL",
        "outputId": "309b18e2-114b-45f1-bd52-bf55bbe0d020"
      },
      "source": [
        "#Check how many entries have the string length of 0\n",
        "(data.MESSAGE.str.len() == 0).sum()"
      ],
      "execution_count": 88,
      "outputs": [
        {
          "output_type": "execute_result",
          "data": {
            "text/plain": [
              "3"
            ]
          },
          "metadata": {},
          "execution_count": 88
        }
      ]
    },
    {
      "cell_type": "code",
      "metadata": {
        "colab": {
          "base_uri": "https://localhost:8080/",
          "height": 138
        },
        "id": "gUfO-B8dnMem",
        "outputId": "e2793fd9-1721-48b2-ab19-dcd70dd38a8c"
      },
      "source": [
        "#Getting the index of all the rows where the string length is 0\n",
        "data[(data.MESSAGE.str.len() == 0)]"
      ],
      "execution_count": 89,
      "outputs": [
        {
          "output_type": "execute_result",
          "data": {
            "text/html": [
              "<div>\n",
              "<style scoped>\n",
              "    .dataframe tbody tr th:only-of-type {\n",
              "        vertical-align: middle;\n",
              "    }\n",
              "\n",
              "    .dataframe tbody tr th {\n",
              "        vertical-align: top;\n",
              "    }\n",
              "\n",
              "    .dataframe thead th {\n",
              "        text-align: right;\n",
              "    }\n",
              "</style>\n",
              "<table border=\"1\" class=\"dataframe\">\n",
              "  <thead>\n",
              "    <tr style=\"text-align: right;\">\n",
              "      <th></th>\n",
              "      <th>CATEGORY</th>\n",
              "      <th>MESSAGE</th>\n",
              "    </tr>\n",
              "  </thead>\n",
              "  <tbody>\n",
              "    <tr>\n",
              "      <th>cmds</th>\n",
              "      <td>1</td>\n",
              "      <td></td>\n",
              "    </tr>\n",
              "    <tr>\n",
              "      <th>cmds</th>\n",
              "      <td>1</td>\n",
              "      <td></td>\n",
              "    </tr>\n",
              "    <tr>\n",
              "      <th>cmds</th>\n",
              "      <td>0</td>\n",
              "      <td></td>\n",
              "    </tr>\n",
              "  </tbody>\n",
              "</table>\n",
              "</div>"
            ],
            "text/plain": [
              "      CATEGORY MESSAGE\n",
              "cmds         1        \n",
              "cmds         1        \n",
              "cmds         0        "
            ]
          },
          "metadata": {},
          "execution_count": 89
        }
      ]
    },
    {
      "cell_type": "markdown",
      "metadata": {
        "id": "sv3zuM9mj9Ig"
      },
      "source": [
        "##Removing a and Renaming Entries from the Dataset"
      ]
    },
    {
      "cell_type": "code",
      "metadata": {
        "id": "j7XDaVQKn2dG"
      },
      "source": [
        "#cmds is  the ID of the column that refers to the null data\n",
        "\n",
        "data.drop(['cmds'], inplace=True)"
      ],
      "execution_count": 90,
      "outputs": []
    },
    {
      "cell_type": "code",
      "metadata": {
        "colab": {
          "base_uri": "https://localhost:8080/",
          "height": 440
        },
        "id": "pHnTBXdGkH6I",
        "outputId": "833337c7-7cc3-430a-ce86-a9aa96974022"
      },
      "source": [
        " #Adding Document IDs to track EMail IDs\n",
        "\n",
        "documentIDs = range(0, len(data.index))\n",
        "data['DOC_ID'] = documentIDs\n",
        "data['FILE_NAME'] = data.index\n",
        "data = data.set_index('DOC_ID')\n",
        "data"
      ],
      "execution_count": 91,
      "outputs": [
        {
          "output_type": "execute_result",
          "data": {
            "text/html": [
              "<div>\n",
              "<style scoped>\n",
              "    .dataframe tbody tr th:only-of-type {\n",
              "        vertical-align: middle;\n",
              "    }\n",
              "\n",
              "    .dataframe tbody tr th {\n",
              "        vertical-align: top;\n",
              "    }\n",
              "\n",
              "    .dataframe thead th {\n",
              "        text-align: right;\n",
              "    }\n",
              "</style>\n",
              "<table border=\"1\" class=\"dataframe\">\n",
              "  <thead>\n",
              "    <tr style=\"text-align: right;\">\n",
              "      <th></th>\n",
              "      <th>CATEGORY</th>\n",
              "      <th>MESSAGE</th>\n",
              "      <th>FILE_NAME</th>\n",
              "    </tr>\n",
              "    <tr>\n",
              "      <th>DOC_ID</th>\n",
              "      <th></th>\n",
              "      <th></th>\n",
              "      <th></th>\n",
              "    </tr>\n",
              "  </thead>\n",
              "  <tbody>\n",
              "    <tr>\n",
              "      <th>0</th>\n",
              "      <td>1</td>\n",
              "      <td>This is a multi-part message in MIME format.\\n...</td>\n",
              "      <td>00273.0c7d73771d79e84e2aab8c909c5bb210</td>\n",
              "    </tr>\n",
              "    <tr>\n",
              "      <th>1</th>\n",
              "      <td>1</td>\n",
              "      <td>On January 1st 2002, the European countries be...</td>\n",
              "      <td>00154.b6c448ccff434e2dbe2c7c200a36aa31</td>\n",
              "    </tr>\n",
              "    <tr>\n",
              "      <th>2</th>\n",
              "      <td>1</td>\n",
              "      <td>This is a multi-part message in MIME format.\\n...</td>\n",
              "      <td>00223.349b9b0748ee72bad60729ffaae2cc00</td>\n",
              "    </tr>\n",
              "    <tr>\n",
              "      <th>3</th>\n",
              "      <td>1</td>\n",
              "      <td>&lt;!DOCTYPE HTML PUBLIC \"-//W3C//DTD HTML 3.2//E...</td>\n",
              "      <td>00351.fd1b8a6cd42e81125fb38c2660cd9317</td>\n",
              "    </tr>\n",
              "    <tr>\n",
              "      <th>4</th>\n",
              "      <td>1</td>\n",
              "      <td>&lt;!DOCTYPE HTML PUBLIC \"-//W3C//DTD HTML 4.0 Tr...</td>\n",
              "      <td>00001.7848dde101aa985090474a91ec93fcf0</td>\n",
              "    </tr>\n",
              "    <tr>\n",
              "      <th>...</th>\n",
              "      <td>...</td>\n",
              "      <td>...</td>\n",
              "      <td>...</td>\n",
              "    </tr>\n",
              "    <tr>\n",
              "      <th>5791</th>\n",
              "      <td>0</td>\n",
              "      <td>\"This is a very tenuous time for Microsoft,\" G...</td>\n",
              "      <td>00695.2de9d6d30a7713e550b4fd02bb35e7b4</td>\n",
              "    </tr>\n",
              "    <tr>\n",
              "      <th>5792</th>\n",
              "      <td>0</td>\n",
              "      <td>On 21 Jul 2002 23:59:59 +1200\\n\\nMark Derricut...</td>\n",
              "      <td>01137.e0afde7fc471f626742746c738013750</td>\n",
              "    </tr>\n",
              "    <tr>\n",
              "      <th>5793</th>\n",
              "      <td>0</td>\n",
              "      <td>Pablo Sofware Solutions FTP server Directory T...</td>\n",
              "      <td>01294.7f208bf4ae152863fd40f25e2e121d49</td>\n",
              "    </tr>\n",
              "    <tr>\n",
              "      <th>5794</th>\n",
              "      <td>0</td>\n",
              "      <td>If you run Pick, and then use the \"New FTOC\" b...</td>\n",
              "      <td>00747.352d424267d36975a7b40b85ffd0885e</td>\n",
              "    </tr>\n",
              "    <tr>\n",
              "      <th>5795</th>\n",
              "      <td>0</td>\n",
              "      <td>On Wed, 14 Aug 2002, Chip Paswater wrote:\\n\\n\\...</td>\n",
              "      <td>00654.7e84d693f6d2dc216aa501c47db607f7</td>\n",
              "    </tr>\n",
              "  </tbody>\n",
              "</table>\n",
              "<p>5796 rows × 3 columns</p>\n",
              "</div>"
            ],
            "text/plain": [
              "        CATEGORY  ...                               FILE_NAME\n",
              "DOC_ID            ...                                        \n",
              "0              1  ...  00273.0c7d73771d79e84e2aab8c909c5bb210\n",
              "1              1  ...  00154.b6c448ccff434e2dbe2c7c200a36aa31\n",
              "2              1  ...  00223.349b9b0748ee72bad60729ffaae2cc00\n",
              "3              1  ...  00351.fd1b8a6cd42e81125fb38c2660cd9317\n",
              "4              1  ...  00001.7848dde101aa985090474a91ec93fcf0\n",
              "...          ...  ...                                     ...\n",
              "5791           0  ...  00695.2de9d6d30a7713e550b4fd02bb35e7b4\n",
              "5792           0  ...  01137.e0afde7fc471f626742746c738013750\n",
              "5793           0  ...  01294.7f208bf4ae152863fd40f25e2e121d49\n",
              "5794           0  ...  00747.352d424267d36975a7b40b85ffd0885e\n",
              "5795           0  ...  00654.7e84d693f6d2dc216aa501c47db607f7\n",
              "\n",
              "[5796 rows x 3 columns]"
            ]
          },
          "metadata": {},
          "execution_count": 91
        }
      ]
    },
    {
      "cell_type": "markdown",
      "metadata": {
        "id": "0IVywo0Zn8G6"
      },
      "source": [
        "##Saving the dataframe to the disk"
      ]
    },
    {
      "cell_type": "code",
      "metadata": {
        "id": "4ehYGia0nGSi"
      },
      "source": [
        "data.to_json(dataJSON)"
      ],
      "execution_count": 92,
      "outputs": []
    },
    {
      "cell_type": "markdown",
      "metadata": {
        "id": "fYu6H166pOFe"
      },
      "source": [
        "##Data Visualization through Pie Charts and Donut Charts\n",
        "\n"
      ]
    },
    {
      "cell_type": "code",
      "metadata": {
        "id": "lajiv7I8oWAn"
      },
      "source": [
        "spamCounts = data.CATEGORY.value_counts()[0]\n",
        "notSpamCounts = data.CATEGORY.value_counts()[1]"
      ],
      "execution_count": 93,
      "outputs": []
    },
    {
      "cell_type": "code",
      "metadata": {
        "colab": {
          "base_uri": "https://localhost:8080/",
          "height": 530
        },
        "id": "uzSuHyXip96b",
        "outputId": "07768159-5d88-44ec-887a-94fd7142ff5f"
      },
      "source": [
        "#Creating a pie chart\n",
        "\n",
        "categoryNames = ['Spam', 'Legit Mail']\n",
        "size = [spamCounts, notSpamCounts]\n",
        "colors = ['#ff7675', '#74b9ff']\n",
        "\n",
        "plt.figure(figsize=(2, 2), dpi=300)\n",
        "plt.pie(size, labels=categoryNames, textprops={'fontsize': 6}, autopct='%1.0f%%', colors=colors, explode=[0, 0.05], startangle=90)\n",
        "plt.show()"
      ],
      "execution_count": 94,
      "outputs": [
        {
          "output_type": "display_data",
          "data": {
            "image/png": "[encoded data removed]",
            "text/plain": [
              "<Figure size 600x600 with 1 Axes>"
            ]
          },
          "metadata": {}
        }
      ]
    },
    {
      "cell_type": "markdown",
      "metadata": {
        "id": "BivlbpxMM5mU"
      },
      "source": [
        "##Natural Language Processing"
      ]
    },
    {
      "cell_type": "markdown",
      "metadata": {
        "id": "w6PVxTX9M9zl"
      },
      "source": [
        "###Text Pre-Processing Techniques"
      ]
    },
    {
      "cell_type": "code",
      "metadata": {
        "colab": {
          "base_uri": "https://localhost:8080/",
          "height": 35
        },
        "id": "UCb4PsjOM9A7",
        "outputId": "8cd9ffd8-5127-49f9-ffde-ea56db907a2f"
      },
      "source": [
        "#converting to lower case examples\n",
        "msg = 'All work and no play makes Jack a dull boy.'\n",
        "msg.lower()"
      ],
      "execution_count": 95,
      "outputs": [
        {
          "output_type": "execute_result",
          "data": {
            "application/vnd.google.colaboratory.intrinsic+json": {
              "type": "string"
            },
            "text/plain": [
              "'all work and no play makes jack a dull boy.'"
            ]
          },
          "metadata": {},
          "execution_count": 95
        }
      ]
    },
    {
      "cell_type": "markdown",
      "metadata": {
        "id": "n4fFyz85PUMC"
      },
      "source": [
        "###Downloading NLTK Resources"
      ]
    },
    {
      "cell_type": "code",
      "metadata": {
        "colab": {
          "base_uri": "https://localhost:8080/"
        },
        "id": "JpvBaf3xPSij",
        "outputId": "2a5e0c4b-1132-4af7-971b-ace08cae1d90"
      },
      "source": [
        "nltk.download('punkt')"
      ],
      "execution_count": 96,
      "outputs": [
        {
          "output_type": "stream",
          "name": "stdout",
          "text": [
            "[nltk_data] Downloading package punkt to /root/nltk_data...\n",
            "[nltk_data]   Package punkt is already up-to-date!\n"
          ]
        },
        {
          "output_type": "execute_result",
          "data": {
            "text/plain": [
              "True"
            ]
          },
          "metadata": {},
          "execution_count": 96
        }
      ]
    },
    {
      "cell_type": "code",
      "metadata": {
        "colab": {
          "base_uri": "https://localhost:8080/"
        },
        "id": "r9GfkjNoROOI",
        "outputId": "2975a3b4-6b47-4868-8fd1-0a4ba404300c"
      },
      "source": [
        "nltk.download('stopwords')"
      ],
      "execution_count": 97,
      "outputs": [
        {
          "output_type": "stream",
          "name": "stdout",
          "text": [
            "[nltk_data] Downloading package stopwords to /root/nltk_data...\n",
            "[nltk_data]   Package stopwords is already up-to-date!\n"
          ]
        },
        {
          "output_type": "execute_result",
          "data": {
            "text/plain": [
              "True"
            ]
          },
          "metadata": {},
          "execution_count": 97
        }
      ]
    },
    {
      "cell_type": "markdown",
      "metadata": {
        "id": "RAxVpu1YPfkw"
      },
      "source": [
        "###Tokenising: Segregating all the constituent words of the text."
      ]
    },
    {
      "cell_type": "code",
      "metadata": {
        "colab": {
          "base_uri": "https://localhost:8080/"
        },
        "id": "wiNKRpBZPbuS",
        "outputId": "893c5712-a403-4ad3-a8cc-ac98dacf5383"
      },
      "source": [
        "msg = 'All work and no play makes Jack a dull boy.'\n",
        "word_tokenize(msg.lower())"
      ],
      "execution_count": 98,
      "outputs": [
        {
          "output_type": "execute_result",
          "data": {
            "text/plain": [
              "['all', 'work', 'and', 'no', 'play', 'makes', 'jack', 'a', 'dull', 'boy', '.']"
            ]
          },
          "metadata": {},
          "execution_count": 98
        }
      ]
    },
    {
      "cell_type": "markdown",
      "metadata": {
        "id": "yvLc4ElTP_Bb"
      },
      "source": [
        "###Removing Stop Words: Removing words like the, a, an, is, etc."
      ]
    },
    {
      "cell_type": "code",
      "metadata": {
        "id": "sE5h7MbzProf"
      },
      "source": [
        "stopWords = set(stopwords.words('english'))"
      ],
      "execution_count": 99,
      "outputs": []
    },
    {
      "cell_type": "code",
      "metadata": {
        "colab": {
          "base_uri": "https://localhost:8080/"
        },
        "id": "C2BTL_dFSnhb",
        "outputId": "04c7a428-001a-4d2d-ce85-0b851cca10e9"
      },
      "source": [
        "msg = 'All work and no play makes Jack a dull boy. TO be or not to be.'\n",
        "words = word_tokenize(msg.lower())\n",
        "\n",
        "filteredWords = []\n",
        "\n",
        "for i in words:\n",
        "    if i not in stopWords:\n",
        "        filteredWords.append(i)\n",
        "\n",
        "filteredWords"
      ],
      "execution_count": 100,
      "outputs": [
        {
          "output_type": "execute_result",
          "data": {
            "text/plain": [
              "['work', 'play', 'makes', 'jack', 'dull', 'boy', '.', '.']"
            ]
          },
          "metadata": {},
          "execution_count": 100
        }
      ]
    },
    {
      "cell_type": "markdown",
      "metadata": {
        "id": "o3gUdx-zxvU8"
      },
      "source": [
        "###Word stems and stemming"
      ]
    },
    {
      "cell_type": "code",
      "metadata": {
        "colab": {
          "base_uri": "https://localhost:8080/"
        },
        "id": "EXkSFGIUv38l",
        "outputId": "2fc26ff8-692b-4a78-ab8c-c1b6a2d07afb"
      },
      "source": [
        "msg = 'All work and no play makes Jack a dull boy. To be or not to be.'\n",
        "words = word_tokenize(msg.lower())\n",
        "\n",
        "stemmer = PorterStemmer()\n",
        "\n",
        "filteredWords = []\n",
        "\n",
        "for i in words:\n",
        "    if i not in stopWords:\n",
        "        stemmedWord = stemmer.stem(i)\n",
        "        filteredWords.append(stemmedWord)\n",
        "\n",
        "print(filteredWords)"
      ],
      "execution_count": 101,
      "outputs": [
        {
          "output_type": "stream",
          "name": "stdout",
          "text": [
            "['work', 'play', 'make', 'jack', 'dull', 'boy', '.', '.']\n"
          ]
        }
      ]
    },
    {
      "cell_type": "markdown",
      "metadata": {
        "id": "YlWQaLYRx43m"
      },
      "source": [
        "###Removing Punctuations"
      ]
    },
    {
      "cell_type": "code",
      "metadata": {
        "colab": {
          "base_uri": "https://localhost:8080/"
        },
        "id": "0c8VRv6twFAM",
        "outputId": "3201590d-f23e-4cdf-9789-335d83d33d5b"
      },
      "source": [
        "msg = 'All work and no play makes Jack a dull boy. To be or not to be???'\n",
        "words = word_tokenize(msg.lower())\n",
        "\n",
        "stemmer = PorterStemmer()\n",
        "\n",
        "filteredWords = []\n",
        "\n",
        "for i in words:\n",
        "    if i not in stopWords and i.isalpha():\n",
        "        stemmedWord = stemmer.stem(i)\n",
        "        filteredWords.append(stemmedWord)\n",
        "\n",
        "print(filteredWords)"
      ],
      "execution_count": 102,
      "outputs": [
        {
          "output_type": "stream",
          "name": "stdout",
          "text": [
            "['work', 'play', 'make', 'jack', 'dull', 'boy']\n"
          ]
        }
      ]
    },
    {
      "cell_type": "markdown",
      "metadata": {
        "id": "vNiMzotby9Mu"
      },
      "source": [
        "###Removing HTML Tags"
      ]
    },
    {
      "cell_type": "code",
      "metadata": {
        "colab": {
          "base_uri": "https://localhost:8080/",
          "height": 132
        },
        "id": "QNhcMtGbyE_P",
        "outputId": "6d3db3dc-b134-4ec5-c2b5-35e49af9da2d"
      },
      "source": [
        "soup = BeautifulSoup(data.at[2, 'MESSAGE'], 'html.parser')\n",
        "#soup.prettify() This method is used to print the html formatted text where the tags can be read in a better way.\n",
        "soup.get_text()"
      ],
      "execution_count": 103,
      "outputs": [
        {
          "output_type": "execute_result",
          "data": {
            "application/vnd.google.colaboratory.intrinsic+json": {
              "type": "string"
            },
            "text/plain": [
              "'This is a multi-part message in MIME format.\\n\\n\\n\\n------=_NextPart_000_20F213_01C25430.B7EDE5E0\\n\\nContent-Type: text/plain;\\n\\n\\tcharset=\"Windows-1252\"\\n\\nContent-Transfer-Encoding: 7bit\\n\\n\\n\\n Outstanding\\n\\n Opportunities\\n\\n For Premier Producers\\t\\n\\n Our Client\\'s Search Includes:\\t\\n\\n Full-Time Agents \\t Sales Managers\\t  General Agents\\t \\n\\n CPA \"Partners\"\\t  Independent Agents & Brokers\\t \\n\\n \\t Allow\\n\\n their \"Nationally Acclaimed\" marketing intiatives and unbeatable\\n\\nproduct portfolio to DOUBLE YOUR INCOME within 24 months\\t\\n\\n\\n\\nPLUS ACCESS TO 385 OTHER COMPANIES \\t\\n\\nFor A Confidential Phone Interview Please Complete Form & Submit \\t\\n\\nName: \\t \\t\\n\\nE-mail: \\t \\t\\n\\nPhone: \\t \\t\\n\\nCity:\\t  \\tState:\\t  \\t \\t \\n\\nArea of Interest:\\t  \\tFull-Time Agent\\t  \\tSales Manager\\n\\nGeneral Agent\\t \\n\\n \\t  \\tCPA \"Partner\"\\t  \\tIndependent Agent\\t \\n\\n \\t    \\t \\t\\n\\n \\n\\nWe don\\'t want anybody to receive or mailing who does not wish to receive\\n\\nthem. This is professional communication sent to insurance\\n\\nprofessionals. To be removed from this mailing list, DO NOT REPLY to\\n\\nthis message. Instead, go here: http://www.InsuranceIQ.com/optout\\n\\nLegal Notice  \\n\\n\\n\\n\\n\\n\\n\\n------=_NextPart_000_20F213_01C25430.B7EDE5E0\\n\\nContent-Type: text/html;\\n\\n\\tcharset=\"iso-8859-1\"\\n\\nContent-Transfer-Encoding: quoted-printable\\n\\n\\n\\n\\n\\nOutstanding Opportunities for \"Premier Producers\"\\n\\n\\n\\n\\n\\n\\n\\n\\n=20\\n\\n            \\n\\n\\n\\n=20\\n\\n             \\n\\n=20\\n\\n            =20\\n\\n                \\n=20\\n\\n                    Full-Time Agents \\nSales Managers\\nGeneral Agents\\n\\n\\n\\n=20\\n\\n                    CPA \"Partners\"\\nIndependent Agents & Brokers\\n\\n\\n\\n\\n\\n\\n\\n\\n\\n \\n\\n\\n\\n\\n=20\\n\\n            \\nPLUS ACCESS TO 385 OTHER COMPANIES\\n\\n\\n\\n\\n=20\\n\\n            =20\\n\\n              \\n=20\\n\\n                  =20\\n\\n                    \\n=20\\n\\n                        \\n=20\\n\\n                            \\n=20\\n\\n                                \\n\\n                                  For A Confidential Phone Interview =\\n\\nPlease Complete Form & Submit\\n\\n\\n=20\\n\\n                                =20\\n\\n                                  Name:\\n\\n=20\\n\\n                                  \\n\\n\\n=20\\n\\n                                =20\\n\\n                                  E-mail:\\n\\n=20\\n\\n                                  \\n\\n\\n=20\\n\\n                                =20\\n\\n                                  Phone:\\n\\n=20\\n\\n                                  \\n\\n\\n=20\\n\\n                                City:\\n=20\\n\\n                                  \\n\\nState:\\n=20\\n\\n                                  \\n\\n\\xa0\\n\\n=20\\n\\n                                Area =\\n\\nof Interest:\\n=20\\n\\n                                  \\n\\nFull-Time =\\n\\nAgent\\n=20\\n\\n                                  \\n\\nSales =\\n\\nManager\\n=20\\n\\n                                  \\n\\nGeneral Agent\\n\\n=20\\n\\n                                 \\xa0\\n\\n\\n\\nCPA =\\n\\n\"Partner\"\\n=20\\n\\n                                   \\n\\nIndependent Agent\\n\\n=20\\n\\n                                \\xa0\\n=20\\n\\n                                  \\n\\n\\n\\n\\n\\n\\n\\n\\n\\n\\n\\n\\n\\n\\n\\n=20\\n\\n                  =20\\n\\n                    We=20\\n\\n                      don\\'t want anybody to receive or mailing who does =\\n\\nnot wish=20\\n\\n                      to receive them. This is professional =\\n\\ncommunication sent=20\\n\\n                      to insurance professionals. To be removed from =\\n\\nthis mailing=20\\n\\n                      list, DO NOT REPLY to this message. Instead, go =\\n\\nhere: http://www.InsuranceIQ.com/opt=\\n\\nout\\nLegal =\\n\\nNotice\\n\\n\\n\\n\\n\\n\\n\\n\\n\\n\\n\\n\\n\\n\\n\\n\\n------=_NextPart_000_20F213_01C25430.B7EDE5E0--\\n\\n\\n'"
            ]
          },
          "metadata": {},
          "execution_count": 103
        }
      ]
    },
    {
      "cell_type": "markdown",
      "metadata": {
        "id": "HofBjxEuSrac"
      },
      "source": [
        "###Function for Email Processing"
      ]
    },
    {
      "cell_type": "code",
      "metadata": {
        "id": "YkDjcXPtSxSd"
      },
      "source": [
        "def cleanMessage (message, stemmer=PorterStemmer(), stopWords = set(stopwords.words('english'))):\n",
        "\n",
        "    soup = BeautifulSoup(message, 'html.parser')\n",
        "    wordsNoHTML = soup.get_text()  \n",
        "\n",
        "    words = word_tokenize(wordsNoHTML.lower())\n",
        "    filteredWords = []  \n",
        "\n",
        "    for i in words:\n",
        "        if i not in stopWords and i.isalpha():\n",
        "            filteredWords.append(stemmer.stem(i))\n",
        "\n",
        "    return filteredWords"
      ],
      "execution_count": 104,
      "outputs": []
    },
    {
      "cell_type": "code",
      "metadata": {
        "colab": {
          "base_uri": "https://localhost:8080/"
        },
        "id": "VABUaXJ3UA3v",
        "outputId": "6c790d22-8f87-445f-b8d0-94f5d5d4fe57"
      },
      "source": [
        "cleanMessage(data.at[2, 'MESSAGE'])"
      ],
      "execution_count": 105,
      "outputs": [
        {
          "output_type": "execute_result",
          "data": {
            "text/plain": [
              "['messag',\n",
              " 'mime',\n",
              " 'format',\n",
              " 'outstand',\n",
              " 'opportun',\n",
              " 'premier',\n",
              " 'produc',\n",
              " 'client',\n",
              " 'search',\n",
              " 'includ',\n",
              " 'agent',\n",
              " 'sale',\n",
              " 'manag',\n",
              " 'gener',\n",
              " 'agent',\n",
              " 'cpa',\n",
              " 'partner',\n",
              " 'independ',\n",
              " 'agent',\n",
              " 'broker',\n",
              " 'allow',\n",
              " 'nation',\n",
              " 'acclaim',\n",
              " 'market',\n",
              " 'inti',\n",
              " 'unbeat',\n",
              " 'product',\n",
              " 'portfolio',\n",
              " 'doubl',\n",
              " 'incom',\n",
              " 'within',\n",
              " 'month',\n",
              " 'plu',\n",
              " 'access',\n",
              " 'compani',\n",
              " 'confidenti',\n",
              " 'phone',\n",
              " 'interview',\n",
              " 'pleas',\n",
              " 'complet',\n",
              " 'form',\n",
              " 'submit',\n",
              " 'name',\n",
              " 'phone',\n",
              " 'citi',\n",
              " 'state',\n",
              " 'area',\n",
              " 'interest',\n",
              " 'agent',\n",
              " 'sale',\n",
              " 'manag',\n",
              " 'gener',\n",
              " 'agent',\n",
              " 'cpa',\n",
              " 'partner',\n",
              " 'independ',\n",
              " 'agent',\n",
              " 'want',\n",
              " 'anybodi',\n",
              " 'receiv',\n",
              " 'mail',\n",
              " 'wish',\n",
              " 'receiv',\n",
              " 'profession',\n",
              " 'commun',\n",
              " 'sent',\n",
              " 'insur',\n",
              " 'profession',\n",
              " 'remov',\n",
              " 'mail',\n",
              " 'list',\n",
              " 'repli',\n",
              " 'messag',\n",
              " 'instead',\n",
              " 'go',\n",
              " 'http',\n",
              " 'legal',\n",
              " 'notic',\n",
              " 'outstand',\n",
              " 'opportun',\n",
              " 'premier',\n",
              " 'produc',\n",
              " 'agent',\n",
              " 'sale',\n",
              " 'manag',\n",
              " 'gener',\n",
              " 'agent',\n",
              " 'cpa',\n",
              " 'partner',\n",
              " 'independ',\n",
              " 'agent',\n",
              " 'broker',\n",
              " 'plu',\n",
              " 'access',\n",
              " 'compani',\n",
              " 'confidenti',\n",
              " 'phone',\n",
              " 'interview',\n",
              " 'pleas',\n",
              " 'complet',\n",
              " 'form',\n",
              " 'submit',\n",
              " 'name',\n",
              " 'phone',\n",
              " 'citi',\n",
              " 'state',\n",
              " 'area',\n",
              " 'interest',\n",
              " 'agent',\n",
              " 'sale',\n",
              " 'manag',\n",
              " 'gener',\n",
              " 'agent',\n",
              " 'cpa',\n",
              " 'partner',\n",
              " 'independ',\n",
              " 'agent',\n",
              " 'want',\n",
              " 'anybodi',\n",
              " 'receiv',\n",
              " 'mail',\n",
              " 'receiv',\n",
              " 'profession',\n",
              " 'commun',\n",
              " 'insur',\n",
              " 'profession',\n",
              " 'remov',\n",
              " 'list',\n",
              " 'repli',\n",
              " 'messag',\n",
              " 'instead',\n",
              " 'go',\n",
              " 'http',\n",
              " 'legal',\n",
              " 'notic']"
            ]
          },
          "metadata": {},
          "execution_count": 105
        }
      ]
    },
    {
      "cell_type": "markdown",
      "metadata": {
        "id": "4TWNp8rBWElT"
      },
      "source": [
        "##Apply Cleaning and Tokenisation to all the messages"
      ]
    },
    {
      "cell_type": "code",
      "metadata": {
        "colab": {
          "base_uri": "https://localhost:8080/"
        },
        "id": "2K_D66P2UK73",
        "outputId": "c2cab491-d2f9-4ca1-b5a9-82c699ebd28c"
      },
      "source": [
        "#Creating a massive series of all the messages cleaned and transformed\n",
        "\n",
        "%%time\n",
        "\n",
        "nestedList = data.MESSAGE.apply(cleanMessage)"
      ],
      "execution_count": 106,
      "outputs": [
        {
          "output_type": "stream",
          "name": "stderr",
          "text": [
            "/usr/local/lib/python3.7/dist-packages/bs4/__init__.py:336: UserWarning: \"http://www.post-gazette.com/columnists/20020905brian5\n",
            "\" looks like a URL. Beautiful Soup is not an HTTP client. You should probably use an HTTP client like requests to get the document behind the URL, and feed that document to Beautiful Soup.\n",
            "  ' that document to Beautiful Soup.' % decoded_markup\n"
          ]
        },
        {
          "output_type": "stream",
          "name": "stdout",
          "text": [
            "CPU times: user 40.7 s, sys: 171 ms, total: 40.8 s\n",
            "Wall time: 40.9 s\n"
          ]
        }
      ]
    },
    {
      "cell_type": "code",
      "metadata": {
        "id": "-Du29CyJYalb"
      },
      "source": [
        "spamID = data[data.CATEGORY == 1].index\n",
        "notSpamID = data[data.CATEGORY == 0].index"
      ],
      "execution_count": 107,
      "outputs": []
    },
    {
      "cell_type": "code",
      "metadata": {
        "colab": {
          "base_uri": "https://localhost:8080/"
        },
        "id": "iteil_TjZs95",
        "outputId": "59a35c18-1493-4374-d91d-50a8a3ec5bd8"
      },
      "source": [
        "spamListNested = nestedList.loc[spamID]\n",
        "notSpamListNested = nestedList.loc[notSpamID]\n",
        "\n",
        "spamListNested.shape"
      ],
      "execution_count": 108,
      "outputs": [
        {
          "output_type": "execute_result",
          "data": {
            "text/plain": [
              "(1896,)"
            ]
          },
          "metadata": {},
          "execution_count": 108
        }
      ]
    },
    {
      "cell_type": "code",
      "metadata": {
        "colab": {
          "base_uri": "https://localhost:8080/"
        },
        "id": "Gy1hQ9iraDXe",
        "outputId": "5a33c5be-91b4-4456-c0fe-f74a78491f8d"
      },
      "source": [
        "finalSpamList = [item for sublist in spamListNested for item in sublist]\n",
        "spamWords = pd.Series(finalSpamList).value_counts()\n",
        "\n",
        "spamWords[:10] #First 10 most common words and freuency of their occurance"
      ],
      "execution_count": 109,
      "outputs": [
        {
          "output_type": "execute_result",
          "data": {
            "text/plain": [
              "http      3101\n",
              "email     3094\n",
              "free      2555\n",
              "click     2058\n",
              "receiv    1987\n",
              "list      1974\n",
              "get       1903\n",
              "pleas     1842\n",
              "busi      1792\n",
              "order     1743\n",
              "dtype: int64"
            ]
          },
          "metadata": {},
          "execution_count": 109
        }
      ]
    },
    {
      "cell_type": "code",
      "metadata": {
        "colab": {
          "base_uri": "https://localhost:8080/"
        },
        "id": "uTLjjqz_aEuz",
        "outputId": "aa55eb49-6deb-4b08-cc2e-b700e577bf1e"
      },
      "source": [
        "finalNotSpamList = [item for sublist in notSpamListNested for item in sublist]\n",
        "notSpamWords = pd.Series(finalNotSpamList).value_counts()\n",
        "\n",
        "notSpamWords[:10] #First 10 most common words and freuency of their occurance"
      ],
      "execution_count": 110,
      "outputs": [
        {
          "output_type": "execute_result",
          "data": {
            "text/plain": [
              "http      7561\n",
              "use       3630\n",
              "list      2878\n",
              "one       2371\n",
              "get       2284\n",
              "mail      2255\n",
              "would     2003\n",
              "like      1928\n",
              "messag    1847\n",
              "work      1798\n",
              "dtype: int64"
            ]
          },
          "metadata": {},
          "execution_count": 110
        }
      ]
    },
    {
      "cell_type": "code",
      "metadata": {
        "id": "f3pS0XHVcPN9"
      },
      "source": [
        ""
      ],
      "execution_count": 110,
      "outputs": []
    }
  ]
}