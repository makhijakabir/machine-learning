{
  "nbformat": 4,
  "nbformat_minor": 0,
  "metadata": {
    "colab": {
      "name": "bayesClassifierESF",
      "provenance": [],
      "mount_file_id": "1hTrOv-8giR20RWGiFJNQJaUm9Fky3nCT",
      "authorship_tag": "ABX9TyOwbNbs7sp5uPy95iOf8Cy9",
      "include_colab_link": true
    },
    "kernelspec": {
      "name": "python3",
      "display_name": "Python 3"
    },
    "language_info": {
      "name": "python"
    }
  },
  "cells": [
    {
      "cell_type": "markdown",
      "metadata": {
        "id": "view-in-github",
        "colab_type": "text"
      },
      "source": [
        "<a href=\"https://colab.research.google.com/github/makhijakabir/machine-learning/blob/main/bayesClassifierESF.ipynb\" target=\"_parent\"><img src=\"https://colab.research.google.com/assets/colab-badge.svg\" alt=\"Open In Colab\"/></a>"
      ]
    },
    {
      "cell_type": "markdown",
      "metadata": {
        "id": "0vvR8mcYJYKZ"
      },
      "source": [
        "#An Email Spam Filter using the Baye's Classifier"
      ]
    },
    {
      "cell_type": "markdown",
      "metadata": {
        "id": "T3U-o5TfJKuU"
      },
      "source": [
        "##Imports"
      ]
    },
    {
      "cell_type": "code",
      "metadata": {
        "id": "Q44aFpr1JG5l"
      },
      "source": [
        "from os import walk\n",
        "from os.path import join\n",
        "\n",
        "import pandas as pd\n",
        "import matplotlib.pyplot as plt\n",
        "\n",
        "%matplotlib inline"
      ],
      "execution_count": 64,
      "outputs": []
    },
    {
      "cell_type": "markdown",
      "metadata": {
        "id": "s99s4s4xJOAO"
      },
      "source": [
        "##Constants (All the constant file paths)"
      ]
    },
    {
      "cell_type": "code",
      "metadata": {
        "id": "ebkBU5crJSN1"
      },
      "source": [
        "exampleFile = '/content/drive/MyDrive/Colab Notebooks/SpamData/01_Processing/practice_email.txt'\n",
        "\n",
        "spam1 = '/content/drive/MyDrive/Colab Notebooks/SpamData/01_Processing/spam_assassin_corpus/spam_1'\n",
        "spam2 = '/content/drive/MyDrive/Colab Notebooks/SpamData/01_Processing/spam_assassin_corpus/spam_2'\n",
        "\n",
        "notSpam1 = '/content/drive/MyDrive/Colab Notebooks/SpamData/01_Processing/spam_assassin_corpus/easy_ham_1'\n",
        "notSpam2 = '/content/drive/MyDrive/Colab Notebooks/SpamData/01_Processing/spam_assassin_corpus/easy_ham_2'\n",
        "\n",
        "spam = 0\n",
        "notSpam = 1\n",
        "\n",
        "dataJSON = '/content/drive/MyDrive/Colab Notebooks/SpamData/01_Processing/exmail-test-data.json'"
      ],
      "execution_count": 65,
      "outputs": []
    },
    {
      "cell_type": "markdown",
      "metadata": {
        "id": "jE4eBmihKaeQ"
      },
      "source": [
        "##Reading Files"
      ]
    },
    {
      "cell_type": "code",
      "metadata": {
        "colab": {
          "base_uri": "https://localhost:8080/"
        },
        "id": "C8K1_2ewKMkl",
        "outputId": "5387e7b5-4d7e-45f0-c1be-4f0ce88b1410"
      },
      "source": [
        "#Prints the complete file with all the information\n",
        "\n",
        "stream = open(exampleFile, encoding='latin-1')\n",
        "message = stream.read()\n",
        "stream.close()\n",
        "\n",
        "print(message)"
      ],
      "execution_count": 66,
      "outputs": [
        {
          "output_type": "stream",
          "name": "stdout",
          "text": [
            "From exmh-workers-admin@redhat.com  Thu Aug 22 12:36:23 2002\n",
            "Return-Path: <exmh-workers-admin@spamassassin.taint.org>\n",
            "Delivered-To: zzzz@localhost.netnoteinc.com\n",
            "Received: from localhost (localhost [127.0.0.1])\n",
            "\tby phobos.labs.netnoteinc.com (Postfix) with ESMTP id D03E543C36\n",
            "\tfor <zzzz@localhost>; Thu, 22 Aug 2002 07:36:16 -0400 (EDT)\n",
            "Received: from phobos [127.0.0.1]\n",
            "\tby localhost with IMAP (fetchmail-5.9.0)\n",
            "\tfor zzzz@localhost (single-drop); Thu, 22 Aug 2002 12:36:16 +0100 (IST)\n",
            "Received: from listman.spamassassin.taint.org (listman.spamassassin.taint.org [66.187.233.211]) by\n",
            "    dogma.slashnull.org (8.11.6/8.11.6) with ESMTP id g7MBYrZ04811 for\n",
            "    <zzzz-exmh@spamassassin.taint.org>; Thu, 22 Aug 2002 12:34:53 +0100\n",
            "Received: from listman.spamassassin.taint.org (localhost.localdomain [127.0.0.1]) by\n",
            "    listman.redhat.com (Postfix) with ESMTP id 8386540858; Thu, 22 Aug 2002\n",
            "    07:35:02 -0400 (EDT)\n",
            "Delivered-To: exmh-workers@listman.spamassassin.taint.org\n",
            "Received: from int-mx1.corp.spamassassin.taint.org (int-mx1.corp.spamassassin.taint.org\n",
            "    [172.16.52.254]) by listman.redhat.com (Postfix) with ESMTP id 10CF8406D7\n",
            "    for <exmh-workers@listman.redhat.com>; Thu, 22 Aug 2002 07:34:10 -0400\n",
            "    (EDT)\n",
            "Received: (from mail@localhost) by int-mx1.corp.spamassassin.taint.org (8.11.6/8.11.6)\n",
            "    id g7MBY7g11259 for exmh-workers@listman.redhat.com; Thu, 22 Aug 2002\n",
            "    07:34:07 -0400\n",
            "Received: from mx1.spamassassin.taint.org (mx1.spamassassin.taint.org [172.16.48.31]) by\n",
            "    int-mx1.corp.redhat.com (8.11.6/8.11.6) with SMTP id g7MBY7Y11255 for\n",
            "    <exmh-workers@redhat.com>; Thu, 22 Aug 2002 07:34:07 -0400\n",
            "Received: from ratree.psu.ac.th ([202.28.97.6]) by mx1.spamassassin.taint.org\n",
            "    (8.11.6/8.11.6) with SMTP id g7MBIhl25223 for <exmh-workers@redhat.com>;\n",
            "    Thu, 22 Aug 2002 07:18:55 -0400\n",
            "Received: from delta.cs.mu.OZ.AU (delta.coe.psu.ac.th [172.30.0.98]) by\n",
            "    ratree.psu.ac.th (8.11.6/8.11.6) with ESMTP id g7MBWel29762;\n",
            "    Thu, 22 Aug 2002 18:32:40 +0700 (ICT)\n",
            "Received: from munnari.OZ.AU (localhost [127.0.0.1]) by delta.cs.mu.OZ.AU\n",
            "    (8.11.6/8.11.6) with ESMTP id g7MBQPW13260; Thu, 22 Aug 2002 18:26:25\n",
            "    +0700 (ICT)\n",
            "From: Robert Elz <kre@munnari.OZ.AU>\n",
            "To: Chris Garrigues <cwg-dated-1030377287.06fa6d@DeepEddy.Com>\n",
            "Cc: exmh-workers@spamassassin.taint.org\n",
            "Subject: Re: New Sequences Window\n",
            "In-Reply-To: <1029945287.4797.TMDA@deepeddy.vircio.com>\n",
            "References: <1029945287.4797.TMDA@deepeddy.vircio.com>\n",
            "    <1029882468.3116.TMDA@deepeddy.vircio.com> <9627.1029933001@munnari.OZ.AU>\n",
            "    <1029943066.26919.TMDA@deepeddy.vircio.com>\n",
            "    <1029944441.398.TMDA@deepeddy.vircio.com>\n",
            "MIME-Version: 1.0\n",
            "Content-Type: text/plain; charset=us-ascii\n",
            "Message-Id: <13258.1030015585@munnari.OZ.AU>\n",
            "X-Loop: exmh-workers@spamassassin.taint.org\n",
            "Sender: exmh-workers-admin@spamassassin.taint.org\n",
            "Errors-To: exmh-workers-admin@spamassassin.taint.org\n",
            "X-Beenthere: exmh-workers@spamassassin.taint.org\n",
            "X-Mailman-Version: 2.0.1\n",
            "Precedence: bulk\n",
            "List-Help: <mailto:exmh-workers-request@spamassassin.taint.org?subject=help>\n",
            "List-Post: <mailto:exmh-workers@spamassassin.taint.org>\n",
            "List-Subscribe: <https://listman.spamassassin.taint.org/mailman/listinfo/exmh-workers>,\n",
            "    <mailto:exmh-workers-request@redhat.com?subject=subscribe>\n",
            "List-Id: Discussion list for EXMH developers <exmh-workers.spamassassin.taint.org>\n",
            "List-Unsubscribe: <https://listman.spamassassin.taint.org/mailman/listinfo/exmh-workers>,\n",
            "    <mailto:exmh-workers-request@redhat.com?subject=unsubscribe>\n",
            "List-Archive: <https://listman.spamassassin.taint.org/mailman/private/exmh-workers/>\n",
            "Date: Thu, 22 Aug 2002 18:26:25 +0700\n",
            "\n",
            "\n",
            "Dear Mr Still\n",
            "\n",
            "Good tidings to you and all your staff for the festive season ahead (Christmas).\n",
            "Now to the crux of the matter-in-hand: I am a fully qualified Santa Claus and am wondering whether you might consider me to run my own \"Santa's Grotto\" in your store.\n",
            "But WAIT! You're probably thinking: \"What makes him so special?\"\n",
            "Well, first of all, I have made several changes to the characterisation of Father Christmas. Rather than greeting the children with shouts of \"Ho, ho, ho!\" I prefer to whisper the phrase \"Dependence is not unfathomable in this cruel world we live in\". In addition, my gifts are ALL hand-made, ranging from felt hoops to vanilla-pod holders.\n",
            "You will note also, from the enclosed sketch, that I have radically redesigned Santa's outfit and have renamed my character \"Lord Buckles\". Would you be interested in employing me? I promise NEVER to let you down.\n",
            "I look forward to hearing from you.\n",
            "\n",
            "Best wishes\n",
            "Robin Cooper\n",
            "[Excerpt from the book: The Timewaster Letters by Robin Cooper]\n",
            "\n"
          ]
        }
      ]
    },
    {
      "cell_type": "code",
      "metadata": {
        "colab": {
          "base_uri": "https://localhost:8080/"
        },
        "id": "tT8Sds7JK0e7",
        "outputId": "53a60303-e767-444c-e91a-7350fe713b50"
      },
      "source": [
        " #Prints only the body of the emails\n",
        "\n",
        "isBody = False\n",
        "mainList = []\n",
        "\n",
        "stream = open(exampleFile, encoding='latin-1')\n",
        "\n",
        "for line in stream:\n",
        "    if isBody:\n",
        "        mainList.append(line)\n",
        "    elif line == '\\n':\n",
        "        isBody = True\n",
        "\n",
        "stream.close()\n",
        "\n",
        "finalBody = '\\n'.join(mainList)\n",
        "print(finalBody)"
      ],
      "execution_count": 67,
      "outputs": [
        {
          "output_type": "stream",
          "name": "stdout",
          "text": [
            "\n",
            "\n",
            "Dear Mr Still\n",
            "\n",
            "\n",
            "\n",
            "Good tidings to you and all your staff for the festive season ahead (Christmas).\n",
            "\n",
            "Now to the crux of the matter-in-hand: I am a fully qualified Santa Claus and am wondering whether you might consider me to run my own \"Santa's Grotto\" in your store.\n",
            "\n",
            "But WAIT! You're probably thinking: \"What makes him so special?\"\n",
            "\n",
            "Well, first of all, I have made several changes to the characterisation of Father Christmas. Rather than greeting the children with shouts of \"Ho, ho, ho!\" I prefer to whisper the phrase \"Dependence is not unfathomable in this cruel world we live in\". In addition, my gifts are ALL hand-made, ranging from felt hoops to vanilla-pod holders.\n",
            "\n",
            "You will note also, from the enclosed sketch, that I have radically redesigned Santa's outfit and have renamed my character \"Lord Buckles\". Would you be interested in employing me? I promise NEVER to let you down.\n",
            "\n",
            "I look forward to hearing from you.\n",
            "\n",
            "\n",
            "\n",
            "Best wishes\n",
            "\n",
            "Robin Cooper\n",
            "\n",
            "[Excerpt from the book: The Timewaster Letters by Robin Cooper]\n",
            "\n"
          ]
        }
      ]
    },
    {
      "cell_type": "markdown",
      "metadata": {
        "id": "DvqUwco7YPhA"
      },
      "source": [
        "##Extraction of all the EMail Bodies using generator functions"
      ]
    },
    {
      "cell_type": "code",
      "metadata": {
        "id": "nYEm96UMOMOs"
      },
      "source": [
        "def emailBodyGen(path):\n",
        "\n",
        "    for root, dirname, filenames in walk(path):\n",
        "        for fileName in filenames:\n",
        "\n",
        "            filepath = join(root, fileName)\n",
        "\n",
        "            stream = open(filepath, encoding='latin-1')\n",
        "\n",
        "            isBody = False\n",
        "            mainList = []\n",
        "\n",
        "            for line in stream:\n",
        "                if isBody:\n",
        "                    mainList.append(line)\n",
        "                elif line == '\\n':\n",
        "                    isBody = True\n",
        "\n",
        "            stream.close()\n",
        "\n",
        "            finalBody = '\\n'.join(mainList)\n",
        "            \n",
        "            yield fileName, finalBody"
      ],
      "execution_count": 68,
      "outputs": []
    },
    {
      "cell_type": "code",
      "metadata": {
        "id": "YPTszd0HZmrm"
      },
      "source": [
        "def dfFromDir(path, classify):\n",
        "    \n",
        "    rows = []\n",
        "    rowNames = []\n",
        "\n",
        "    for fileName, finalBody in emailBodyGen(path):\n",
        "        rows.append({'CATEGORY': classify, 'MESSAGE': finalBody})\n",
        "        rowNames.append(fileName)\n",
        "\n",
        "    return pd.DataFrame(rows, index=rowNames) "
      ],
      "execution_count": 69,
      "outputs": []
    },
    {
      "cell_type": "code",
      "metadata": {
        "colab": {
          "base_uri": "https://localhost:8080/",
          "height": 408
        },
        "id": "LkQsTFj5bGvk",
        "outputId": "d211c2cc-31d5-40b5-83c8-8a483749bd91"
      },
      "source": [
        "#Storing the spam emails in a spamEmails dataframe\n",
        "\n",
        "spamEmails = dfFromDir(spam1, spam)\n",
        "spamEmails = spamEmails.append(dfFromDir(spam2, spam))\n",
        "spamEmails"
      ],
      "execution_count": 70,
      "outputs": [
        {
          "output_type": "execute_result",
          "data": {
            "text/html": [
              "<div>\n",
              "<style scoped>\n",
              "    .dataframe tbody tr th:only-of-type {\n",
              "        vertical-align: middle;\n",
              "    }\n",
              "\n",
              "    .dataframe tbody tr th {\n",
              "        vertical-align: top;\n",
              "    }\n",
              "\n",
              "    .dataframe thead th {\n",
              "        text-align: right;\n",
              "    }\n",
              "</style>\n",
              "<table border=\"1\" class=\"dataframe\">\n",
              "  <thead>\n",
              "    <tr style=\"text-align: right;\">\n",
              "      <th></th>\n",
              "      <th>CATEGORY</th>\n",
              "      <th>MESSAGE</th>\n",
              "    </tr>\n",
              "  </thead>\n",
              "  <tbody>\n",
              "    <tr>\n",
              "      <th>00273.0c7d73771d79e84e2aab8c909c5bb210</th>\n",
              "      <td>0</td>\n",
              "      <td>This is a multi-part message in MIME format.\\n...</td>\n",
              "    </tr>\n",
              "    <tr>\n",
              "      <th>00154.b6c448ccff434e2dbe2c7c200a36aa31</th>\n",
              "      <td>0</td>\n",
              "      <td>On January 1st 2002, the European countries be...</td>\n",
              "    </tr>\n",
              "    <tr>\n",
              "      <th>00223.349b9b0748ee72bad60729ffaae2cc00</th>\n",
              "      <td>0</td>\n",
              "      <td>This is a multi-part message in MIME format.\\n...</td>\n",
              "    </tr>\n",
              "    <tr>\n",
              "      <th>00351.fd1b8a6cd42e81125fb38c2660cd9317</th>\n",
              "      <td>0</td>\n",
              "      <td>&lt;!DOCTYPE HTML PUBLIC \"-//W3C//DTD HTML 3.2//E...</td>\n",
              "    </tr>\n",
              "    <tr>\n",
              "      <th>00001.7848dde101aa985090474a91ec93fcf0</th>\n",
              "      <td>0</td>\n",
              "      <td>&lt;!DOCTYPE HTML PUBLIC \"-//W3C//DTD HTML 4.0 Tr...</td>\n",
              "    </tr>\n",
              "    <tr>\n",
              "      <th>...</th>\n",
              "      <td>...</td>\n",
              "      <td>...</td>\n",
              "    </tr>\n",
              "    <tr>\n",
              "      <th>00521.70417de823222858b4100b6030a64168</th>\n",
              "      <td>0</td>\n",
              "      <td>BUY 2 ADULT DVDs AT REGULAR PRICE AND GET A TH...</td>\n",
              "    </tr>\n",
              "    <tr>\n",
              "      <th>00484.602c7afb217663a43dd5fa24d97d1ca4</th>\n",
              "      <td>0</td>\n",
              "      <td>------=_NextPart_000_0066_62CFF34B.9C652FBA\\n\\...</td>\n",
              "    </tr>\n",
              "    <tr>\n",
              "      <th>00580.c3b23134b4767f5e796d0df997fede33</th>\n",
              "      <td>0</td>\n",
              "      <td>\\n\\n&lt;html&gt;\\n\\n\\n\\n&lt;head&gt;\\n\\n&lt;/head&gt;\\n\\n\\n\\n&lt;bo...</td>\n",
              "    </tr>\n",
              "    <tr>\n",
              "      <th>00320.a4e760741d537aef50c4c0b950329225</th>\n",
              "      <td>0</td>\n",
              "      <td>&lt;=21DOCTYPE HTML PUBLIC =22-//W3C//DTD HTML 4....</td>\n",
              "    </tr>\n",
              "    <tr>\n",
              "      <th>00642.f213f657ab630999a8d34c26060d79fc</th>\n",
              "      <td>0</td>\n",
              "      <td>\\n\\nGET PAID    for it !\\n\\n\\n\\nLOOKING FOR AM...</td>\n",
              "    </tr>\n",
              "  </tbody>\n",
              "</table>\n",
              "<p>1898 rows × 2 columns</p>\n",
              "</div>"
            ],
            "text/plain": [
              "                                        CATEGORY                                            MESSAGE\n",
              "00273.0c7d73771d79e84e2aab8c909c5bb210         0  This is a multi-part message in MIME format.\\n...\n",
              "00154.b6c448ccff434e2dbe2c7c200a36aa31         0  On January 1st 2002, the European countries be...\n",
              "00223.349b9b0748ee72bad60729ffaae2cc00         0  This is a multi-part message in MIME format.\\n...\n",
              "00351.fd1b8a6cd42e81125fb38c2660cd9317         0  <!DOCTYPE HTML PUBLIC \"-//W3C//DTD HTML 3.2//E...\n",
              "00001.7848dde101aa985090474a91ec93fcf0         0  <!DOCTYPE HTML PUBLIC \"-//W3C//DTD HTML 4.0 Tr...\n",
              "...                                          ...                                                ...\n",
              "00521.70417de823222858b4100b6030a64168         0  BUY 2 ADULT DVDs AT REGULAR PRICE AND GET A TH...\n",
              "00484.602c7afb217663a43dd5fa24d97d1ca4         0  ------=_NextPart_000_0066_62CFF34B.9C652FBA\\n\\...\n",
              "00580.c3b23134b4767f5e796d0df997fede33         0  \\n\\n<html>\\n\\n\\n\\n<head>\\n\\n</head>\\n\\n\\n\\n<bo...\n",
              "00320.a4e760741d537aef50c4c0b950329225         0  <=21DOCTYPE HTML PUBLIC =22-//W3C//DTD HTML 4....\n",
              "00642.f213f657ab630999a8d34c26060d79fc         0  \\n\\nGET PAID    for it !\\n\\n\\n\\nLOOKING FOR AM...\n",
              "\n",
              "[1898 rows x 2 columns]"
            ]
          },
          "metadata": {},
          "execution_count": 70
        }
      ]
    },
    {
      "cell_type": "code",
      "metadata": {
        "colab": {
          "base_uri": "https://localhost:8080/",
          "height": 408
        },
        "id": "4TN8ClCYkAxz",
        "outputId": "8c7c10b7-0594-49db-ce70-406a0b0d03b5"
      },
      "source": [
        "#Storing non spam emails in a notSpaEmails dataframe\n",
        "\n",
        "notSpamEmails = dfFromDir(notSpam1, notSpam)\n",
        "notSpamEmails = notSpamEmails.append(dfFromDir(notSpam2, notSpam))\n",
        "notSpamEmails"
      ],
      "execution_count": 71,
      "outputs": [
        {
          "output_type": "execute_result",
          "data": {
            "text/html": [
              "<div>\n",
              "<style scoped>\n",
              "    .dataframe tbody tr th:only-of-type {\n",
              "        vertical-align: middle;\n",
              "    }\n",
              "\n",
              "    .dataframe tbody tr th {\n",
              "        vertical-align: top;\n",
              "    }\n",
              "\n",
              "    .dataframe thead th {\n",
              "        text-align: right;\n",
              "    }\n",
              "</style>\n",
              "<table border=\"1\" class=\"dataframe\">\n",
              "  <thead>\n",
              "    <tr style=\"text-align: right;\">\n",
              "      <th></th>\n",
              "      <th>CATEGORY</th>\n",
              "      <th>MESSAGE</th>\n",
              "    </tr>\n",
              "  </thead>\n",
              "  <tbody>\n",
              "    <tr>\n",
              "      <th>01565.c10c0b0e0c9903345e28f9c17fc84400</th>\n",
              "      <td>1</td>\n",
              "      <td>\\n\\n--iJXiJc/TAIT2rh2r\\n\\nContent-Type: text/p...</td>\n",
              "    </tr>\n",
              "    <tr>\n",
              "      <th>01433.4392b7c4884f0f218e74a0b86cc5b8c3</th>\n",
              "      <td>1</td>\n",
              "      <td>\\n\\n\"zeek\" said:\\n\\n\\n\\n&gt; This was thoroughly ...</td>\n",
              "    </tr>\n",
              "    <tr>\n",
              "      <th>01413.d1561ddcf3ead3a670b4516b3337216c</th>\n",
              "      <td>1</td>\n",
              "      <td>&gt; &gt; Is the use of \"trusted hardware\" really wo...</td>\n",
              "    </tr>\n",
              "    <tr>\n",
              "      <th>01856.c021a63248e3e6a2e151b67689d75e13</th>\n",
              "      <td>1</td>\n",
              "      <td>URL: http://diveintomark.org/archives/2002/09/...</td>\n",
              "    </tr>\n",
              "    <tr>\n",
              "      <th>01498.e0d9701d1bf2798b86efb602a44d072b</th>\n",
              "      <td>1</td>\n",
              "      <td>http://www.hughes-family.org/bugzilla/show_bug...</td>\n",
              "    </tr>\n",
              "    <tr>\n",
              "      <th>...</th>\n",
              "      <td>...</td>\n",
              "      <td>...</td>\n",
              "    </tr>\n",
              "    <tr>\n",
              "      <th>00695.2de9d6d30a7713e550b4fd02bb35e7b4</th>\n",
              "      <td>1</td>\n",
              "      <td>\"This is a very tenuous time for Microsoft,\" G...</td>\n",
              "    </tr>\n",
              "    <tr>\n",
              "      <th>01137.e0afde7fc471f626742746c738013750</th>\n",
              "      <td>1</td>\n",
              "      <td>On 21 Jul 2002 23:59:59 +1200\\n\\nMark Derricut...</td>\n",
              "    </tr>\n",
              "    <tr>\n",
              "      <th>01294.7f208bf4ae152863fd40f25e2e121d49</th>\n",
              "      <td>1</td>\n",
              "      <td>Pablo Sofware Solutions FTP server Directory T...</td>\n",
              "    </tr>\n",
              "    <tr>\n",
              "      <th>00747.352d424267d36975a7b40b85ffd0885e</th>\n",
              "      <td>1</td>\n",
              "      <td>If you run Pick, and then use the \"New FTOC\" b...</td>\n",
              "    </tr>\n",
              "    <tr>\n",
              "      <th>00654.7e84d693f6d2dc216aa501c47db607f7</th>\n",
              "      <td>1</td>\n",
              "      <td>On Wed, 14 Aug 2002, Chip Paswater wrote:\\n\\n\\...</td>\n",
              "    </tr>\n",
              "  </tbody>\n",
              "</table>\n",
              "<p>3901 rows × 2 columns</p>\n",
              "</div>"
            ],
            "text/plain": [
              "                                        CATEGORY                                            MESSAGE\n",
              "01565.c10c0b0e0c9903345e28f9c17fc84400         1  \\n\\n--iJXiJc/TAIT2rh2r\\n\\nContent-Type: text/p...\n",
              "01433.4392b7c4884f0f218e74a0b86cc5b8c3         1  \\n\\n\"zeek\" said:\\n\\n\\n\\n> This was thoroughly ...\n",
              "01413.d1561ddcf3ead3a670b4516b3337216c         1  > > Is the use of \"trusted hardware\" really wo...\n",
              "01856.c021a63248e3e6a2e151b67689d75e13         1  URL: http://diveintomark.org/archives/2002/09/...\n",
              "01498.e0d9701d1bf2798b86efb602a44d072b         1  http://www.hughes-family.org/bugzilla/show_bug...\n",
              "...                                          ...                                                ...\n",
              "00695.2de9d6d30a7713e550b4fd02bb35e7b4         1  \"This is a very tenuous time for Microsoft,\" G...\n",
              "01137.e0afde7fc471f626742746c738013750         1  On 21 Jul 2002 23:59:59 +1200\\n\\nMark Derricut...\n",
              "01294.7f208bf4ae152863fd40f25e2e121d49         1  Pablo Sofware Solutions FTP server Directory T...\n",
              "00747.352d424267d36975a7b40b85ffd0885e         1  If you run Pick, and then use the \"New FTOC\" b...\n",
              "00654.7e84d693f6d2dc216aa501c47db607f7         1  On Wed, 14 Aug 2002, Chip Paswater wrote:\\n\\n\\...\n",
              "\n",
              "[3901 rows x 2 columns]"
            ]
          },
          "metadata": {},
          "execution_count": 71
        }
      ]
    },
    {
      "cell_type": "code",
      "metadata": {
        "colab": {
          "base_uri": "https://localhost:8080/",
          "height": 408
        },
        "id": "6XKnNpmLkKCk",
        "outputId": "b07246df-6d6a-48c6-a7d3-6133eea4ba9c"
      },
      "source": [
        "#Conacatenating the 2 dataframes to create a collusive dataframe for all the values\n",
        "\n",
        "data = pd.concat([spamEmails, notSpamEmails])\n",
        "data"
      ],
      "execution_count": 72,
      "outputs": [
        {
          "output_type": "execute_result",
          "data": {
            "text/html": [
              "<div>\n",
              "<style scoped>\n",
              "    .dataframe tbody tr th:only-of-type {\n",
              "        vertical-align: middle;\n",
              "    }\n",
              "\n",
              "    .dataframe tbody tr th {\n",
              "        vertical-align: top;\n",
              "    }\n",
              "\n",
              "    .dataframe thead th {\n",
              "        text-align: right;\n",
              "    }\n",
              "</style>\n",
              "<table border=\"1\" class=\"dataframe\">\n",
              "  <thead>\n",
              "    <tr style=\"text-align: right;\">\n",
              "      <th></th>\n",
              "      <th>CATEGORY</th>\n",
              "      <th>MESSAGE</th>\n",
              "    </tr>\n",
              "  </thead>\n",
              "  <tbody>\n",
              "    <tr>\n",
              "      <th>00273.0c7d73771d79e84e2aab8c909c5bb210</th>\n",
              "      <td>0</td>\n",
              "      <td>This is a multi-part message in MIME format.\\n...</td>\n",
              "    </tr>\n",
              "    <tr>\n",
              "      <th>00154.b6c448ccff434e2dbe2c7c200a36aa31</th>\n",
              "      <td>0</td>\n",
              "      <td>On January 1st 2002, the European countries be...</td>\n",
              "    </tr>\n",
              "    <tr>\n",
              "      <th>00223.349b9b0748ee72bad60729ffaae2cc00</th>\n",
              "      <td>0</td>\n",
              "      <td>This is a multi-part message in MIME format.\\n...</td>\n",
              "    </tr>\n",
              "    <tr>\n",
              "      <th>00351.fd1b8a6cd42e81125fb38c2660cd9317</th>\n",
              "      <td>0</td>\n",
              "      <td>&lt;!DOCTYPE HTML PUBLIC \"-//W3C//DTD HTML 3.2//E...</td>\n",
              "    </tr>\n",
              "    <tr>\n",
              "      <th>00001.7848dde101aa985090474a91ec93fcf0</th>\n",
              "      <td>0</td>\n",
              "      <td>&lt;!DOCTYPE HTML PUBLIC \"-//W3C//DTD HTML 4.0 Tr...</td>\n",
              "    </tr>\n",
              "    <tr>\n",
              "      <th>...</th>\n",
              "      <td>...</td>\n",
              "      <td>...</td>\n",
              "    </tr>\n",
              "    <tr>\n",
              "      <th>00695.2de9d6d30a7713e550b4fd02bb35e7b4</th>\n",
              "      <td>1</td>\n",
              "      <td>\"This is a very tenuous time for Microsoft,\" G...</td>\n",
              "    </tr>\n",
              "    <tr>\n",
              "      <th>01137.e0afde7fc471f626742746c738013750</th>\n",
              "      <td>1</td>\n",
              "      <td>On 21 Jul 2002 23:59:59 +1200\\n\\nMark Derricut...</td>\n",
              "    </tr>\n",
              "    <tr>\n",
              "      <th>01294.7f208bf4ae152863fd40f25e2e121d49</th>\n",
              "      <td>1</td>\n",
              "      <td>Pablo Sofware Solutions FTP server Directory T...</td>\n",
              "    </tr>\n",
              "    <tr>\n",
              "      <th>00747.352d424267d36975a7b40b85ffd0885e</th>\n",
              "      <td>1</td>\n",
              "      <td>If you run Pick, and then use the \"New FTOC\" b...</td>\n",
              "    </tr>\n",
              "    <tr>\n",
              "      <th>00654.7e84d693f6d2dc216aa501c47db607f7</th>\n",
              "      <td>1</td>\n",
              "      <td>On Wed, 14 Aug 2002, Chip Paswater wrote:\\n\\n\\...</td>\n",
              "    </tr>\n",
              "  </tbody>\n",
              "</table>\n",
              "<p>5799 rows × 2 columns</p>\n",
              "</div>"
            ],
            "text/plain": [
              "                                        CATEGORY                                            MESSAGE\n",
              "00273.0c7d73771d79e84e2aab8c909c5bb210         0  This is a multi-part message in MIME format.\\n...\n",
              "00154.b6c448ccff434e2dbe2c7c200a36aa31         0  On January 1st 2002, the European countries be...\n",
              "00223.349b9b0748ee72bad60729ffaae2cc00         0  This is a multi-part message in MIME format.\\n...\n",
              "00351.fd1b8a6cd42e81125fb38c2660cd9317         0  <!DOCTYPE HTML PUBLIC \"-//W3C//DTD HTML 3.2//E...\n",
              "00001.7848dde101aa985090474a91ec93fcf0         0  <!DOCTYPE HTML PUBLIC \"-//W3C//DTD HTML 4.0 Tr...\n",
              "...                                          ...                                                ...\n",
              "00695.2de9d6d30a7713e550b4fd02bb35e7b4         1  \"This is a very tenuous time for Microsoft,\" G...\n",
              "01137.e0afde7fc471f626742746c738013750         1  On 21 Jul 2002 23:59:59 +1200\\n\\nMark Derricut...\n",
              "01294.7f208bf4ae152863fd40f25e2e121d49         1  Pablo Sofware Solutions FTP server Directory T...\n",
              "00747.352d424267d36975a7b40b85ffd0885e         1  If you run Pick, and then use the \"New FTOC\" b...\n",
              "00654.7e84d693f6d2dc216aa501c47db607f7         1  On Wed, 14 Aug 2002, Chip Paswater wrote:\\n\\n\\...\n",
              "\n",
              "[5799 rows x 2 columns]"
            ]
          },
          "metadata": {},
          "execution_count": 72
        }
      ]
    },
    {
      "cell_type": "markdown",
      "metadata": {
        "id": "xFp5-3gvlDYW"
      },
      "source": [
        "##Data Cleaning and Checking for Missing Values"
      ]
    },
    {
      "cell_type": "code",
      "metadata": {
        "colab": {
          "base_uri": "https://localhost:8080/"
        },
        "id": "q2QAI9u4kZ5K",
        "outputId": "d1c2db6a-c805-4eb4-a088-8ca2c7544c24"
      },
      "source": [
        "#Check if there are any missing values\n",
        "data['MESSAGE'].isnull().values.any() #Returns true if there are any missing values\n"
      ],
      "execution_count": 73,
      "outputs": [
        {
          "output_type": "execute_result",
          "data": {
            "text/plain": [
              "False"
            ]
          },
          "metadata": {},
          "execution_count": 73
        }
      ]
    },
    {
      "cell_type": "code",
      "metadata": {
        "colab": {
          "base_uri": "https://localhost:8080/"
        },
        "id": "0G9q0jXWliUA",
        "outputId": "9314700f-675a-4212-a4d4-3721f1690bc6"
      },
      "source": [
        "#Check if there are any empty emails with the string length of 0\n",
        "(data.MESSAGE.str.len() == 0).any()"
      ],
      "execution_count": 74,
      "outputs": [
        {
          "output_type": "execute_result",
          "data": {
            "text/plain": [
              "True"
            ]
          },
          "metadata": {},
          "execution_count": 74
        }
      ]
    },
    {
      "cell_type": "code",
      "metadata": {
        "colab": {
          "base_uri": "https://localhost:8080/"
        },
        "id": "2PDrhGa3mwiL",
        "outputId": "8ccf58b8-8268-4abc-bdbe-d29aba546e09"
      },
      "source": [
        "#Check how many entries have the string length of 0\n",
        "(data.MESSAGE.str.len() == 0).sum()"
      ],
      "execution_count": 75,
      "outputs": [
        {
          "output_type": "execute_result",
          "data": {
            "text/plain": [
              "3"
            ]
          },
          "metadata": {},
          "execution_count": 75
        }
      ]
    },
    {
      "cell_type": "code",
      "metadata": {
        "colab": {
          "base_uri": "https://localhost:8080/",
          "height": 138
        },
        "id": "gUfO-B8dnMem",
        "outputId": "151a239b-5274-49c1-a2ee-22eb5876dfac"
      },
      "source": [
        "#Getting the index of all the rows where the string length is 0\n",
        "data[(data.MESSAGE.str.len() == 0)]"
      ],
      "execution_count": 76,
      "outputs": [
        {
          "output_type": "execute_result",
          "data": {
            "text/html": [
              "<div>\n",
              "<style scoped>\n",
              "    .dataframe tbody tr th:only-of-type {\n",
              "        vertical-align: middle;\n",
              "    }\n",
              "\n",
              "    .dataframe tbody tr th {\n",
              "        vertical-align: top;\n",
              "    }\n",
              "\n",
              "    .dataframe thead th {\n",
              "        text-align: right;\n",
              "    }\n",
              "</style>\n",
              "<table border=\"1\" class=\"dataframe\">\n",
              "  <thead>\n",
              "    <tr style=\"text-align: right;\">\n",
              "      <th></th>\n",
              "      <th>CATEGORY</th>\n",
              "      <th>MESSAGE</th>\n",
              "    </tr>\n",
              "  </thead>\n",
              "  <tbody>\n",
              "    <tr>\n",
              "      <th>cmds</th>\n",
              "      <td>0</td>\n",
              "      <td></td>\n",
              "    </tr>\n",
              "    <tr>\n",
              "      <th>cmds</th>\n",
              "      <td>0</td>\n",
              "      <td></td>\n",
              "    </tr>\n",
              "    <tr>\n",
              "      <th>cmds</th>\n",
              "      <td>1</td>\n",
              "      <td></td>\n",
              "    </tr>\n",
              "  </tbody>\n",
              "</table>\n",
              "</div>"
            ],
            "text/plain": [
              "      CATEGORY MESSAGE\n",
              "cmds         0        \n",
              "cmds         0        \n",
              "cmds         1        "
            ]
          },
          "metadata": {},
          "execution_count": 76
        }
      ]
    },
    {
      "cell_type": "markdown",
      "metadata": {
        "id": "sv3zuM9mj9Ig"
      },
      "source": [
        "##Removinga and Renaming Entries from the Dataset"
      ]
    },
    {
      "cell_type": "code",
      "metadata": {
        "id": "j7XDaVQKn2dG"
      },
      "source": [
        "#cmds is  the ID of the column that refers to the null data\n",
        "\n",
        "data.drop(['cmds'], inplace=True)"
      ],
      "execution_count": 77,
      "outputs": []
    },
    {
      "cell_type": "code",
      "metadata": {
        "colab": {
          "base_uri": "https://localhost:8080/",
          "height": 445
        },
        "id": "pHnTBXdGkH6I",
        "outputId": "724c96c0-8bb9-4c3e-f820-366dacf452a0"
      },
      "source": [
        " #Adding Document IDs to track EMail IDs\n",
        "\n",
        "documentIDs = range(0, len(data.index))\n",
        "data['DOC_ID'] = documentIDs\n",
        "data['FILE_NAME'] = data.index\n",
        "data = data.set_index('DOC_ID')\n",
        "data"
      ],
      "execution_count": 78,
      "outputs": [
        {
          "output_type": "execute_result",
          "data": {
            "text/html": [
              "<div>\n",
              "<style scoped>\n",
              "    .dataframe tbody tr th:only-of-type {\n",
              "        vertical-align: middle;\n",
              "    }\n",
              "\n",
              "    .dataframe tbody tr th {\n",
              "        vertical-align: top;\n",
              "    }\n",
              "\n",
              "    .dataframe thead th {\n",
              "        text-align: right;\n",
              "    }\n",
              "</style>\n",
              "<table border=\"1\" class=\"dataframe\">\n",
              "  <thead>\n",
              "    <tr style=\"text-align: right;\">\n",
              "      <th></th>\n",
              "      <th>CATEGORY</th>\n",
              "      <th>MESSAGE</th>\n",
              "      <th>FILE_NAME</th>\n",
              "    </tr>\n",
              "    <tr>\n",
              "      <th>DOC_ID</th>\n",
              "      <th></th>\n",
              "      <th></th>\n",
              "      <th></th>\n",
              "    </tr>\n",
              "  </thead>\n",
              "  <tbody>\n",
              "    <tr>\n",
              "      <th>0</th>\n",
              "      <td>0</td>\n",
              "      <td>This is a multi-part message in MIME format.\\n...</td>\n",
              "      <td>00273.0c7d73771d79e84e2aab8c909c5bb210</td>\n",
              "    </tr>\n",
              "    <tr>\n",
              "      <th>1</th>\n",
              "      <td>0</td>\n",
              "      <td>On January 1st 2002, the European countries be...</td>\n",
              "      <td>00154.b6c448ccff434e2dbe2c7c200a36aa31</td>\n",
              "    </tr>\n",
              "    <tr>\n",
              "      <th>2</th>\n",
              "      <td>0</td>\n",
              "      <td>This is a multi-part message in MIME format.\\n...</td>\n",
              "      <td>00223.349b9b0748ee72bad60729ffaae2cc00</td>\n",
              "    </tr>\n",
              "    <tr>\n",
              "      <th>3</th>\n",
              "      <td>0</td>\n",
              "      <td>&lt;!DOCTYPE HTML PUBLIC \"-//W3C//DTD HTML 3.2//E...</td>\n",
              "      <td>00351.fd1b8a6cd42e81125fb38c2660cd9317</td>\n",
              "    </tr>\n",
              "    <tr>\n",
              "      <th>4</th>\n",
              "      <td>0</td>\n",
              "      <td>&lt;!DOCTYPE HTML PUBLIC \"-//W3C//DTD HTML 4.0 Tr...</td>\n",
              "      <td>00001.7848dde101aa985090474a91ec93fcf0</td>\n",
              "    </tr>\n",
              "    <tr>\n",
              "      <th>...</th>\n",
              "      <td>...</td>\n",
              "      <td>...</td>\n",
              "      <td>...</td>\n",
              "    </tr>\n",
              "    <tr>\n",
              "      <th>5791</th>\n",
              "      <td>1</td>\n",
              "      <td>\"This is a very tenuous time for Microsoft,\" G...</td>\n",
              "      <td>00695.2de9d6d30a7713e550b4fd02bb35e7b4</td>\n",
              "    </tr>\n",
              "    <tr>\n",
              "      <th>5792</th>\n",
              "      <td>1</td>\n",
              "      <td>On 21 Jul 2002 23:59:59 +1200\\n\\nMark Derricut...</td>\n",
              "      <td>01137.e0afde7fc471f626742746c738013750</td>\n",
              "    </tr>\n",
              "    <tr>\n",
              "      <th>5793</th>\n",
              "      <td>1</td>\n",
              "      <td>Pablo Sofware Solutions FTP server Directory T...</td>\n",
              "      <td>01294.7f208bf4ae152863fd40f25e2e121d49</td>\n",
              "    </tr>\n",
              "    <tr>\n",
              "      <th>5794</th>\n",
              "      <td>1</td>\n",
              "      <td>If you run Pick, and then use the \"New FTOC\" b...</td>\n",
              "      <td>00747.352d424267d36975a7b40b85ffd0885e</td>\n",
              "    </tr>\n",
              "    <tr>\n",
              "      <th>5795</th>\n",
              "      <td>1</td>\n",
              "      <td>On Wed, 14 Aug 2002, Chip Paswater wrote:\\n\\n\\...</td>\n",
              "      <td>00654.7e84d693f6d2dc216aa501c47db607f7</td>\n",
              "    </tr>\n",
              "  </tbody>\n",
              "</table>\n",
              "<p>5796 rows × 3 columns</p>\n",
              "</div>"
            ],
            "text/plain": [
              "        CATEGORY  ...                               FILE_NAME\n",
              "DOC_ID            ...                                        \n",
              "0              0  ...  00273.0c7d73771d79e84e2aab8c909c5bb210\n",
              "1              0  ...  00154.b6c448ccff434e2dbe2c7c200a36aa31\n",
              "2              0  ...  00223.349b9b0748ee72bad60729ffaae2cc00\n",
              "3              0  ...  00351.fd1b8a6cd42e81125fb38c2660cd9317\n",
              "4              0  ...  00001.7848dde101aa985090474a91ec93fcf0\n",
              "...          ...  ...                                     ...\n",
              "5791           1  ...  00695.2de9d6d30a7713e550b4fd02bb35e7b4\n",
              "5792           1  ...  01137.e0afde7fc471f626742746c738013750\n",
              "5793           1  ...  01294.7f208bf4ae152863fd40f25e2e121d49\n",
              "5794           1  ...  00747.352d424267d36975a7b40b85ffd0885e\n",
              "5795           1  ...  00654.7e84d693f6d2dc216aa501c47db607f7\n",
              "\n",
              "[5796 rows x 3 columns]"
            ]
          },
          "metadata": {},
          "execution_count": 78
        }
      ]
    },
    {
      "cell_type": "markdown",
      "metadata": {
        "id": "0IVywo0Zn8G6"
      },
      "source": [
        "##Saving the dataframe to the disk"
      ]
    },
    {
      "cell_type": "code",
      "metadata": {
        "id": "4ehYGia0nGSi"
      },
      "source": [
        "data.to_json(dataJSON)"
      ],
      "execution_count": 79,
      "outputs": []
    },
    {
      "cell_type": "markdown",
      "metadata": {
        "id": "fYu6H166pOFe"
      },
      "source": [
        "##Data Visualization through Pie Charts and Donut Charts\n",
        "\n"
      ]
    },
    {
      "cell_type": "code",
      "metadata": {
        "id": "lajiv7I8oWAn"
      },
      "source": [
        "spamCounts = data.CATEGORY.value_counts()[0]\n",
        "notSpamCounts = data.CATEGORY.value_counts()[1]"
      ],
      "execution_count": 105,
      "outputs": []
    },
    {
      "cell_type": "code",
      "metadata": {
        "colab": {
          "base_uri": "https://localhost:8080/",
          "height": 530
        },
        "id": "uzSuHyXip96b",
        "outputId": "14f1b591-782e-4f5f-c420-a5cf9ad68d0b"
      },
      "source": [
        "#Creating a pie chart\n",
        "\n",
        "categoryNames = ['Spam', 'Legit Mail']\n",
        "size = [spamCounts, notSpamCounts]\n",
        "colors = ['#ff7675', '#74b9ff']\n",
        "\n",
        "plt.figure(figsize=(2, 2), dpi=300)\n",
        "plt.pie(size, labels=categoryNames, textprops={'fontsize': 6}, autopct='%1.0f%%', colors=colors, explode=[0, 0.05], startangle=90)\n",
        "plt.show()"
      ],
      "execution_count": 106,
      "outputs": [
        {
          "output_type": "display_data",
          "data": {
            "image/png": "[encoded data removed]",
            "text/plain": [
              "<Figure size 600x600 with 1 Axes>"
            ]
          },
          "metadata": {}
        }
      ]
    },
    {
      "cell_type": "code",
      "metadata": {
        "id": "m3wpgUf4qPPp"
      },
      "source": [
        "#Creating a donut chart\n",
        "\n",
        "categoryNames = ['Spam', 'Legit Mail']\n",
        "size = [spamCounts, notSpamCounts]\n",
        "colors = ['#ff7675', '#74b9ff']\n",
        "\n",
        "plt.figure(figsize=(2, 2), dpi=300)\n",
        "plt.pie(size, labels=categoryNames, textprops={'fontsize': 6}, autopct='%1.0f%%', colors=colors, explode=[0, 0.05], startangle=90)\n",
        "plt.show()"
      ],
      "execution_count": null,
      "outputs": []
    }
  ]
}