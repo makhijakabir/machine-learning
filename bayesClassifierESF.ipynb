{
  "nbformat": 4,
  "nbformat_minor": 0,
  "metadata": {
    "colab": {
      "name": "bayesClassifierESF",
      "provenance": [],
      "mount_file_id": "1hTrOv-8giR20RWGiFJNQJaUm9Fky3nCT",
      "authorship_tag": "ABX9TyOaAkUOelMeGRg8qR2X+DO3",
      "include_colab_link": true
    },
    "kernelspec": {
      "name": "python3",
      "display_name": "Python 3"
    },
    "language_info": {
      "name": "python"
    }
  },
  "cells": [
    {
      "cell_type": "markdown",
      "metadata": {
        "id": "view-in-github",
        "colab_type": "text"
      },
      "source": [
        "<a href=\"https://colab.research.google.com/github/makhijakabir/machine-learning/blob/main/bayesClassifierESF.ipynb\" target=\"_parent\"><img src=\"https://colab.research.google.com/assets/colab-badge.svg\" alt=\"Open In Colab\"/></a>"
      ]
    },
    {
      "cell_type": "markdown",
      "metadata": {
        "id": "0vvR8mcYJYKZ"
      },
      "source": [
        "#An Email Spam Filter using the Baye's Classifier"
      ]
    },
    {
      "cell_type": "markdown",
      "metadata": {
        "id": "T3U-o5TfJKuU"
      },
      "source": [
        "##Imports"
      ]
    },
    {
      "cell_type": "code",
      "metadata": {
        "id": "Q44aFpr1JG5l",
        "colab": {
          "base_uri": "https://localhost:8080/"
        },
        "outputId": "21e77c9b-cfa2-40e1-96df-e36cbf12d9cb"
      },
      "source": [
        "!pip install wordcloud\n",
        "\n",
        "from os import walk\n",
        "from os.path import join\n",
        "\n",
        "import pandas as pd\n",
        "import matplotlib.pyplot as plt\n",
        "\n",
        "import nltk\n",
        "from nltk.stem import PorterStemmer\n",
        "from nltk.corpus import stopwords\n",
        "from nltk.tokenize import word_tokenize\n",
        "\n",
        "from bs4 import BeautifulSoup\n",
        "\n",
        "from wordcloud import WordCloud\n",
        "\n",
        "nltk.download('all')\n",
        "\n",
        "%matplotlib inline"
      ],
      "execution_count": 1,
      "outputs": [
        {
          "output_type": "stream",
          "name": "stdout",
          "text": [
            "Requirement already satisfied: wordcloud in /usr/local/lib/python3.7/dist-packages (1.5.0)\n",
            "Requirement already satisfied: numpy>=1.6.1 in /usr/local/lib/python3.7/dist-packages (from wordcloud) (1.19.5)\n",
            "Requirement already satisfied: pillow in /usr/local/lib/python3.7/dist-packages (from wordcloud) (7.1.2)\n",
            "[nltk_data] Downloading collection 'all'\n",
            "[nltk_data]    | \n",
            "[nltk_data]    | Downloading package abc to /root/nltk_data...\n",
            "[nltk_data]    |   Unzipping corpora/abc.zip.\n",
            "[nltk_data]    | Downloading package alpino to /root/nltk_data...\n",
            "[nltk_data]    |   Unzipping corpora/alpino.zip.\n",
            "[nltk_data]    | Downloading package biocreative_ppi to\n",
            "[nltk_data]    |     /root/nltk_data...\n",
            "[nltk_data]    |   Unzipping corpora/biocreative_ppi.zip.\n",
            "[nltk_data]    | Downloading package brown to /root/nltk_data...\n",
            "[nltk_data]    |   Unzipping corpora/brown.zip.\n",
            "[nltk_data]    | Downloading package brown_tei to /root/nltk_data...\n",
            "[nltk_data]    |   Unzipping corpora/brown_tei.zip.\n",
            "[nltk_data]    | Downloading package cess_cat to /root/nltk_data...\n",
            "[nltk_data]    |   Unzipping corpora/cess_cat.zip.\n",
            "[nltk_data]    | Downloading package cess_esp to /root/nltk_data...\n",
            "[nltk_data]    |   Unzipping corpora/cess_esp.zip.\n",
            "[nltk_data]    | Downloading package chat80 to /root/nltk_data...\n",
            "[nltk_data]    |   Unzipping corpora/chat80.zip.\n",
            "[nltk_data]    | Downloading package city_database to\n",
            "[nltk_data]    |     /root/nltk_data...\n",
            "[nltk_data]    |   Unzipping corpora/city_database.zip.\n",
            "[nltk_data]    | Downloading package cmudict to /root/nltk_data...\n",
            "[nltk_data]    |   Unzipping corpora/cmudict.zip.\n",
            "[nltk_data]    | Downloading package comparative_sentences to\n",
            "[nltk_data]    |     /root/nltk_data...\n",
            "[nltk_data]    |   Unzipping corpora/comparative_sentences.zip.\n",
            "[nltk_data]    | Downloading package comtrans to /root/nltk_data...\n",
            "[nltk_data]    | Downloading package conll2000 to /root/nltk_data...\n",
            "[nltk_data]    |   Unzipping corpora/conll2000.zip.\n",
            "[nltk_data]    | Downloading package conll2002 to /root/nltk_data...\n",
            "[nltk_data]    |   Unzipping corpora/conll2002.zip.\n",
            "[nltk_data]    | Downloading package conll2007 to /root/nltk_data...\n",
            "[nltk_data]    | Downloading package crubadan to /root/nltk_data...\n",
            "[nltk_data]    |   Unzipping corpora/crubadan.zip.\n",
            "[nltk_data]    | Downloading package dependency_treebank to\n",
            "[nltk_data]    |     /root/nltk_data...\n",
            "[nltk_data]    |   Unzipping corpora/dependency_treebank.zip.\n",
            "[nltk_data]    | Downloading package dolch to /root/nltk_data...\n",
            "[nltk_data]    |   Unzipping corpora/dolch.zip.\n",
            "[nltk_data]    | Downloading package europarl_raw to\n",
            "[nltk_data]    |     /root/nltk_data...\n",
            "[nltk_data]    |   Unzipping corpora/europarl_raw.zip.\n",
            "[nltk_data]    | Downloading package floresta to /root/nltk_data...\n",
            "[nltk_data]    |   Unzipping corpora/floresta.zip.\n",
            "[nltk_data]    | Downloading package framenet_v15 to\n",
            "[nltk_data]    |     /root/nltk_data...\n",
            "[nltk_data]    |   Unzipping corpora/framenet_v15.zip.\n",
            "[nltk_data]    | Downloading package framenet_v17 to\n",
            "[nltk_data]    |     /root/nltk_data...\n",
            "[nltk_data]    |   Unzipping corpora/framenet_v17.zip.\n",
            "[nltk_data]    | Downloading package gazetteers to /root/nltk_data...\n",
            "[nltk_data]    |   Unzipping corpora/gazetteers.zip.\n",
            "[nltk_data]    | Downloading package genesis to /root/nltk_data...\n",
            "[nltk_data]    |   Unzipping corpora/genesis.zip.\n",
            "[nltk_data]    | Downloading package gutenberg to /root/nltk_data...\n",
            "[nltk_data]    |   Unzipping corpora/gutenberg.zip.\n",
            "[nltk_data]    | Downloading package ieer to /root/nltk_data...\n",
            "[nltk_data]    |   Unzipping corpora/ieer.zip.\n",
            "[nltk_data]    | Downloading package inaugural to /root/nltk_data...\n",
            "[nltk_data]    |   Unzipping corpora/inaugural.zip.\n",
            "[nltk_data]    | Downloading package indian to /root/nltk_data...\n",
            "[nltk_data]    |   Unzipping corpora/indian.zip.\n",
            "[nltk_data]    | Downloading package jeita to /root/nltk_data...\n",
            "[nltk_data]    | Downloading package kimmo to /root/nltk_data...\n",
            "[nltk_data]    |   Unzipping corpora/kimmo.zip.\n",
            "[nltk_data]    | Downloading package knbc to /root/nltk_data...\n",
            "[nltk_data]    | Downloading package lin_thesaurus to\n",
            "[nltk_data]    |     /root/nltk_data...\n",
            "[nltk_data]    |   Unzipping corpora/lin_thesaurus.zip.\n",
            "[nltk_data]    | Downloading package mac_morpho to /root/nltk_data...\n",
            "[nltk_data]    |   Unzipping corpora/mac_morpho.zip.\n",
            "[nltk_data]    | Downloading package machado to /root/nltk_data...\n",
            "[nltk_data]    | Downloading package masc_tagged to /root/nltk_data...\n",
            "[nltk_data]    | Downloading package moses_sample to\n",
            "[nltk_data]    |     /root/nltk_data...\n",
            "[nltk_data]    |   Unzipping models/moses_sample.zip.\n",
            "[nltk_data]    | Downloading package movie_reviews to\n",
            "[nltk_data]    |     /root/nltk_data...\n",
            "[nltk_data]    |   Unzipping corpora/movie_reviews.zip.\n",
            "[nltk_data]    | Downloading package names to /root/nltk_data...\n",
            "[nltk_data]    |   Unzipping corpora/names.zip.\n",
            "[nltk_data]    | Downloading package nombank.1.0 to /root/nltk_data...\n",
            "[nltk_data]    | Downloading package nps_chat to /root/nltk_data...\n",
            "[nltk_data]    |   Unzipping corpora/nps_chat.zip.\n",
            "[nltk_data]    | Downloading package omw to /root/nltk_data...\n",
            "[nltk_data]    |   Unzipping corpora/omw.zip.\n",
            "[nltk_data]    | Downloading package opinion_lexicon to\n",
            "[nltk_data]    |     /root/nltk_data...\n",
            "[nltk_data]    |   Unzipping corpora/opinion_lexicon.zip.\n",
            "[nltk_data]    | Downloading package paradigms to /root/nltk_data...\n",
            "[nltk_data]    |   Unzipping corpora/paradigms.zip.\n",
            "[nltk_data]    | Downloading package pil to /root/nltk_data...\n",
            "[nltk_data]    |   Unzipping corpora/pil.zip.\n",
            "[nltk_data]    | Downloading package pl196x to /root/nltk_data...\n",
            "[nltk_data]    |   Unzipping corpora/pl196x.zip.\n",
            "[nltk_data]    | Downloading package ppattach to /root/nltk_data...\n",
            "[nltk_data]    |   Unzipping corpora/ppattach.zip.\n",
            "[nltk_data]    | Downloading package problem_reports to\n",
            "[nltk_data]    |     /root/nltk_data...\n",
            "[nltk_data]    |   Unzipping corpora/problem_reports.zip.\n",
            "[nltk_data]    | Downloading package propbank to /root/nltk_data...\n",
            "[nltk_data]    | Downloading package ptb to /root/nltk_data...\n",
            "[nltk_data]    |   Unzipping corpora/ptb.zip.\n",
            "[nltk_data]    | Downloading package product_reviews_1 to\n",
            "[nltk_data]    |     /root/nltk_data...\n",
            "[nltk_data]    |   Unzipping corpora/product_reviews_1.zip.\n",
            "[nltk_data]    | Downloading package product_reviews_2 to\n",
            "[nltk_data]    |     /root/nltk_data...\n",
            "[nltk_data]    |   Unzipping corpora/product_reviews_2.zip.\n",
            "[nltk_data]    | Downloading package pros_cons to /root/nltk_data...\n",
            "[nltk_data]    |   Unzipping corpora/pros_cons.zip.\n",
            "[nltk_data]    | Downloading package qc to /root/nltk_data...\n",
            "[nltk_data]    |   Unzipping corpora/qc.zip.\n",
            "[nltk_data]    | Downloading package reuters to /root/nltk_data...\n",
            "[nltk_data]    | Downloading package rte to /root/nltk_data...\n",
            "[nltk_data]    |   Unzipping corpora/rte.zip.\n",
            "[nltk_data]    | Downloading package semcor to /root/nltk_data...\n",
            "[nltk_data]    | Downloading package senseval to /root/nltk_data...\n",
            "[nltk_data]    |   Unzipping corpora/senseval.zip.\n",
            "[nltk_data]    | Downloading package sentiwordnet to\n",
            "[nltk_data]    |     /root/nltk_data...\n",
            "[nltk_data]    |   Unzipping corpora/sentiwordnet.zip.\n",
            "[nltk_data]    | Downloading package sentence_polarity to\n",
            "[nltk_data]    |     /root/nltk_data...\n",
            "[nltk_data]    |   Unzipping corpora/sentence_polarity.zip.\n",
            "[nltk_data]    | Downloading package shakespeare to /root/nltk_data...\n",
            "[nltk_data]    |   Unzipping corpora/shakespeare.zip.\n",
            "[nltk_data]    | Downloading package sinica_treebank to\n",
            "[nltk_data]    |     /root/nltk_data...\n",
            "[nltk_data]    |   Unzipping corpora/sinica_treebank.zip.\n",
            "[nltk_data]    | Downloading package smultron to /root/nltk_data...\n",
            "[nltk_data]    |   Unzipping corpora/smultron.zip.\n",
            "[nltk_data]    | Downloading package state_union to /root/nltk_data...\n",
            "[nltk_data]    |   Unzipping corpora/state_union.zip.\n",
            "[nltk_data]    | Downloading package stopwords to /root/nltk_data...\n",
            "[nltk_data]    |   Unzipping corpora/stopwords.zip.\n",
            "[nltk_data]    | Downloading package subjectivity to\n",
            "[nltk_data]    |     /root/nltk_data...\n",
            "[nltk_data]    |   Unzipping corpora/subjectivity.zip.\n",
            "[nltk_data]    | Downloading package swadesh to /root/nltk_data...\n",
            "[nltk_data]    |   Unzipping corpora/swadesh.zip.\n",
            "[nltk_data]    | Downloading package switchboard to /root/nltk_data...\n",
            "[nltk_data]    |   Unzipping corpora/switchboard.zip.\n",
            "[nltk_data]    | Downloading package timit to /root/nltk_data...\n",
            "[nltk_data]    |   Unzipping corpora/timit.zip.\n",
            "[nltk_data]    | Downloading package toolbox to /root/nltk_data...\n",
            "[nltk_data]    |   Unzipping corpora/toolbox.zip.\n",
            "[nltk_data]    | Downloading package treebank to /root/nltk_data...\n",
            "[nltk_data]    |   Unzipping corpora/treebank.zip.\n",
            "[nltk_data]    | Downloading package twitter_samples to\n",
            "[nltk_data]    |     /root/nltk_data...\n",
            "[nltk_data]    |   Unzipping corpora/twitter_samples.zip.\n",
            "[nltk_data]    | Downloading package udhr to /root/nltk_data...\n",
            "[nltk_data]    |   Unzipping corpora/udhr.zip.\n",
            "[nltk_data]    | Downloading package udhr2 to /root/nltk_data...\n",
            "[nltk_data]    |   Unzipping corpora/udhr2.zip.\n",
            "[nltk_data]    | Downloading package unicode_samples to\n",
            "[nltk_data]    |     /root/nltk_data...\n",
            "[nltk_data]    |   Unzipping corpora/unicode_samples.zip.\n",
            "[nltk_data]    | Downloading package universal_treebanks_v20 to\n",
            "[nltk_data]    |     /root/nltk_data...\n",
            "[nltk_data]    | Downloading package verbnet to /root/nltk_data...\n",
            "[nltk_data]    |   Unzipping corpora/verbnet.zip.\n",
            "[nltk_data]    | Downloading package verbnet3 to /root/nltk_data...\n",
            "[nltk_data]    |   Unzipping corpora/verbnet3.zip.\n",
            "[nltk_data]    | Downloading package webtext to /root/nltk_data...\n",
            "[nltk_data]    |   Unzipping corpora/webtext.zip.\n",
            "[nltk_data]    | Downloading package wordnet to /root/nltk_data...\n",
            "[nltk_data]    |   Unzipping corpora/wordnet.zip.\n",
            "[nltk_data]    | Downloading package wordnet_ic to /root/nltk_data...\n",
            "[nltk_data]    |   Unzipping corpora/wordnet_ic.zip.\n",
            "[nltk_data]    | Downloading package words to /root/nltk_data...\n",
            "[nltk_data]    |   Unzipping corpora/words.zip.\n",
            "[nltk_data]    | Downloading package ycoe to /root/nltk_data...\n",
            "[nltk_data]    |   Unzipping corpora/ycoe.zip.\n",
            "[nltk_data]    | Downloading package rslp to /root/nltk_data...\n",
            "[nltk_data]    |   Unzipping stemmers/rslp.zip.\n",
            "[nltk_data]    | Downloading package maxent_treebank_pos_tagger to\n",
            "[nltk_data]    |     /root/nltk_data...\n",
            "[nltk_data]    |   Unzipping taggers/maxent_treebank_pos_tagger.zip.\n",
            "[nltk_data]    | Downloading package universal_tagset to\n",
            "[nltk_data]    |     /root/nltk_data...\n",
            "[nltk_data]    |   Unzipping taggers/universal_tagset.zip.\n",
            "[nltk_data]    | Downloading package maxent_ne_chunker to\n",
            "[nltk_data]    |     /root/nltk_data...\n",
            "[nltk_data]    |   Unzipping chunkers/maxent_ne_chunker.zip.\n",
            "[nltk_data]    | Downloading package punkt to /root/nltk_data...\n",
            "[nltk_data]    |   Unzipping tokenizers/punkt.zip.\n",
            "[nltk_data]    | Downloading package book_grammars to\n",
            "[nltk_data]    |     /root/nltk_data...\n",
            "[nltk_data]    |   Unzipping grammars/book_grammars.zip.\n",
            "[nltk_data]    | Downloading package sample_grammars to\n",
            "[nltk_data]    |     /root/nltk_data...\n",
            "[nltk_data]    |   Unzipping grammars/sample_grammars.zip.\n",
            "[nltk_data]    | Downloading package spanish_grammars to\n",
            "[nltk_data]    |     /root/nltk_data...\n",
            "[nltk_data]    |   Unzipping grammars/spanish_grammars.zip.\n",
            "[nltk_data]    | Downloading package basque_grammars to\n",
            "[nltk_data]    |     /root/nltk_data...\n",
            "[nltk_data]    |   Unzipping grammars/basque_grammars.zip.\n",
            "[nltk_data]    | Downloading package large_grammars to\n",
            "[nltk_data]    |     /root/nltk_data...\n",
            "[nltk_data]    |   Unzipping grammars/large_grammars.zip.\n",
            "[nltk_data]    | Downloading package tagsets to /root/nltk_data...\n",
            "[nltk_data]    |   Unzipping help/tagsets.zip.\n",
            "[nltk_data]    | Downloading package snowball_data to\n",
            "[nltk_data]    |     /root/nltk_data...\n",
            "[nltk_data]    | Downloading package bllip_wsj_no_aux to\n",
            "[nltk_data]    |     /root/nltk_data...\n",
            "[nltk_data]    |   Unzipping models/bllip_wsj_no_aux.zip.\n",
            "[nltk_data]    | Downloading package word2vec_sample to\n",
            "[nltk_data]    |     /root/nltk_data...\n",
            "[nltk_data]    |   Unzipping models/word2vec_sample.zip.\n",
            "[nltk_data]    | Downloading package panlex_swadesh to\n",
            "[nltk_data]    |     /root/nltk_data...\n",
            "[nltk_data]    | Downloading package mte_teip5 to /root/nltk_data...\n",
            "[nltk_data]    |   Unzipping corpora/mte_teip5.zip.\n",
            "[nltk_data]    | Downloading package averaged_perceptron_tagger to\n",
            "[nltk_data]    |     /root/nltk_data...\n",
            "[nltk_data]    |   Unzipping taggers/averaged_perceptron_tagger.zip.\n",
            "[nltk_data]    | Downloading package averaged_perceptron_tagger_ru to\n",
            "[nltk_data]    |     /root/nltk_data...\n",
            "[nltk_data]    |   Unzipping\n",
            "[nltk_data]    |       taggers/averaged_perceptron_tagger_ru.zip.\n",
            "[nltk_data]    | Downloading package perluniprops to\n",
            "[nltk_data]    |     /root/nltk_data...\n",
            "[nltk_data]    |   Unzipping misc/perluniprops.zip.\n",
            "[nltk_data]    | Downloading package nonbreaking_prefixes to\n",
            "[nltk_data]    |     /root/nltk_data...\n",
            "[nltk_data]    |   Unzipping corpora/nonbreaking_prefixes.zip.\n",
            "[nltk_data]    | Downloading package vader_lexicon to\n",
            "[nltk_data]    |     /root/nltk_data...\n",
            "[nltk_data]    | Downloading package porter_test to /root/nltk_data...\n",
            "[nltk_data]    |   Unzipping stemmers/porter_test.zip.\n",
            "[nltk_data]    | Downloading package wmt15_eval to /root/nltk_data...\n",
            "[nltk_data]    |   Unzipping models/wmt15_eval.zip.\n",
            "[nltk_data]    | Downloading package mwa_ppdb to /root/nltk_data...\n",
            "[nltk_data]    |   Unzipping misc/mwa_ppdb.zip.\n",
            "[nltk_data]    | \n",
            "[nltk_data]  Done downloading collection all\n"
          ]
        }
      ]
    },
    {
      "cell_type": "markdown",
      "metadata": {
        "id": "s99s4s4xJOAO"
      },
      "source": [
        "##Constants (All the constant file paths)"
      ]
    },
    {
      "cell_type": "code",
      "metadata": {
        "id": "ebkBU5crJSN1"
      },
      "source": [
        "exampleFile = '/content/drive/MyDrive/Colab Notebooks/SpamData/01_Processing/practice_email.txt'\n",
        "\n",
        "spam1 = '/content/drive/MyDrive/Colab Notebooks/SpamData/01_Processing/spam_assassin_corpus/spam_1'\n",
        "spam2 = '/content/drive/MyDrive/Colab Notebooks/SpamData/01_Processing/spam_assassin_corpus/spam_2'\n",
        "\n",
        "notSpam1 = '/content/drive/MyDrive/Colab Notebooks/SpamData/01_Processing/spam_assassin_corpus/easy_ham_1'\n",
        "notSpam2 = '/content/drive/MyDrive/Colab Notebooks/SpamData/01_Processing/spam_assassin_corpus/easy_ham_2'\n",
        "\n",
        "spam = 1\n",
        "notSpam = 0\n",
        "\n",
        "dataJSON = '/content/drive/MyDrive/Colab Notebooks/SpamData/01_Processing/exmail-test-data.json'"
      ],
      "execution_count": 2,
      "outputs": []
    },
    {
      "cell_type": "markdown",
      "metadata": {
        "id": "jE4eBmihKaeQ"
      },
      "source": [
        "##Reading Files"
      ]
    },
    {
      "cell_type": "code",
      "metadata": {
        "colab": {
          "base_uri": "https://localhost:8080/"
        },
        "id": "C8K1_2ewKMkl",
        "outputId": "f72a52f3-4518-43d8-d976-f169ac8cbbc8"
      },
      "source": [
        "#Prints the complete file with all the information\n",
        "\n",
        "stream = open(exampleFile, encoding='latin-1')\n",
        "message = stream.read()\n",
        "stream.close()\n",
        "\n",
        "print(message)"
      ],
      "execution_count": 3,
      "outputs": [
        {
          "output_type": "stream",
          "name": "stdout",
          "text": [
            "From exmh-workers-admin@redhat.com  Thu Aug 22 12:36:23 2002\n",
            "Return-Path: <exmh-workers-admin@spamassassin.taint.org>\n",
            "Delivered-To: zzzz@localhost.netnoteinc.com\n",
            "Received: from localhost (localhost [127.0.0.1])\n",
            "\tby phobos.labs.netnoteinc.com (Postfix) with ESMTP id D03E543C36\n",
            "\tfor <zzzz@localhost>; Thu, 22 Aug 2002 07:36:16 -0400 (EDT)\n",
            "Received: from phobos [127.0.0.1]\n",
            "\tby localhost with IMAP (fetchmail-5.9.0)\n",
            "\tfor zzzz@localhost (single-drop); Thu, 22 Aug 2002 12:36:16 +0100 (IST)\n",
            "Received: from listman.spamassassin.taint.org (listman.spamassassin.taint.org [66.187.233.211]) by\n",
            "    dogma.slashnull.org (8.11.6/8.11.6) with ESMTP id g7MBYrZ04811 for\n",
            "    <zzzz-exmh@spamassassin.taint.org>; Thu, 22 Aug 2002 12:34:53 +0100\n",
            "Received: from listman.spamassassin.taint.org (localhost.localdomain [127.0.0.1]) by\n",
            "    listman.redhat.com (Postfix) with ESMTP id 8386540858; Thu, 22 Aug 2002\n",
            "    07:35:02 -0400 (EDT)\n",
            "Delivered-To: exmh-workers@listman.spamassassin.taint.org\n",
            "Received: from int-mx1.corp.spamassassin.taint.org (int-mx1.corp.spamassassin.taint.org\n",
            "    [172.16.52.254]) by listman.redhat.com (Postfix) with ESMTP id 10CF8406D7\n",
            "    for <exmh-workers@listman.redhat.com>; Thu, 22 Aug 2002 07:34:10 -0400\n",
            "    (EDT)\n",
            "Received: (from mail@localhost) by int-mx1.corp.spamassassin.taint.org (8.11.6/8.11.6)\n",
            "    id g7MBY7g11259 for exmh-workers@listman.redhat.com; Thu, 22 Aug 2002\n",
            "    07:34:07 -0400\n",
            "Received: from mx1.spamassassin.taint.org (mx1.spamassassin.taint.org [172.16.48.31]) by\n",
            "    int-mx1.corp.redhat.com (8.11.6/8.11.6) with SMTP id g7MBY7Y11255 for\n",
            "    <exmh-workers@redhat.com>; Thu, 22 Aug 2002 07:34:07 -0400\n",
            "Received: from ratree.psu.ac.th ([202.28.97.6]) by mx1.spamassassin.taint.org\n",
            "    (8.11.6/8.11.6) with SMTP id g7MBIhl25223 for <exmh-workers@redhat.com>;\n",
            "    Thu, 22 Aug 2002 07:18:55 -0400\n",
            "Received: from delta.cs.mu.OZ.AU (delta.coe.psu.ac.th [172.30.0.98]) by\n",
            "    ratree.psu.ac.th (8.11.6/8.11.6) with ESMTP id g7MBWel29762;\n",
            "    Thu, 22 Aug 2002 18:32:40 +0700 (ICT)\n",
            "Received: from munnari.OZ.AU (localhost [127.0.0.1]) by delta.cs.mu.OZ.AU\n",
            "    (8.11.6/8.11.6) with ESMTP id g7MBQPW13260; Thu, 22 Aug 2002 18:26:25\n",
            "    +0700 (ICT)\n",
            "From: Robert Elz <kre@munnari.OZ.AU>\n",
            "To: Chris Garrigues <cwg-dated-1030377287.06fa6d@DeepEddy.Com>\n",
            "Cc: exmh-workers@spamassassin.taint.org\n",
            "Subject: Re: New Sequences Window\n",
            "In-Reply-To: <1029945287.4797.TMDA@deepeddy.vircio.com>\n",
            "References: <1029945287.4797.TMDA@deepeddy.vircio.com>\n",
            "    <1029882468.3116.TMDA@deepeddy.vircio.com> <9627.1029933001@munnari.OZ.AU>\n",
            "    <1029943066.26919.TMDA@deepeddy.vircio.com>\n",
            "    <1029944441.398.TMDA@deepeddy.vircio.com>\n",
            "MIME-Version: 1.0\n",
            "Content-Type: text/plain; charset=us-ascii\n",
            "Message-Id: <13258.1030015585@munnari.OZ.AU>\n",
            "X-Loop: exmh-workers@spamassassin.taint.org\n",
            "Sender: exmh-workers-admin@spamassassin.taint.org\n",
            "Errors-To: exmh-workers-admin@spamassassin.taint.org\n",
            "X-Beenthere: exmh-workers@spamassassin.taint.org\n",
            "X-Mailman-Version: 2.0.1\n",
            "Precedence: bulk\n",
            "List-Help: <mailto:exmh-workers-request@spamassassin.taint.org?subject=help>\n",
            "List-Post: <mailto:exmh-workers@spamassassin.taint.org>\n",
            "List-Subscribe: <https://listman.spamassassin.taint.org/mailman/listinfo/exmh-workers>,\n",
            "    <mailto:exmh-workers-request@redhat.com?subject=subscribe>\n",
            "List-Id: Discussion list for EXMH developers <exmh-workers.spamassassin.taint.org>\n",
            "List-Unsubscribe: <https://listman.spamassassin.taint.org/mailman/listinfo/exmh-workers>,\n",
            "    <mailto:exmh-workers-request@redhat.com?subject=unsubscribe>\n",
            "List-Archive: <https://listman.spamassassin.taint.org/mailman/private/exmh-workers/>\n",
            "Date: Thu, 22 Aug 2002 18:26:25 +0700\n",
            "\n",
            "\n",
            "Dear Mr Still\n",
            "\n",
            "Good tidings to you and all your staff for the festive season ahead (Christmas).\n",
            "Now to the crux of the matter-in-hand: I am a fully qualified Santa Claus and am wondering whether you might consider me to run my own \"Santa's Grotto\" in your store.\n",
            "But WAIT! You're probably thinking: \"What makes him so special?\"\n",
            "Well, first of all, I have made several changes to the characterisation of Father Christmas. Rather than greeting the children with shouts of \"Ho, ho, ho!\" I prefer to whisper the phrase \"Dependence is not unfathomable in this cruel world we live in\". In addition, my gifts are ALL hand-made, ranging from felt hoops to vanilla-pod holders.\n",
            "You will note also, from the enclosed sketch, that I have radically redesigned Santa's outfit and have renamed my character \"Lord Buckles\". Would you be interested in employing me? I promise NEVER to let you down.\n",
            "I look forward to hearing from you.\n",
            "\n",
            "Best wishes\n",
            "Robin Cooper\n",
            "[Excerpt from the book: The Timewaster Letters by Robin Cooper]\n",
            "\n"
          ]
        }
      ]
    },
    {
      "cell_type": "code",
      "metadata": {
        "colab": {
          "base_uri": "https://localhost:8080/"
        },
        "id": "tT8Sds7JK0e7",
        "outputId": "ab3256fe-a262-4aa8-cc65-2d105f2263b6"
      },
      "source": [
        " #Prints only the body of the emails\n",
        "\n",
        "isBody = False\n",
        "mainList = []\n",
        "\n",
        "stream = open(exampleFile, encoding='latin-1')\n",
        "\n",
        "for line in stream:\n",
        "    if isBody:\n",
        "        mainList.append(line)\n",
        "    elif line == '\\n':\n",
        "        isBody = True\n",
        "\n",
        "stream.close()\n",
        "\n",
        "finalBody = '\\n'.join(mainList)\n",
        "print(finalBody)"
      ],
      "execution_count": 4,
      "outputs": [
        {
          "output_type": "stream",
          "name": "stdout",
          "text": [
            "\n",
            "\n",
            "Dear Mr Still\n",
            "\n",
            "\n",
            "\n",
            "Good tidings to you and all your staff for the festive season ahead (Christmas).\n",
            "\n",
            "Now to the crux of the matter-in-hand: I am a fully qualified Santa Claus and am wondering whether you might consider me to run my own \"Santa's Grotto\" in your store.\n",
            "\n",
            "But WAIT! You're probably thinking: \"What makes him so special?\"\n",
            "\n",
            "Well, first of all, I have made several changes to the characterisation of Father Christmas. Rather than greeting the children with shouts of \"Ho, ho, ho!\" I prefer to whisper the phrase \"Dependence is not unfathomable in this cruel world we live in\". In addition, my gifts are ALL hand-made, ranging from felt hoops to vanilla-pod holders.\n",
            "\n",
            "You will note also, from the enclosed sketch, that I have radically redesigned Santa's outfit and have renamed my character \"Lord Buckles\". Would you be interested in employing me? I promise NEVER to let you down.\n",
            "\n",
            "I look forward to hearing from you.\n",
            "\n",
            "\n",
            "\n",
            "Best wishes\n",
            "\n",
            "Robin Cooper\n",
            "\n",
            "[Excerpt from the book: The Timewaster Letters by Robin Cooper]\n",
            "\n"
          ]
        }
      ]
    },
    {
      "cell_type": "markdown",
      "metadata": {
        "id": "DvqUwco7YPhA"
      },
      "source": [
        "##Extraction of all the EMail Bodies using generator functions"
      ]
    },
    {
      "cell_type": "code",
      "metadata": {
        "id": "nYEm96UMOMOs"
      },
      "source": [
        "def emailBodyGen(path):\n",
        "\n",
        "    for root, dirname, filenames in walk(path):\n",
        "        for fileName in filenames:\n",
        "\n",
        "            filepath = join(root, fileName)\n",
        "\n",
        "            stream = open(filepath, encoding='latin-1')\n",
        "\n",
        "            isBody = False\n",
        "            mainList = []\n",
        "\n",
        "            for line in stream:\n",
        "                if isBody:\n",
        "                    mainList.append(line)\n",
        "                elif line == '\\n':\n",
        "                    isBody = True\n",
        "\n",
        "            stream.close()\n",
        "\n",
        "            finalBody = '\\n'.join(mainList)\n",
        "            \n",
        "            yield fileName, finalBody"
      ],
      "execution_count": 5,
      "outputs": []
    },
    {
      "cell_type": "code",
      "metadata": {
        "id": "YPTszd0HZmrm"
      },
      "source": [
        "def dfFromDir(path, classify):\n",
        "    \n",
        "    rows = []\n",
        "    rowNames = []\n",
        "\n",
        "    for fileName, finalBody in emailBodyGen(path):\n",
        "        rows.append({'CATEGORY': classify, 'MESSAGE': finalBody})\n",
        "        rowNames.append(fileName)\n",
        "\n",
        "    return pd.DataFrame(rows, index=rowNames) "
      ],
      "execution_count": 6,
      "outputs": []
    },
    {
      "cell_type": "code",
      "metadata": {
        "colab": {
          "base_uri": "https://localhost:8080/",
          "height": 408
        },
        "id": "LkQsTFj5bGvk",
        "outputId": "37ff4951-5f10-4a4c-8722-16f99f14381a"
      },
      "source": [
        "#Storing the spam emails in a spamEmails dataframe\n",
        "\n",
        "spamEmails = dfFromDir(spam1, spam)\n",
        "spamEmails = spamEmails.append(dfFromDir(spam2, spam))\n",
        "spamEmails"
      ],
      "execution_count": 7,
      "outputs": [
        {
          "output_type": "execute_result",
          "data": {
            "text/html": [
              "<div>\n",
              "<style scoped>\n",
              "    .dataframe tbody tr th:only-of-type {\n",
              "        vertical-align: middle;\n",
              "    }\n",
              "\n",
              "    .dataframe tbody tr th {\n",
              "        vertical-align: top;\n",
              "    }\n",
              "\n",
              "    .dataframe thead th {\n",
              "        text-align: right;\n",
              "    }\n",
              "</style>\n",
              "<table border=\"1\" class=\"dataframe\">\n",
              "  <thead>\n",
              "    <tr style=\"text-align: right;\">\n",
              "      <th></th>\n",
              "      <th>CATEGORY</th>\n",
              "      <th>MESSAGE</th>\n",
              "    </tr>\n",
              "  </thead>\n",
              "  <tbody>\n",
              "    <tr>\n",
              "      <th>00273.0c7d73771d79e84e2aab8c909c5bb210</th>\n",
              "      <td>1</td>\n",
              "      <td>This is a multi-part message in MIME format.\\n...</td>\n",
              "    </tr>\n",
              "    <tr>\n",
              "      <th>00154.b6c448ccff434e2dbe2c7c200a36aa31</th>\n",
              "      <td>1</td>\n",
              "      <td>On January 1st 2002, the European countries be...</td>\n",
              "    </tr>\n",
              "    <tr>\n",
              "      <th>00223.349b9b0748ee72bad60729ffaae2cc00</th>\n",
              "      <td>1</td>\n",
              "      <td>This is a multi-part message in MIME format.\\n...</td>\n",
              "    </tr>\n",
              "    <tr>\n",
              "      <th>00351.fd1b8a6cd42e81125fb38c2660cd9317</th>\n",
              "      <td>1</td>\n",
              "      <td>&lt;!DOCTYPE HTML PUBLIC \"-//W3C//DTD HTML 3.2//E...</td>\n",
              "    </tr>\n",
              "    <tr>\n",
              "      <th>00001.7848dde101aa985090474a91ec93fcf0</th>\n",
              "      <td>1</td>\n",
              "      <td>&lt;!DOCTYPE HTML PUBLIC \"-//W3C//DTD HTML 4.0 Tr...</td>\n",
              "    </tr>\n",
              "    <tr>\n",
              "      <th>...</th>\n",
              "      <td>...</td>\n",
              "      <td>...</td>\n",
              "    </tr>\n",
              "    <tr>\n",
              "      <th>00521.70417de823222858b4100b6030a64168</th>\n",
              "      <td>1</td>\n",
              "      <td>BUY 2 ADULT DVDs AT REGULAR PRICE AND GET A TH...</td>\n",
              "    </tr>\n",
              "    <tr>\n",
              "      <th>00484.602c7afb217663a43dd5fa24d97d1ca4</th>\n",
              "      <td>1</td>\n",
              "      <td>------=_NextPart_000_0066_62CFF34B.9C652FBA\\n\\...</td>\n",
              "    </tr>\n",
              "    <tr>\n",
              "      <th>00580.c3b23134b4767f5e796d0df997fede33</th>\n",
              "      <td>1</td>\n",
              "      <td>\\n\\n&lt;html&gt;\\n\\n\\n\\n&lt;head&gt;\\n\\n&lt;/head&gt;\\n\\n\\n\\n&lt;bo...</td>\n",
              "    </tr>\n",
              "    <tr>\n",
              "      <th>00320.a4e760741d537aef50c4c0b950329225</th>\n",
              "      <td>1</td>\n",
              "      <td>&lt;=21DOCTYPE HTML PUBLIC =22-//W3C//DTD HTML 4....</td>\n",
              "    </tr>\n",
              "    <tr>\n",
              "      <th>00642.f213f657ab630999a8d34c26060d79fc</th>\n",
              "      <td>1</td>\n",
              "      <td>\\n\\nGET PAID    for it !\\n\\n\\n\\nLOOKING FOR AM...</td>\n",
              "    </tr>\n",
              "  </tbody>\n",
              "</table>\n",
              "<p>1898 rows × 2 columns</p>\n",
              "</div>"
            ],
            "text/plain": [
              "                                        CATEGORY                                            MESSAGE\n",
              "00273.0c7d73771d79e84e2aab8c909c5bb210         1  This is a multi-part message in MIME format.\\n...\n",
              "00154.b6c448ccff434e2dbe2c7c200a36aa31         1  On January 1st 2002, the European countries be...\n",
              "00223.349b9b0748ee72bad60729ffaae2cc00         1  This is a multi-part message in MIME format.\\n...\n",
              "00351.fd1b8a6cd42e81125fb38c2660cd9317         1  <!DOCTYPE HTML PUBLIC \"-//W3C//DTD HTML 3.2//E...\n",
              "00001.7848dde101aa985090474a91ec93fcf0         1  <!DOCTYPE HTML PUBLIC \"-//W3C//DTD HTML 4.0 Tr...\n",
              "...                                          ...                                                ...\n",
              "00521.70417de823222858b4100b6030a64168         1  BUY 2 ADULT DVDs AT REGULAR PRICE AND GET A TH...\n",
              "00484.602c7afb217663a43dd5fa24d97d1ca4         1  ------=_NextPart_000_0066_62CFF34B.9C652FBA\\n\\...\n",
              "00580.c3b23134b4767f5e796d0df997fede33         1  \\n\\n<html>\\n\\n\\n\\n<head>\\n\\n</head>\\n\\n\\n\\n<bo...\n",
              "00320.a4e760741d537aef50c4c0b950329225         1  <=21DOCTYPE HTML PUBLIC =22-//W3C//DTD HTML 4....\n",
              "00642.f213f657ab630999a8d34c26060d79fc         1  \\n\\nGET PAID    for it !\\n\\n\\n\\nLOOKING FOR AM...\n",
              "\n",
              "[1898 rows x 2 columns]"
            ]
          },
          "metadata": {},
          "execution_count": 7
        }
      ]
    },
    {
      "cell_type": "code",
      "metadata": {
        "colab": {
          "base_uri": "https://localhost:8080/",
          "height": 408
        },
        "id": "4TN8ClCYkAxz",
        "outputId": "ba0aa395-0c50-4b8a-e3ca-e26be5c017d9"
      },
      "source": [
        "#Storing non spam emails in a notSpaEmails dataframe\n",
        "\n",
        "notSpamEmails = dfFromDir(notSpam1, notSpam)\n",
        "notSpamEmails = notSpamEmails.append(dfFromDir(notSpam2, notSpam))\n",
        "notSpamEmails"
      ],
      "execution_count": 8,
      "outputs": [
        {
          "output_type": "execute_result",
          "data": {
            "text/html": [
              "<div>\n",
              "<style scoped>\n",
              "    .dataframe tbody tr th:only-of-type {\n",
              "        vertical-align: middle;\n",
              "    }\n",
              "\n",
              "    .dataframe tbody tr th {\n",
              "        vertical-align: top;\n",
              "    }\n",
              "\n",
              "    .dataframe thead th {\n",
              "        text-align: right;\n",
              "    }\n",
              "</style>\n",
              "<table border=\"1\" class=\"dataframe\">\n",
              "  <thead>\n",
              "    <tr style=\"text-align: right;\">\n",
              "      <th></th>\n",
              "      <th>CATEGORY</th>\n",
              "      <th>MESSAGE</th>\n",
              "    </tr>\n",
              "  </thead>\n",
              "  <tbody>\n",
              "    <tr>\n",
              "      <th>01565.c10c0b0e0c9903345e28f9c17fc84400</th>\n",
              "      <td>0</td>\n",
              "      <td>\\n\\n--iJXiJc/TAIT2rh2r\\n\\nContent-Type: text/p...</td>\n",
              "    </tr>\n",
              "    <tr>\n",
              "      <th>01433.4392b7c4884f0f218e74a0b86cc5b8c3</th>\n",
              "      <td>0</td>\n",
              "      <td>\\n\\n\"zeek\" said:\\n\\n\\n\\n&gt; This was thoroughly ...</td>\n",
              "    </tr>\n",
              "    <tr>\n",
              "      <th>01413.d1561ddcf3ead3a670b4516b3337216c</th>\n",
              "      <td>0</td>\n",
              "      <td>&gt; &gt; Is the use of \"trusted hardware\" really wo...</td>\n",
              "    </tr>\n",
              "    <tr>\n",
              "      <th>01856.c021a63248e3e6a2e151b67689d75e13</th>\n",
              "      <td>0</td>\n",
              "      <td>URL: http://diveintomark.org/archives/2002/09/...</td>\n",
              "    </tr>\n",
              "    <tr>\n",
              "      <th>01498.e0d9701d1bf2798b86efb602a44d072b</th>\n",
              "      <td>0</td>\n",
              "      <td>http://www.hughes-family.org/bugzilla/show_bug...</td>\n",
              "    </tr>\n",
              "    <tr>\n",
              "      <th>...</th>\n",
              "      <td>...</td>\n",
              "      <td>...</td>\n",
              "    </tr>\n",
              "    <tr>\n",
              "      <th>00695.2de9d6d30a7713e550b4fd02bb35e7b4</th>\n",
              "      <td>0</td>\n",
              "      <td>\"This is a very tenuous time for Microsoft,\" G...</td>\n",
              "    </tr>\n",
              "    <tr>\n",
              "      <th>01137.e0afde7fc471f626742746c738013750</th>\n",
              "      <td>0</td>\n",
              "      <td>On 21 Jul 2002 23:59:59 +1200\\n\\nMark Derricut...</td>\n",
              "    </tr>\n",
              "    <tr>\n",
              "      <th>01294.7f208bf4ae152863fd40f25e2e121d49</th>\n",
              "      <td>0</td>\n",
              "      <td>Pablo Sofware Solutions FTP server Directory T...</td>\n",
              "    </tr>\n",
              "    <tr>\n",
              "      <th>00747.352d424267d36975a7b40b85ffd0885e</th>\n",
              "      <td>0</td>\n",
              "      <td>If you run Pick, and then use the \"New FTOC\" b...</td>\n",
              "    </tr>\n",
              "    <tr>\n",
              "      <th>00654.7e84d693f6d2dc216aa501c47db607f7</th>\n",
              "      <td>0</td>\n",
              "      <td>On Wed, 14 Aug 2002, Chip Paswater wrote:\\n\\n\\...</td>\n",
              "    </tr>\n",
              "  </tbody>\n",
              "</table>\n",
              "<p>3901 rows × 2 columns</p>\n",
              "</div>"
            ],
            "text/plain": [
              "                                        CATEGORY                                            MESSAGE\n",
              "01565.c10c0b0e0c9903345e28f9c17fc84400         0  \\n\\n--iJXiJc/TAIT2rh2r\\n\\nContent-Type: text/p...\n",
              "01433.4392b7c4884f0f218e74a0b86cc5b8c3         0  \\n\\n\"zeek\" said:\\n\\n\\n\\n> This was thoroughly ...\n",
              "01413.d1561ddcf3ead3a670b4516b3337216c         0  > > Is the use of \"trusted hardware\" really wo...\n",
              "01856.c021a63248e3e6a2e151b67689d75e13         0  URL: http://diveintomark.org/archives/2002/09/...\n",
              "01498.e0d9701d1bf2798b86efb602a44d072b         0  http://www.hughes-family.org/bugzilla/show_bug...\n",
              "...                                          ...                                                ...\n",
              "00695.2de9d6d30a7713e550b4fd02bb35e7b4         0  \"This is a very tenuous time for Microsoft,\" G...\n",
              "01137.e0afde7fc471f626742746c738013750         0  On 21 Jul 2002 23:59:59 +1200\\n\\nMark Derricut...\n",
              "01294.7f208bf4ae152863fd40f25e2e121d49         0  Pablo Sofware Solutions FTP server Directory T...\n",
              "00747.352d424267d36975a7b40b85ffd0885e         0  If you run Pick, and then use the \"New FTOC\" b...\n",
              "00654.7e84d693f6d2dc216aa501c47db607f7         0  On Wed, 14 Aug 2002, Chip Paswater wrote:\\n\\n\\...\n",
              "\n",
              "[3901 rows x 2 columns]"
            ]
          },
          "metadata": {},
          "execution_count": 8
        }
      ]
    },
    {
      "cell_type": "code",
      "metadata": {
        "colab": {
          "base_uri": "https://localhost:8080/",
          "height": 408
        },
        "id": "6XKnNpmLkKCk",
        "outputId": "faca6a2f-0358-46ee-835e-6e8b983d570e"
      },
      "source": [
        "#Conacatenating the 2 dataframes to create a collusive dataframe for all the values\n",
        "\n",
        "data = pd.concat([spamEmails, notSpamEmails])\n",
        "data"
      ],
      "execution_count": 9,
      "outputs": [
        {
          "output_type": "execute_result",
          "data": {
            "text/html": [
              "<div>\n",
              "<style scoped>\n",
              "    .dataframe tbody tr th:only-of-type {\n",
              "        vertical-align: middle;\n",
              "    }\n",
              "\n",
              "    .dataframe tbody tr th {\n",
              "        vertical-align: top;\n",
              "    }\n",
              "\n",
              "    .dataframe thead th {\n",
              "        text-align: right;\n",
              "    }\n",
              "</style>\n",
              "<table border=\"1\" class=\"dataframe\">\n",
              "  <thead>\n",
              "    <tr style=\"text-align: right;\">\n",
              "      <th></th>\n",
              "      <th>CATEGORY</th>\n",
              "      <th>MESSAGE</th>\n",
              "    </tr>\n",
              "  </thead>\n",
              "  <tbody>\n",
              "    <tr>\n",
              "      <th>00273.0c7d73771d79e84e2aab8c909c5bb210</th>\n",
              "      <td>1</td>\n",
              "      <td>This is a multi-part message in MIME format.\\n...</td>\n",
              "    </tr>\n",
              "    <tr>\n",
              "      <th>00154.b6c448ccff434e2dbe2c7c200a36aa31</th>\n",
              "      <td>1</td>\n",
              "      <td>On January 1st 2002, the European countries be...</td>\n",
              "    </tr>\n",
              "    <tr>\n",
              "      <th>00223.349b9b0748ee72bad60729ffaae2cc00</th>\n",
              "      <td>1</td>\n",
              "      <td>This is a multi-part message in MIME format.\\n...</td>\n",
              "    </tr>\n",
              "    <tr>\n",
              "      <th>00351.fd1b8a6cd42e81125fb38c2660cd9317</th>\n",
              "      <td>1</td>\n",
              "      <td>&lt;!DOCTYPE HTML PUBLIC \"-//W3C//DTD HTML 3.2//E...</td>\n",
              "    </tr>\n",
              "    <tr>\n",
              "      <th>00001.7848dde101aa985090474a91ec93fcf0</th>\n",
              "      <td>1</td>\n",
              "      <td>&lt;!DOCTYPE HTML PUBLIC \"-//W3C//DTD HTML 4.0 Tr...</td>\n",
              "    </tr>\n",
              "    <tr>\n",
              "      <th>...</th>\n",
              "      <td>...</td>\n",
              "      <td>...</td>\n",
              "    </tr>\n",
              "    <tr>\n",
              "      <th>00695.2de9d6d30a7713e550b4fd02bb35e7b4</th>\n",
              "      <td>0</td>\n",
              "      <td>\"This is a very tenuous time for Microsoft,\" G...</td>\n",
              "    </tr>\n",
              "    <tr>\n",
              "      <th>01137.e0afde7fc471f626742746c738013750</th>\n",
              "      <td>0</td>\n",
              "      <td>On 21 Jul 2002 23:59:59 +1200\\n\\nMark Derricut...</td>\n",
              "    </tr>\n",
              "    <tr>\n",
              "      <th>01294.7f208bf4ae152863fd40f25e2e121d49</th>\n",
              "      <td>0</td>\n",
              "      <td>Pablo Sofware Solutions FTP server Directory T...</td>\n",
              "    </tr>\n",
              "    <tr>\n",
              "      <th>00747.352d424267d36975a7b40b85ffd0885e</th>\n",
              "      <td>0</td>\n",
              "      <td>If you run Pick, and then use the \"New FTOC\" b...</td>\n",
              "    </tr>\n",
              "    <tr>\n",
              "      <th>00654.7e84d693f6d2dc216aa501c47db607f7</th>\n",
              "      <td>0</td>\n",
              "      <td>On Wed, 14 Aug 2002, Chip Paswater wrote:\\n\\n\\...</td>\n",
              "    </tr>\n",
              "  </tbody>\n",
              "</table>\n",
              "<p>5799 rows × 2 columns</p>\n",
              "</div>"
            ],
            "text/plain": [
              "                                        CATEGORY                                            MESSAGE\n",
              "00273.0c7d73771d79e84e2aab8c909c5bb210         1  This is a multi-part message in MIME format.\\n...\n",
              "00154.b6c448ccff434e2dbe2c7c200a36aa31         1  On January 1st 2002, the European countries be...\n",
              "00223.349b9b0748ee72bad60729ffaae2cc00         1  This is a multi-part message in MIME format.\\n...\n",
              "00351.fd1b8a6cd42e81125fb38c2660cd9317         1  <!DOCTYPE HTML PUBLIC \"-//W3C//DTD HTML 3.2//E...\n",
              "00001.7848dde101aa985090474a91ec93fcf0         1  <!DOCTYPE HTML PUBLIC \"-//W3C//DTD HTML 4.0 Tr...\n",
              "...                                          ...                                                ...\n",
              "00695.2de9d6d30a7713e550b4fd02bb35e7b4         0  \"This is a very tenuous time for Microsoft,\" G...\n",
              "01137.e0afde7fc471f626742746c738013750         0  On 21 Jul 2002 23:59:59 +1200\\n\\nMark Derricut...\n",
              "01294.7f208bf4ae152863fd40f25e2e121d49         0  Pablo Sofware Solutions FTP server Directory T...\n",
              "00747.352d424267d36975a7b40b85ffd0885e         0  If you run Pick, and then use the \"New FTOC\" b...\n",
              "00654.7e84d693f6d2dc216aa501c47db607f7         0  On Wed, 14 Aug 2002, Chip Paswater wrote:\\n\\n\\...\n",
              "\n",
              "[5799 rows x 2 columns]"
            ]
          },
          "metadata": {},
          "execution_count": 9
        }
      ]
    },
    {
      "cell_type": "markdown",
      "metadata": {
        "id": "xFp5-3gvlDYW"
      },
      "source": [
        "##Data Cleaning and Checking for Missing Values"
      ]
    },
    {
      "cell_type": "code",
      "metadata": {
        "colab": {
          "base_uri": "https://localhost:8080/"
        },
        "id": "q2QAI9u4kZ5K",
        "outputId": "037ea32f-eeb0-4507-9ff2-28df0b7b77a4"
      },
      "source": [
        "#Check if there are any missing values\n",
        "data['MESSAGE'].isnull().values.any() #Returns true if there are any missing values\n"
      ],
      "execution_count": 10,
      "outputs": [
        {
          "output_type": "execute_result",
          "data": {
            "text/plain": [
              "False"
            ]
          },
          "metadata": {},
          "execution_count": 10
        }
      ]
    },
    {
      "cell_type": "code",
      "metadata": {
        "colab": {
          "base_uri": "https://localhost:8080/"
        },
        "id": "0G9q0jXWliUA",
        "outputId": "b09b62fb-a6c7-4ae5-d412-b2e66961ebe1"
      },
      "source": [
        "#Check if there are any empty emails with the string length of 0\n",
        "(data.MESSAGE.str.len() == 0).any()"
      ],
      "execution_count": 11,
      "outputs": [
        {
          "output_type": "execute_result",
          "data": {
            "text/plain": [
              "True"
            ]
          },
          "metadata": {},
          "execution_count": 11
        }
      ]
    },
    {
      "cell_type": "code",
      "metadata": {
        "colab": {
          "base_uri": "https://localhost:8080/"
        },
        "id": "2PDrhGa3mwiL",
        "outputId": "ac182d39-956d-450b-cbf6-7671ff1e6a4e"
      },
      "source": [
        "#Check how many entries have the string length of 0\n",
        "(data.MESSAGE.str.len() == 0).sum()"
      ],
      "execution_count": 12,
      "outputs": [
        {
          "output_type": "execute_result",
          "data": {
            "text/plain": [
              "3"
            ]
          },
          "metadata": {},
          "execution_count": 12
        }
      ]
    },
    {
      "cell_type": "code",
      "metadata": {
        "colab": {
          "base_uri": "https://localhost:8080/",
          "height": 138
        },
        "id": "gUfO-B8dnMem",
        "outputId": "6ede48ff-7ec6-4729-b51f-34156c8a3db4"
      },
      "source": [
        "#Getting the index of all the rows where the string length is 0\n",
        "data[(data.MESSAGE.str.len() == 0)]"
      ],
      "execution_count": 13,
      "outputs": [
        {
          "output_type": "execute_result",
          "data": {
            "text/html": [
              "<div>\n",
              "<style scoped>\n",
              "    .dataframe tbody tr th:only-of-type {\n",
              "        vertical-align: middle;\n",
              "    }\n",
              "\n",
              "    .dataframe tbody tr th {\n",
              "        vertical-align: top;\n",
              "    }\n",
              "\n",
              "    .dataframe thead th {\n",
              "        text-align: right;\n",
              "    }\n",
              "</style>\n",
              "<table border=\"1\" class=\"dataframe\">\n",
              "  <thead>\n",
              "    <tr style=\"text-align: right;\">\n",
              "      <th></th>\n",
              "      <th>CATEGORY</th>\n",
              "      <th>MESSAGE</th>\n",
              "    </tr>\n",
              "  </thead>\n",
              "  <tbody>\n",
              "    <tr>\n",
              "      <th>cmds</th>\n",
              "      <td>1</td>\n",
              "      <td></td>\n",
              "    </tr>\n",
              "    <tr>\n",
              "      <th>cmds</th>\n",
              "      <td>1</td>\n",
              "      <td></td>\n",
              "    </tr>\n",
              "    <tr>\n",
              "      <th>cmds</th>\n",
              "      <td>0</td>\n",
              "      <td></td>\n",
              "    </tr>\n",
              "  </tbody>\n",
              "</table>\n",
              "</div>"
            ],
            "text/plain": [
              "      CATEGORY MESSAGE\n",
              "cmds         1        \n",
              "cmds         1        \n",
              "cmds         0        "
            ]
          },
          "metadata": {},
          "execution_count": 13
        }
      ]
    },
    {
      "cell_type": "markdown",
      "metadata": {
        "id": "sv3zuM9mj9Ig"
      },
      "source": [
        "##Removing a and Renaming Entries from the Dataset"
      ]
    },
    {
      "cell_type": "code",
      "metadata": {
        "id": "j7XDaVQKn2dG"
      },
      "source": [
        "#cmds is  the ID of the column that refers to the null data\n",
        "\n",
        "data.drop(['cmds'], inplace=True)"
      ],
      "execution_count": 14,
      "outputs": []
    },
    {
      "cell_type": "code",
      "metadata": {
        "colab": {
          "base_uri": "https://localhost:8080/",
          "height": 440
        },
        "id": "pHnTBXdGkH6I",
        "outputId": "2b860546-373a-4b1f-9ad4-ad3040a12e9c"
      },
      "source": [
        " #Adding Document IDs to track EMail IDs\n",
        "\n",
        "documentIDs = range(0, len(data.index))\n",
        "data['DOC_ID'] = documentIDs\n",
        "data['FILE_NAME'] = data.index\n",
        "data = data.set_index('DOC_ID')\n",
        "data"
      ],
      "execution_count": 15,
      "outputs": [
        {
          "output_type": "execute_result",
          "data": {
            "text/html": [
              "<div>\n",
              "<style scoped>\n",
              "    .dataframe tbody tr th:only-of-type {\n",
              "        vertical-align: middle;\n",
              "    }\n",
              "\n",
              "    .dataframe tbody tr th {\n",
              "        vertical-align: top;\n",
              "    }\n",
              "\n",
              "    .dataframe thead th {\n",
              "        text-align: right;\n",
              "    }\n",
              "</style>\n",
              "<table border=\"1\" class=\"dataframe\">\n",
              "  <thead>\n",
              "    <tr style=\"text-align: right;\">\n",
              "      <th></th>\n",
              "      <th>CATEGORY</th>\n",
              "      <th>MESSAGE</th>\n",
              "      <th>FILE_NAME</th>\n",
              "    </tr>\n",
              "    <tr>\n",
              "      <th>DOC_ID</th>\n",
              "      <th></th>\n",
              "      <th></th>\n",
              "      <th></th>\n",
              "    </tr>\n",
              "  </thead>\n",
              "  <tbody>\n",
              "    <tr>\n",
              "      <th>0</th>\n",
              "      <td>1</td>\n",
              "      <td>This is a multi-part message in MIME format.\\n...</td>\n",
              "      <td>00273.0c7d73771d79e84e2aab8c909c5bb210</td>\n",
              "    </tr>\n",
              "    <tr>\n",
              "      <th>1</th>\n",
              "      <td>1</td>\n",
              "      <td>On January 1st 2002, the European countries be...</td>\n",
              "      <td>00154.b6c448ccff434e2dbe2c7c200a36aa31</td>\n",
              "    </tr>\n",
              "    <tr>\n",
              "      <th>2</th>\n",
              "      <td>1</td>\n",
              "      <td>This is a multi-part message in MIME format.\\n...</td>\n",
              "      <td>00223.349b9b0748ee72bad60729ffaae2cc00</td>\n",
              "    </tr>\n",
              "    <tr>\n",
              "      <th>3</th>\n",
              "      <td>1</td>\n",
              "      <td>&lt;!DOCTYPE HTML PUBLIC \"-//W3C//DTD HTML 3.2//E...</td>\n",
              "      <td>00351.fd1b8a6cd42e81125fb38c2660cd9317</td>\n",
              "    </tr>\n",
              "    <tr>\n",
              "      <th>4</th>\n",
              "      <td>1</td>\n",
              "      <td>&lt;!DOCTYPE HTML PUBLIC \"-//W3C//DTD HTML 4.0 Tr...</td>\n",
              "      <td>00001.7848dde101aa985090474a91ec93fcf0</td>\n",
              "    </tr>\n",
              "    <tr>\n",
              "      <th>...</th>\n",
              "      <td>...</td>\n",
              "      <td>...</td>\n",
              "      <td>...</td>\n",
              "    </tr>\n",
              "    <tr>\n",
              "      <th>5791</th>\n",
              "      <td>0</td>\n",
              "      <td>\"This is a very tenuous time for Microsoft,\" G...</td>\n",
              "      <td>00695.2de9d6d30a7713e550b4fd02bb35e7b4</td>\n",
              "    </tr>\n",
              "    <tr>\n",
              "      <th>5792</th>\n",
              "      <td>0</td>\n",
              "      <td>On 21 Jul 2002 23:59:59 +1200\\n\\nMark Derricut...</td>\n",
              "      <td>01137.e0afde7fc471f626742746c738013750</td>\n",
              "    </tr>\n",
              "    <tr>\n",
              "      <th>5793</th>\n",
              "      <td>0</td>\n",
              "      <td>Pablo Sofware Solutions FTP server Directory T...</td>\n",
              "      <td>01294.7f208bf4ae152863fd40f25e2e121d49</td>\n",
              "    </tr>\n",
              "    <tr>\n",
              "      <th>5794</th>\n",
              "      <td>0</td>\n",
              "      <td>If you run Pick, and then use the \"New FTOC\" b...</td>\n",
              "      <td>00747.352d424267d36975a7b40b85ffd0885e</td>\n",
              "    </tr>\n",
              "    <tr>\n",
              "      <th>5795</th>\n",
              "      <td>0</td>\n",
              "      <td>On Wed, 14 Aug 2002, Chip Paswater wrote:\\n\\n\\...</td>\n",
              "      <td>00654.7e84d693f6d2dc216aa501c47db607f7</td>\n",
              "    </tr>\n",
              "  </tbody>\n",
              "</table>\n",
              "<p>5796 rows × 3 columns</p>\n",
              "</div>"
            ],
            "text/plain": [
              "        CATEGORY  ...                               FILE_NAME\n",
              "DOC_ID            ...                                        \n",
              "0              1  ...  00273.0c7d73771d79e84e2aab8c909c5bb210\n",
              "1              1  ...  00154.b6c448ccff434e2dbe2c7c200a36aa31\n",
              "2              1  ...  00223.349b9b0748ee72bad60729ffaae2cc00\n",
              "3              1  ...  00351.fd1b8a6cd42e81125fb38c2660cd9317\n",
              "4              1  ...  00001.7848dde101aa985090474a91ec93fcf0\n",
              "...          ...  ...                                     ...\n",
              "5791           0  ...  00695.2de9d6d30a7713e550b4fd02bb35e7b4\n",
              "5792           0  ...  01137.e0afde7fc471f626742746c738013750\n",
              "5793           0  ...  01294.7f208bf4ae152863fd40f25e2e121d49\n",
              "5794           0  ...  00747.352d424267d36975a7b40b85ffd0885e\n",
              "5795           0  ...  00654.7e84d693f6d2dc216aa501c47db607f7\n",
              "\n",
              "[5796 rows x 3 columns]"
            ]
          },
          "metadata": {},
          "execution_count": 15
        }
      ]
    },
    {
      "cell_type": "markdown",
      "metadata": {
        "id": "0IVywo0Zn8G6"
      },
      "source": [
        "##Saving the dataframe to the disk"
      ]
    },
    {
      "cell_type": "code",
      "metadata": {
        "id": "4ehYGia0nGSi"
      },
      "source": [
        "data.to_json(dataJSON)"
      ],
      "execution_count": 16,
      "outputs": []
    },
    {
      "cell_type": "markdown",
      "metadata": {
        "id": "fYu6H166pOFe"
      },
      "source": [
        "##Data Visualization through Pie Charts and Donut Charts\n",
        "\n"
      ]
    },
    {
      "cell_type": "code",
      "metadata": {
        "id": "lajiv7I8oWAn"
      },
      "source": [
        "spamCounts = data.CATEGORY.value_counts()[0]\n",
        "notSpamCounts = data.CATEGORY.value_counts()[1]"
      ],
      "execution_count": 17,
      "outputs": []
    },
    {
      "cell_type": "code",
      "metadata": {
        "colab": {
          "base_uri": "https://localhost:8080/",
          "height": 530
        },
        "id": "uzSuHyXip96b",
        "outputId": "47283159-bc06-4c58-a78e-f840fec1c3f5"
      },
      "source": [
        "#Creating a pie chart\n",
        "\n",
        "categoryNames = ['Spam', 'Legit Mail']\n",
        "size = [spamCounts, notSpamCounts]\n",
        "colors = ['#ff7675', '#74b9ff']\n",
        "\n",
        "plt.figure(figsize=(2, 2), dpi=300)\n",
        "plt.pie(size, labels=categoryNames, textprops={'fontsize': 6}, autopct='%1.0f%%', colors=colors, explode=[0, 0.05], startangle=90)\n",
        "plt.show()"
      ],
      "execution_count": 18,
      "outputs": [
        {
          "output_type": "display_data",
          "data": {
            "image/png": "[encoded data removed]",
            "text/plain": [
              "<Figure size 600x600 with 1 Axes>"
            ]
          },
          "metadata": {}
        }
      ]
    },
    {
      "cell_type": "markdown",
      "metadata": {
        "id": "BivlbpxMM5mU"
      },
      "source": [
        "##Natural Language Processing"
      ]
    },
    {
      "cell_type": "markdown",
      "metadata": {
        "id": "w6PVxTX9M9zl"
      },
      "source": [
        "###Text Pre-Processing Techniques"
      ]
    },
    {
      "cell_type": "code",
      "metadata": {
        "colab": {
          "base_uri": "https://localhost:8080/",
          "height": 35
        },
        "id": "UCb4PsjOM9A7",
        "outputId": "8425b9d3-f3e8-4ebd-8310-c83609fffd6b"
      },
      "source": [
        "#converting to lower case examples\n",
        "msg = 'All work and no play makes Jack a dull boy.'\n",
        "msg.lower()"
      ],
      "execution_count": 19,
      "outputs": [
        {
          "output_type": "execute_result",
          "data": {
            "application/vnd.google.colaboratory.intrinsic+json": {
              "type": "string"
            },
            "text/plain": [
              "'all work and no play makes jack a dull boy.'"
            ]
          },
          "metadata": {},
          "execution_count": 19
        }
      ]
    },
    {
      "cell_type": "markdown",
      "metadata": {
        "id": "n4fFyz85PUMC"
      },
      "source": [
        "###Downloading NLTK Resources"
      ]
    },
    {
      "cell_type": "code",
      "metadata": {
        "colab": {
          "base_uri": "https://localhost:8080/"
        },
        "id": "JpvBaf3xPSij",
        "outputId": "9fb9f494-9681-45ab-9bdf-b9fa133e56f5"
      },
      "source": [
        "nltk.download('punkt')"
      ],
      "execution_count": 20,
      "outputs": [
        {
          "output_type": "stream",
          "name": "stdout",
          "text": [
            "[nltk_data] Downloading package punkt to /root/nltk_data...\n",
            "[nltk_data]   Package punkt is already up-to-date!\n"
          ]
        },
        {
          "output_type": "execute_result",
          "data": {
            "text/plain": [
              "True"
            ]
          },
          "metadata": {},
          "execution_count": 20
        }
      ]
    },
    {
      "cell_type": "code",
      "metadata": {
        "colab": {
          "base_uri": "https://localhost:8080/"
        },
        "id": "r9GfkjNoROOI",
        "outputId": "af1a81a1-69ae-4ca6-ac67-56142e67095a"
      },
      "source": [
        "nltk.download('stopwords')"
      ],
      "execution_count": 21,
      "outputs": [
        {
          "output_type": "stream",
          "name": "stdout",
          "text": [
            "[nltk_data] Downloading package stopwords to /root/nltk_data...\n",
            "[nltk_data]   Package stopwords is already up-to-date!\n"
          ]
        },
        {
          "output_type": "execute_result",
          "data": {
            "text/plain": [
              "True"
            ]
          },
          "metadata": {},
          "execution_count": 21
        }
      ]
    },
    {
      "cell_type": "code",
      "metadata": {
        "colab": {
          "base_uri": "https://localhost:8080/"
        },
        "id": "HHy2ppUorcys",
        "outputId": "ddbeeead-1eaf-4291-9eda-475ca2c003a5"
      },
      "source": [
        "nltk.download('gutenberg')\n",
        "nltk.download('shakespeare')"
      ],
      "execution_count": 22,
      "outputs": [
        {
          "output_type": "stream",
          "name": "stdout",
          "text": [
            "[nltk_data] Downloading package gutenberg to /root/nltk_data...\n",
            "[nltk_data]   Package gutenberg is already up-to-date!\n",
            "[nltk_data] Downloading package shakespeare to /root/nltk_data...\n",
            "[nltk_data]   Package shakespeare is already up-to-date!\n"
          ]
        },
        {
          "output_type": "execute_result",
          "data": {
            "text/plain": [
              "True"
            ]
          },
          "metadata": {},
          "execution_count": 22
        }
      ]
    },
    {
      "cell_type": "markdown",
      "metadata": {
        "id": "RAxVpu1YPfkw"
      },
      "source": [
        "###Tokenising: Segregating all the constituent words of the text."
      ]
    },
    {
      "cell_type": "code",
      "metadata": {
        "colab": {
          "base_uri": "https://localhost:8080/"
        },
        "id": "wiNKRpBZPbuS",
        "outputId": "4a8fe1be-4892-45d6-860b-e1351b10f985"
      },
      "source": [
        "msg = 'All work and no play makes Jack a dull boy.'\n",
        "word_tokenize(msg.lower())"
      ],
      "execution_count": 23,
      "outputs": [
        {
          "output_type": "execute_result",
          "data": {
            "text/plain": [
              "['all', 'work', 'and', 'no', 'play', 'makes', 'jack', 'a', 'dull', 'boy', '.']"
            ]
          },
          "metadata": {},
          "execution_count": 23
        }
      ]
    },
    {
      "cell_type": "markdown",
      "metadata": {
        "id": "yvLc4ElTP_Bb"
      },
      "source": [
        "###Removing Stop Words: Removing words like the, a, an, is, etc."
      ]
    },
    {
      "cell_type": "code",
      "metadata": {
        "id": "sE5h7MbzProf"
      },
      "source": [
        "stopWords = set(stopwords.words('english'))"
      ],
      "execution_count": 24,
      "outputs": []
    },
    {
      "cell_type": "code",
      "metadata": {
        "colab": {
          "base_uri": "https://localhost:8080/"
        },
        "id": "C2BTL_dFSnhb",
        "outputId": "6e4b482b-97b6-49fd-b044-51fc8fc59343"
      },
      "source": [
        "msg = 'All work and no play makes Jack a dull boy. TO be or not to be.'\n",
        "words = word_tokenize(msg.lower())\n",
        "\n",
        "filteredWords = []\n",
        "\n",
        "for i in words:\n",
        "    if i not in stopWords:\n",
        "        filteredWords.append(i)\n",
        "\n",
        "filteredWords"
      ],
      "execution_count": 25,
      "outputs": [
        {
          "output_type": "execute_result",
          "data": {
            "text/plain": [
              "['work', 'play', 'makes', 'jack', 'dull', 'boy', '.', '.']"
            ]
          },
          "metadata": {},
          "execution_count": 25
        }
      ]
    },
    {
      "cell_type": "markdown",
      "metadata": {
        "id": "o3gUdx-zxvU8"
      },
      "source": [
        "###Word stems and stemming"
      ]
    },
    {
      "cell_type": "code",
      "metadata": {
        "colab": {
          "base_uri": "https://localhost:8080/"
        },
        "id": "EXkSFGIUv38l",
        "outputId": "efd24852-4f91-4c45-ce36-2e4d7b5eeb4f"
      },
      "source": [
        "msg = 'All work and no play makes Jack a dull boy. To be or not to be.'\n",
        "words = word_tokenize(msg.lower())\n",
        "\n",
        "stemmer = PorterStemmer()\n",
        "\n",
        "filteredWords = []\n",
        "\n",
        "for i in words:\n",
        "    if i not in stopWords:\n",
        "        stemmedWord = stemmer.stem(i)\n",
        "        filteredWords.append(stemmedWord)\n",
        "\n",
        "print(filteredWords)"
      ],
      "execution_count": 26,
      "outputs": [
        {
          "output_type": "stream",
          "name": "stdout",
          "text": [
            "['work', 'play', 'make', 'jack', 'dull', 'boy', '.', '.']\n"
          ]
        }
      ]
    },
    {
      "cell_type": "markdown",
      "metadata": {
        "id": "YlWQaLYRx43m"
      },
      "source": [
        "###Removing Punctuations"
      ]
    },
    {
      "cell_type": "code",
      "metadata": {
        "colab": {
          "base_uri": "https://localhost:8080/"
        },
        "id": "0c8VRv6twFAM",
        "outputId": "e24434e5-d584-489e-f3fa-897a43fb1092"
      },
      "source": [
        "msg = 'All work and no play makes Jack a dull boy. To be or not to be???'\n",
        "words = word_tokenize(msg.lower())\n",
        "\n",
        "stemmer = PorterStemmer()\n",
        "\n",
        "filteredWords = []\n",
        "\n",
        "for i in words:\n",
        "    if i not in stopWords and i.isalpha():\n",
        "        stemmedWord = stemmer.stem(i)\n",
        "        filteredWords.append(stemmedWord)\n",
        "\n",
        "print(filteredWords)"
      ],
      "execution_count": 27,
      "outputs": [
        {
          "output_type": "stream",
          "name": "stdout",
          "text": [
            "['work', 'play', 'make', 'jack', 'dull', 'boy']\n"
          ]
        }
      ]
    },
    {
      "cell_type": "markdown",
      "metadata": {
        "id": "vNiMzotby9Mu"
      },
      "source": [
        "###Removing HTML Tags"
      ]
    },
    {
      "cell_type": "code",
      "metadata": {
        "colab": {
          "base_uri": "https://localhost:8080/",
          "height": 132
        },
        "id": "QNhcMtGbyE_P",
        "outputId": "1e764a19-39c7-42bf-e195-41e5f0ce1617"
      },
      "source": [
        "soup = BeautifulSoup(data.at[2, 'MESSAGE'], 'html.parser')\n",
        "#soup.prettify() This method is used to print the html formatted text where the tags can be read in a better way.\n",
        "soup.get_text()"
      ],
      "execution_count": 28,
      "outputs": [
        {
          "output_type": "execute_result",
          "data": {
            "application/vnd.google.colaboratory.intrinsic+json": {
              "type": "string"
            },
            "text/plain": [
              "'This is a multi-part message in MIME format.\\n\\n\\n\\n------=_NextPart_000_20F213_01C25430.B7EDE5E0\\n\\nContent-Type: text/plain;\\n\\n\\tcharset=\"Windows-1252\"\\n\\nContent-Transfer-Encoding: 7bit\\n\\n\\n\\n Outstanding\\n\\n Opportunities\\n\\n For Premier Producers\\t\\n\\n Our Client\\'s Search Includes:\\t\\n\\n Full-Time Agents \\t Sales Managers\\t  General Agents\\t \\n\\n CPA \"Partners\"\\t  Independent Agents & Brokers\\t \\n\\n \\t Allow\\n\\n their \"Nationally Acclaimed\" marketing intiatives and unbeatable\\n\\nproduct portfolio to DOUBLE YOUR INCOME within 24 months\\t\\n\\n\\n\\nPLUS ACCESS TO 385 OTHER COMPANIES \\t\\n\\nFor A Confidential Phone Interview Please Complete Form & Submit \\t\\n\\nName: \\t \\t\\n\\nE-mail: \\t \\t\\n\\nPhone: \\t \\t\\n\\nCity:\\t  \\tState:\\t  \\t \\t \\n\\nArea of Interest:\\t  \\tFull-Time Agent\\t  \\tSales Manager\\n\\nGeneral Agent\\t \\n\\n \\t  \\tCPA \"Partner\"\\t  \\tIndependent Agent\\t \\n\\n \\t    \\t \\t\\n\\n \\n\\nWe don\\'t want anybody to receive or mailing who does not wish to receive\\n\\nthem. This is professional communication sent to insurance\\n\\nprofessionals. To be removed from this mailing list, DO NOT REPLY to\\n\\nthis message. Instead, go here: http://www.InsuranceIQ.com/optout\\n\\nLegal Notice  \\n\\n\\n\\n\\n\\n\\n\\n------=_NextPart_000_20F213_01C25430.B7EDE5E0\\n\\nContent-Type: text/html;\\n\\n\\tcharset=\"iso-8859-1\"\\n\\nContent-Transfer-Encoding: quoted-printable\\n\\n\\n\\n\\n\\nOutstanding Opportunities for \"Premier Producers\"\\n\\n\\n\\n\\n\\n\\n\\n\\n=20\\n\\n            \\n\\n\\n\\n=20\\n\\n             \\n\\n=20\\n\\n            =20\\n\\n                \\n=20\\n\\n                    Full-Time Agents \\nSales Managers\\nGeneral Agents\\n\\n\\n\\n=20\\n\\n                    CPA \"Partners\"\\nIndependent Agents & Brokers\\n\\n\\n\\n\\n\\n\\n\\n\\n\\n \\n\\n\\n\\n\\n=20\\n\\n            \\nPLUS ACCESS TO 385 OTHER COMPANIES\\n\\n\\n\\n\\n=20\\n\\n            =20\\n\\n              \\n=20\\n\\n                  =20\\n\\n                    \\n=20\\n\\n                        \\n=20\\n\\n                            \\n=20\\n\\n                                \\n\\n                                  For A Confidential Phone Interview =\\n\\nPlease Complete Form & Submit\\n\\n\\n=20\\n\\n                                =20\\n\\n                                  Name:\\n\\n=20\\n\\n                                  \\n\\n\\n=20\\n\\n                                =20\\n\\n                                  E-mail:\\n\\n=20\\n\\n                                  \\n\\n\\n=20\\n\\n                                =20\\n\\n                                  Phone:\\n\\n=20\\n\\n                                  \\n\\n\\n=20\\n\\n                                City:\\n=20\\n\\n                                  \\n\\nState:\\n=20\\n\\n                                  \\n\\n\\xa0\\n\\n=20\\n\\n                                Area =\\n\\nof Interest:\\n=20\\n\\n                                  \\n\\nFull-Time =\\n\\nAgent\\n=20\\n\\n                                  \\n\\nSales =\\n\\nManager\\n=20\\n\\n                                  \\n\\nGeneral Agent\\n\\n=20\\n\\n                                 \\xa0\\n\\n\\n\\nCPA =\\n\\n\"Partner\"\\n=20\\n\\n                                   \\n\\nIndependent Agent\\n\\n=20\\n\\n                                \\xa0\\n=20\\n\\n                                  \\n\\n\\n\\n\\n\\n\\n\\n\\n\\n\\n\\n\\n\\n\\n\\n=20\\n\\n                  =20\\n\\n                    We=20\\n\\n                      don\\'t want anybody to receive or mailing who does =\\n\\nnot wish=20\\n\\n                      to receive them. This is professional =\\n\\ncommunication sent=20\\n\\n                      to insurance professionals. To be removed from =\\n\\nthis mailing=20\\n\\n                      list, DO NOT REPLY to this message. Instead, go =\\n\\nhere: http://www.InsuranceIQ.com/opt=\\n\\nout\\nLegal =\\n\\nNotice\\n\\n\\n\\n\\n\\n\\n\\n\\n\\n\\n\\n\\n\\n\\n\\n\\n------=_NextPart_000_20F213_01C25430.B7EDE5E0--\\n\\n\\n'"
            ]
          },
          "metadata": {},
          "execution_count": 28
        }
      ]
    },
    {
      "cell_type": "markdown",
      "metadata": {
        "id": "HofBjxEuSrac"
      },
      "source": [
        "###Function for Email Processing"
      ]
    },
    {
      "cell_type": "code",
      "metadata": {
        "id": "YkDjcXPtSxSd"
      },
      "source": [
        "def cleanMessage (message, stemmer=PorterStemmer(), stopWords = set(stopwords.words('english'))):\n",
        "\n",
        "    soup = BeautifulSoup(message, 'html.parser')\n",
        "    wordsNoHTML = soup.get_text()  \n",
        "\n",
        "    words = word_tokenize(wordsNoHTML.lower())\n",
        "    filteredWords = []  \n",
        "\n",
        "    for i in words:\n",
        "        if i not in stopWords and i.isalpha():\n",
        "            filteredWords.append(stemmer.stem(i))\n",
        "\n",
        "    return filteredWords"
      ],
      "execution_count": 29,
      "outputs": []
    },
    {
      "cell_type": "code",
      "metadata": {
        "colab": {
          "base_uri": "https://localhost:8080/"
        },
        "id": "VABUaXJ3UA3v",
        "outputId": "8be91666-d9f7-4863-bb6d-66d0744e0062"
      },
      "source": [
        "cleanMessage(data.at[2, 'MESSAGE'])"
      ],
      "execution_count": 30,
      "outputs": [
        {
          "output_type": "execute_result",
          "data": {
            "text/plain": [
              "['messag',\n",
              " 'mime',\n",
              " 'format',\n",
              " 'outstand',\n",
              " 'opportun',\n",
              " 'premier',\n",
              " 'produc',\n",
              " 'client',\n",
              " 'search',\n",
              " 'includ',\n",
              " 'agent',\n",
              " 'sale',\n",
              " 'manag',\n",
              " 'gener',\n",
              " 'agent',\n",
              " 'cpa',\n",
              " 'partner',\n",
              " 'independ',\n",
              " 'agent',\n",
              " 'broker',\n",
              " 'allow',\n",
              " 'nation',\n",
              " 'acclaim',\n",
              " 'market',\n",
              " 'inti',\n",
              " 'unbeat',\n",
              " 'product',\n",
              " 'portfolio',\n",
              " 'doubl',\n",
              " 'incom',\n",
              " 'within',\n",
              " 'month',\n",
              " 'plu',\n",
              " 'access',\n",
              " 'compani',\n",
              " 'confidenti',\n",
              " 'phone',\n",
              " 'interview',\n",
              " 'pleas',\n",
              " 'complet',\n",
              " 'form',\n",
              " 'submit',\n",
              " 'name',\n",
              " 'phone',\n",
              " 'citi',\n",
              " 'state',\n",
              " 'area',\n",
              " 'interest',\n",
              " 'agent',\n",
              " 'sale',\n",
              " 'manag',\n",
              " 'gener',\n",
              " 'agent',\n",
              " 'cpa',\n",
              " 'partner',\n",
              " 'independ',\n",
              " 'agent',\n",
              " 'want',\n",
              " 'anybodi',\n",
              " 'receiv',\n",
              " 'mail',\n",
              " 'wish',\n",
              " 'receiv',\n",
              " 'profession',\n",
              " 'commun',\n",
              " 'sent',\n",
              " 'insur',\n",
              " 'profession',\n",
              " 'remov',\n",
              " 'mail',\n",
              " 'list',\n",
              " 'repli',\n",
              " 'messag',\n",
              " 'instead',\n",
              " 'go',\n",
              " 'http',\n",
              " 'legal',\n",
              " 'notic',\n",
              " 'outstand',\n",
              " 'opportun',\n",
              " 'premier',\n",
              " 'produc',\n",
              " 'agent',\n",
              " 'sale',\n",
              " 'manag',\n",
              " 'gener',\n",
              " 'agent',\n",
              " 'cpa',\n",
              " 'partner',\n",
              " 'independ',\n",
              " 'agent',\n",
              " 'broker',\n",
              " 'plu',\n",
              " 'access',\n",
              " 'compani',\n",
              " 'confidenti',\n",
              " 'phone',\n",
              " 'interview',\n",
              " 'pleas',\n",
              " 'complet',\n",
              " 'form',\n",
              " 'submit',\n",
              " 'name',\n",
              " 'phone',\n",
              " 'citi',\n",
              " 'state',\n",
              " 'area',\n",
              " 'interest',\n",
              " 'agent',\n",
              " 'sale',\n",
              " 'manag',\n",
              " 'gener',\n",
              " 'agent',\n",
              " 'cpa',\n",
              " 'partner',\n",
              " 'independ',\n",
              " 'agent',\n",
              " 'want',\n",
              " 'anybodi',\n",
              " 'receiv',\n",
              " 'mail',\n",
              " 'receiv',\n",
              " 'profession',\n",
              " 'commun',\n",
              " 'insur',\n",
              " 'profession',\n",
              " 'remov',\n",
              " 'list',\n",
              " 'repli',\n",
              " 'messag',\n",
              " 'instead',\n",
              " 'go',\n",
              " 'http',\n",
              " 'legal',\n",
              " 'notic']"
            ]
          },
          "metadata": {},
          "execution_count": 30
        }
      ]
    },
    {
      "cell_type": "markdown",
      "metadata": {
        "id": "4TWNp8rBWElT"
      },
      "source": [
        "##Apply Cleaning and Tokenisation to all the messages"
      ]
    },
    {
      "cell_type": "code",
      "metadata": {
        "colab": {
          "base_uri": "https://localhost:8080/"
        },
        "id": "2K_D66P2UK73",
        "outputId": "371a9bb4-bc86-4c37-a8bc-1a07ac32d8c9"
      },
      "source": [
        "#Creating a massive series of all the messages cleaned and transformed\n",
        "\n",
        "%%time\n",
        "\n",
        "nestedList = data.MESSAGE.apply(cleanMessage)"
      ],
      "execution_count": 31,
      "outputs": [
        {
          "output_type": "stream",
          "name": "stderr",
          "text": [
            "/usr/local/lib/python3.7/dist-packages/bs4/__init__.py:336: UserWarning: \"http://www.post-gazette.com/columnists/20020905brian5\n",
            "\" looks like a URL. Beautiful Soup is not an HTTP client. You should probably use an HTTP client like requests to get the document behind the URL, and feed that document to Beautiful Soup.\n",
            "  ' that document to Beautiful Soup.' % decoded_markup\n"
          ]
        },
        {
          "output_type": "stream",
          "name": "stdout",
          "text": [
            "CPU times: user 37.5 s, sys: 1.58 ms, total: 37.5 s\n",
            "Wall time: 37.6 s\n"
          ]
        }
      ]
    },
    {
      "cell_type": "code",
      "metadata": {
        "id": "-Du29CyJYalb"
      },
      "source": [
        "spamID = data[data.CATEGORY == 1].index\n",
        "notSpamID = data[data.CATEGORY == 0].index"
      ],
      "execution_count": 32,
      "outputs": []
    },
    {
      "cell_type": "code",
      "metadata": {
        "colab": {
          "base_uri": "https://localhost:8080/"
        },
        "id": "iteil_TjZs95",
        "outputId": "0f7c6d10-239e-4d3b-c6e9-44e04306ea13"
      },
      "source": [
        "spamListNested = nestedList.loc[spamID]\n",
        "notSpamListNested = nestedList.loc[notSpamID]\n",
        "\n",
        "spamListNested.shape"
      ],
      "execution_count": 33,
      "outputs": [
        {
          "output_type": "execute_result",
          "data": {
            "text/plain": [
              "(1896,)"
            ]
          },
          "metadata": {},
          "execution_count": 33
        }
      ]
    },
    {
      "cell_type": "code",
      "metadata": {
        "colab": {
          "base_uri": "https://localhost:8080/"
        },
        "id": "Gy1hQ9iraDXe",
        "outputId": "74e6e892-a4dd-49ad-8b9b-3e9f9a19a382"
      },
      "source": [
        "finalSpamList = [item for sublist in spamListNested for item in sublist]\n",
        "spamWords = pd.Series(finalSpamList).value_counts()\n",
        "\n",
        "spamWords[:10] #First 10 most common words and freuency of their occurance"
      ],
      "execution_count": 34,
      "outputs": [
        {
          "output_type": "execute_result",
          "data": {
            "text/plain": [
              "http      3101\n",
              "email     3094\n",
              "free      2555\n",
              "click     2058\n",
              "receiv    1987\n",
              "list      1974\n",
              "get       1903\n",
              "pleas     1842\n",
              "busi      1792\n",
              "order     1743\n",
              "dtype: int64"
            ]
          },
          "metadata": {},
          "execution_count": 34
        }
      ]
    },
    {
      "cell_type": "code",
      "metadata": {
        "colab": {
          "base_uri": "https://localhost:8080/"
        },
        "id": "uTLjjqz_aEuz",
        "outputId": "f141caf3-010e-4cf6-9a1b-677fbfe54858"
      },
      "source": [
        "finalNotSpamList = [item for sublist in notSpamListNested for item in sublist]\n",
        "notSpamWords = pd.Series(finalNotSpamList).value_counts()\n",
        "\n",
        "notSpamWords[:10] #First 10 most common words and freuency of their occurance"
      ],
      "execution_count": 35,
      "outputs": [
        {
          "output_type": "execute_result",
          "data": {
            "text/plain": [
              "http      7561\n",
              "use       3630\n",
              "list      2878\n",
              "one       2371\n",
              "get       2284\n",
              "mail      2255\n",
              "would     2003\n",
              "like      1928\n",
              "messag    1847\n",
              "work      1798\n",
              "dtype: int64"
            ]
          },
          "metadata": {},
          "execution_count": 35
        }
      ]
    },
    {
      "cell_type": "markdown",
      "metadata": {
        "id": "sfk-SHT_qCXN"
      },
      "source": [
        "##Creating a Word Cloud"
      ]
    },
    {
      "cell_type": "code",
      "metadata": {
        "colab": {
          "base_uri": "https://localhost:8080/",
          "height": 197
        },
        "id": "f3pS0XHVcPN9",
        "outputId": "0f187f46-412b-4a60-9578-7c9f26dca215"
      },
      "source": [
        "wordCloud = WordCloud().generate(finalBody)\n",
        "plt.imshow(wordCloud, interpolation='bilinear')\n",
        "plt.axis('off')\n",
        "plt.show()"
      ],
      "execution_count": 36,
      "outputs": [
        {
          "output_type": "display_data",
          "data": {
            "image/png": "[encoded data removed]",
            "text/plain": [
              "<Figure size 432x288 with 1 Axes>"
            ]
          },
          "metadata": {
            "needs_background": "light"
          }
        }
      ]
    },
    {
      "cell_type": "code",
      "metadata": {
        "id": "2BOEQoHCsZgy"
      },
      "source": [
        ""
      ],
      "execution_count": 36,
      "outputs": []
    }
  ]
}