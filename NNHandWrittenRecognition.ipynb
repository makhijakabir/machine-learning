{
  "nbformat": 4,
  "nbformat_minor": 0,
  "metadata": {
    "colab": {
      "name": "NNHandWrittenRecognition",
      "provenance": [],
      "toc_visible": true,
      "mount_file_id": "1RJyz08SvPnt3yGlLSMGnOpQ-K3LXb79J",
      "authorship_tag": "ABX9TyOEBvlpNZsylVkuppp8tl+q",
      "include_colab_link": true
    },
    "kernelspec": {
      "name": "python3",
      "display_name": "Python 3"
    },
    "language_info": {
      "name": "python"
    }
  },
  "cells": [
    {
      "cell_type": "markdown",
      "metadata": {
        "id": "view-in-github",
        "colab_type": "text"
      },
      "source": [
        "<a href=\"https://colab.research.google.com/github/makhijakabir/machine-learning/blob/main/NNHandWrittenRecognition.ipynb\" target=\"_parent\"><img src=\"https://colab.research.google.com/assets/colab-badge.svg\" alt=\"Open In Colab\"/></a>"
      ]
    },
    {
      "cell_type": "markdown",
      "metadata": {
        "id": "X1x7w2m_S8wC"
      },
      "source": [
        "#Using Neural Networks to make a model that recognizes Hand Written Digits"
      ]
    },
    {
      "cell_type": "markdown",
      "metadata": {
        "id": "ZzvEhpCzTHXf"
      },
      "source": [
        "##Imports"
      ]
    },
    {
      "cell_type": "code",
      "metadata": {
        "id": "FOnOyCwQTvup"
      },
      "source": [
        "%load_ext tensorboard"
      ],
      "execution_count": 3,
      "outputs": []
    },
    {
      "cell_type": "code",
      "metadata": {
        "id": "7uCcsNKoS2rG"
      },
      "source": [
        "from numpy.random import seed\n",
        "seed(888)\n",
        "from tensorflow.random import set_seed\n",
        "set_seed(404)"
      ],
      "execution_count": 4,
      "outputs": []
    },
    {
      "cell_type": "code",
      "metadata": {
        "id": "gdh9C_12TbOA"
      },
      "source": [
        "import os\n",
        "import numpy as np\n",
        "import tensorflow as tf"
      ],
      "execution_count": 5,
      "outputs": []
    },
    {
      "cell_type": "markdown",
      "metadata": {
        "id": "mwlZBpNHTJvG"
      },
      "source": [
        "##Constants"
      ]
    },
    {
      "cell_type": "code",
      "metadata": {
        "id": "dSHWazC0TLI-"
      },
      "source": [
        "xTrainPath = '/content/drive/MyDrive/Colab Notebooks/imageClassifyData/digit_xtrain.csv'\n",
        "xTestPath = '/content/drive/MyDrive/Colab Notebooks/imageClassifyData/digit_xtest.csv'\n",
        "yTrainPath = '/content/drive/MyDrive/Colab Notebooks/imageClassifyData/digit_ytrain.csv'\n",
        "yTestPath = '/content/drive/MyDrive/Colab Notebooks/imageClassifyData/digit_ytest.csv'"
      ],
      "execution_count": 6,
      "outputs": []
    },
    {
      "cell_type": "markdown",
      "metadata": {
        "id": "uLve68CaTL6I"
      },
      "source": [
        "##Get the Data"
      ]
    },
    {
      "cell_type": "code",
      "metadata": {
        "colab": {
          "base_uri": "https://localhost:8080/"
        },
        "id": "Tt53XBUhTNhM",
        "outputId": "08dd9e10-8235-460d-d09a-45bcecdf0a49"
      },
      "source": [
        "%%time\n",
        "\n",
        "yTrainAll = np.loadtxt(yTrainPath, delimiter=',', dtype=int)\n",
        "yTestAll = np.loadtxt(yTestPath, delimiter=',', dtype=int)\n",
        "\n",
        "xTrainAll = np.loadtxt(xTrainPath, delimiter=',', dtype=int)\n",
        "xTestAll = np.loadtxt(xTestPath, delimiter=',', dtype=int)"
      ],
      "execution_count": 9,
      "outputs": [
        {
          "output_type": "stream",
          "name": "stdout",
          "text": [
            "CPU times: user 52.1 s, sys: 2.64 s, total: 54.7 s\n",
            "Wall time: 56 s\n"
          ]
        }
      ]
    },
    {
      "cell_type": "code",
      "metadata": {
        "id": "rQMEVcwmWY4t"
      },
      "source": [
        ""
      ],
      "execution_count": null,
      "outputs": []
    }
  ]
}