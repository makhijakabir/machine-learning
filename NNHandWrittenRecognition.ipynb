{
  "nbformat": 4,
  "nbformat_minor": 0,
  "metadata": {
    "colab": {
      "name": "NNHandWrittenRecognition",
      "provenance": [],
      "collapsed_sections": [],
      "toc_visible": true,
      "mount_file_id": "1RJyz08SvPnt3yGlLSMGnOpQ-K3LXb79J",
      "authorship_tag": "ABX9TyPKL0wIdUku61blCl44y6Fb",
      "include_colab_link": true
    },
    "kernelspec": {
      "display_name": "Python 3",
      "name": "python3"
    },
    "language_info": {
      "name": "python"
    }
  },
  "cells": [
    {
      "cell_type": "markdown",
      "metadata": {
        "id": "view-in-github",
        "colab_type": "text"
      },
      "source": [
        "<a href=\"https://colab.research.google.com/github/makhijakabir/machine-learning/blob/main/NNHandWrittenRecognition.ipynb\" target=\"_parent\"><img src=\"https://colab.research.google.com/assets/colab-badge.svg\" alt=\"Open In Colab\"/></a>"
      ]
    },
    {
      "cell_type": "markdown",
      "metadata": {
        "id": "X1x7w2m_S8wC"
      },
      "source": [
        "#Using Neural Networks to make a model that recognizes Hand Written Digits"
      ]
    },
    {
      "cell_type": "markdown",
      "metadata": {
        "id": "ZzvEhpCzTHXf"
      },
      "source": [
        "##Imports"
      ]
    },
    {
      "cell_type": "code",
      "metadata": {
        "colab": {
          "base_uri": "https://localhost:8080/"
        },
        "id": "FOnOyCwQTvup",
        "outputId": "30cf7fba-184b-4b3a-d29d-65cd6cfb5279"
      },
      "source": [
        "%load_ext tensorboard"
      ],
      "execution_count": 76,
      "outputs": [
        {
          "output_type": "stream",
          "name": "stdout",
          "text": [
            "The tensorboard extension is already loaded. To reload it, use:\n",
            "  %reload_ext tensorboard\n"
          ]
        }
      ]
    },
    {
      "cell_type": "code",
      "metadata": {
        "id": "7uCcsNKoS2rG"
      },
      "source": [
        "from numpy.random import seed\n",
        "seed(888)\n",
        "from tensorflow.random import set_seed\n",
        "set_seed(404)"
      ],
      "execution_count": 77,
      "outputs": []
    },
    {
      "cell_type": "code",
      "metadata": {
        "id": "gdh9C_12TbOA",
        "colab": {
          "base_uri": "https://localhost:8080/"
        },
        "outputId": "c3bd5241-af1e-41dd-8b51-3547eca7d1ef"
      },
      "source": [
        "import os\n",
        "import numpy as np\n",
        "import tensorflow as tf\n",
        "print(tf.__version__)"
      ],
      "execution_count": 78,
      "outputs": [
        {
          "output_type": "stream",
          "name": "stdout",
          "text": [
            "2.6.0\n"
          ]
        }
      ]
    },
    {
      "cell_type": "markdown",
      "metadata": {
        "id": "mwlZBpNHTJvG"
      },
      "source": [
        "##Constants"
      ]
    },
    {
      "cell_type": "code",
      "metadata": {
        "id": "dSHWazC0TLI-"
      },
      "source": [
        "xTrainPath = '/content/drive/MyDrive/Colab Notebooks/imageClassifyData/digit_xtrain.csv'\n",
        "xTestPath = '/content/drive/MyDrive/Colab Notebooks/imageClassifyData/digit_xtest.csv'\n",
        "yTrainPath = '/content/drive/MyDrive/Colab Notebooks/imageClassifyData/digit_ytrain.csv'\n",
        "yTestPath = '/content/drive/MyDrive/Colab Notebooks/imageClassifyData/digit_ytest.csv'\n",
        "\n",
        "nrClasses = 10\n",
        "validationSize = 10000\n",
        "\n",
        "imageWidth = 28\n",
        "imageHeight = 28\n",
        "channels = 1\n",
        "totalInputs = imageWidth * imageHeight * channels"
      ],
      "execution_count": 79,
      "outputs": []
    },
    {
      "cell_type": "markdown",
      "metadata": {
        "id": "uLve68CaTL6I"
      },
      "source": [
        "##Get the Data"
      ]
    },
    {
      "cell_type": "code",
      "metadata": {
        "colab": {
          "base_uri": "https://localhost:8080/"
        },
        "id": "Tt53XBUhTNhM",
        "outputId": "0c73ab43-7ed5-4c2a-e0c7-643d3771cf0c"
      },
      "source": [
        "%%time\n",
        "\n",
        "yTrainAll = np.loadtxt(yTrainPath, delimiter=',', dtype=int)\n",
        "yTestAll = np.loadtxt(yTestPath, delimiter=',', dtype=int)\n",
        "\n",
        "xTrainAll = np.loadtxt(xTrainPath, delimiter=',', dtype=int)\n",
        "xTestAll = np.loadtxt(xTestPath, delimiter=',', dtype=int)"
      ],
      "execution_count": 80,
      "outputs": [
        {
          "output_type": "stream",
          "name": "stdout",
          "text": [
            "CPU times: user 51.6 s, sys: 1.83 s, total: 53.4 s\n",
            "Wall time: 53.4 s\n"
          ]
        }
      ]
    },
    {
      "cell_type": "markdown",
      "metadata": {
        "id": "e_0kAqWUkcs4"
      },
      "source": [
        "##Data Exploration"
      ]
    },
    {
      "cell_type": "code",
      "metadata": {
        "colab": {
          "base_uri": "https://localhost:8080/"
        },
        "id": "rQMEVcwmWY4t",
        "outputId": "34e0bd99-af71-4cfd-d8cd-72b113f32ab8"
      },
      "source": [
        "xTrainAll.shape"
      ],
      "execution_count": 81,
      "outputs": [
        {
          "output_type": "execute_result",
          "data": {
            "text/plain": [
              "(60000, 784)"
            ]
          },
          "metadata": {},
          "execution_count": 81
        }
      ]
    },
    {
      "cell_type": "code",
      "metadata": {
        "colab": {
          "base_uri": "https://localhost:8080/"
        },
        "id": "ZTyEdLsVkkQw",
        "outputId": "b6c196d3-24dd-4e4d-aee2-8697c218b006"
      },
      "source": [
        "xTestAll.shape"
      ],
      "execution_count": 82,
      "outputs": [
        {
          "output_type": "execute_result",
          "data": {
            "text/plain": [
              "(10000, 784)"
            ]
          },
          "metadata": {},
          "execution_count": 82
        }
      ]
    },
    {
      "cell_type": "markdown",
      "metadata": {
        "id": "qSQIMc9goAp7"
      },
      "source": [
        "##Data Pre Processing"
      ]
    },
    {
      "cell_type": "code",
      "metadata": {
        "id": "NbID5b5_kn4R"
      },
      "source": [
        "#Re-Scale the features\n",
        "xTrainAll, xTestAll = xTrainAll / 255.0, xTestAll / 255.0"
      ],
      "execution_count": 83,
      "outputs": []
    },
    {
      "cell_type": "markdown",
      "metadata": {
        "id": "_PQxHoZwo_uI"
      },
      "source": [
        "###Conert the Target Dataset into one-hot encoding"
      ]
    },
    {
      "cell_type": "code",
      "metadata": {
        "id": "Ls0Dh3NooZGZ"
      },
      "source": [
        "yTrainAll = np.eye(nrClasses)[yTrainAll]\n",
        "yTestAll = np.eye(nrClasses)[yTestAll]"
      ],
      "execution_count": 84,
      "outputs": []
    },
    {
      "cell_type": "code",
      "metadata": {
        "colab": {
          "base_uri": "https://localhost:8080/"
        },
        "id": "d-5ChuF9pV58",
        "outputId": "a477babf-cb5b-4ccb-9d0c-57111c0e11e2"
      },
      "source": [
        "yTrainAll.shape"
      ],
      "execution_count": 85,
      "outputs": [
        {
          "output_type": "execute_result",
          "data": {
            "text/plain": [
              "(60000, 10)"
            ]
          },
          "metadata": {},
          "execution_count": 85
        }
      ]
    },
    {
      "cell_type": "markdown",
      "metadata": {
        "id": "B_cJ-s07qnob"
      },
      "source": [
        "###Create validaton Dataset from Training Dataset"
      ]
    },
    {
      "cell_type": "code",
      "metadata": {
        "id": "moqeqP1dp5jS",
        "colab": {
          "base_uri": "https://localhost:8080/"
        },
        "outputId": "5a26405b-8658-4b95-8d16-9e1075cb88ec"
      },
      "source": [
        "xVal = xTrainAll[:validationSize]\n",
        "yVal = yTrainAll[:validationSize]\n",
        "\n",
        "xVal.shape"
      ],
      "execution_count": 86,
      "outputs": [
        {
          "output_type": "execute_result",
          "data": {
            "text/plain": [
              "(10000, 784)"
            ]
          },
          "metadata": {},
          "execution_count": 86
        }
      ]
    },
    {
      "cell_type": "code",
      "metadata": {
        "colab": {
          "base_uri": "https://localhost:8080/"
        },
        "id": "jQrxG1x_rF-u",
        "outputId": "aa4d144d-881a-4d1b-dce7-8e476bb53685"
      },
      "source": [
        "xTrain = xTrainAll[validationSize:]\n",
        "yTrain = yTrainAll[validationSize:]\n",
        "\n",
        "xTrain.shape"
      ],
      "execution_count": 87,
      "outputs": [
        {
          "output_type": "execute_result",
          "data": {
            "text/plain": [
              "(50000, 784)"
            ]
          },
          "metadata": {},
          "execution_count": 87
        }
      ]
    },
    {
      "cell_type": "markdown",
      "metadata": {
        "id": "Pw9unXEGu97I"
      },
      "source": [
        "##Setup Tensorflow Graph"
      ]
    },
    {
      "cell_type": "code",
      "metadata": {
        "id": "_-cKMJPZryz5"
      },
      "source": [
        "tf.compat.v1.disable_eager_execution()\n",
        "\n",
        "X = tf.compat.v1.placeholder(tf.float32, shape=[None, totalInputs])\n",
        "Y = tf.compat.v1.placeholder(tf.float32, shape=[None, nrClasses])"
      ],
      "execution_count": 88,
      "outputs": []
    },
    {
      "cell_type": "markdown",
      "metadata": {
        "id": "CJzDGDUb4SA0"
      },
      "source": [
        "###Neural Network Architecture"
      ]
    },
    {
      "cell_type": "markdown",
      "metadata": {
        "id": "QBkG6tNh4d_S"
      },
      "source": [
        "####HyperParameters"
      ]
    },
    {
      "cell_type": "code",
      "metadata": {
        "id": "FWyFbzzhv2j7"
      },
      "source": [
        "nrEpochs = 5\n",
        "learningRate = 0.0001\n",
        "\n",
        "nHidden1 = 512\n",
        "nHidden2 = 64"
      ],
      "execution_count": 89,
      "outputs": []
    },
    {
      "cell_type": "markdown",
      "metadata": {
        "id": "gPe3L8ir7XBA"
      },
      "source": [
        "#####Hidden Layer 1"
      ]
    },
    {
      "cell_type": "code",
      "metadata": {
        "id": "EEtbFTfy5GSX"
      },
      "source": [
        "initialW1 = tf.random.truncated_normal(shape=[totalInputs, nHidden1], stddev=0.1, seed=42)\n",
        "w1 = tf.Variable(initial_value=initialW1)"
      ],
      "execution_count": 90,
      "outputs": []
    },
    {
      "cell_type": "code",
      "metadata": {
        "id": "7T9R22kc55Ux"
      },
      "source": [
        "initialB1 = tf.constant(value=0.0, shape=[nHidden1])\n",
        "b1 = tf.Variable(initial_value=initialB1)"
      ],
      "execution_count": 91,
      "outputs": []
    },
    {
      "cell_type": "code",
      "metadata": {
        "id": "UWSJc5_g6eDU"
      },
      "source": [
        "layer1_in = tf.matmul(X, w1) + b1"
      ],
      "execution_count": 92,
      "outputs": []
    },
    {
      "cell_type": "code",
      "metadata": {
        "id": "eZlm0z-S65qt"
      },
      "source": [
        "layer1_out = tf.nn.relu(layer1_in)"
      ],
      "execution_count": 93,
      "outputs": []
    },
    {
      "cell_type": "markdown",
      "metadata": {
        "id": "Qvb2lY5q7Z4A"
      },
      "source": [
        "#####Hidden Layer 2"
      ]
    },
    {
      "cell_type": "code",
      "metadata": {
        "id": "ZcAI4Th57Cpz"
      },
      "source": [
        "initialW2 = tf.random.truncated_normal(shape=[nHidden1, nHidden2], stddev=0.1, seed=42)\n",
        "w2 = tf.Variable(initial_value=initialW2)\n",
        "\n",
        "initialB2 = tf.constant(value=0.0, shape=[nHidden2])\n",
        "b2 = tf.Variable(initial_value=initialB2)\n",
        "\n",
        "layer2_in = tf.matmul(layer1_out, w2) + b2\n",
        "layer2_out = tf.nn.relu(layer2_in)"
      ],
      "execution_count": 104,
      "outputs": []
    },
    {
      "cell_type": "markdown",
      "metadata": {
        "id": "qw_9n8s_9Moz"
      },
      "source": [
        "#####Output Layer"
      ]
    },
    {
      "cell_type": "code",
      "metadata": {
        "id": "62gapDIf9LjI"
      },
      "source": [
        "initialW3 = tf.random.truncated_normal(shape=[nHidden2, nrClasses], stddev=0.1, seed=42)\n",
        "w3 = tf.Variable(initial_value=initialW3)\n",
        "\n",
        "initialB3 = tf.constant(value=0.0, shape=[nrClasses])\n",
        "b3 = tf.Variable(initial_value=initialB3)\n",
        "\n",
        "layer3_in = tf.matmul(layer2_out, w3) + b3\n",
        "output = tf.nn.softmax(layer3_in)"
      ],
      "execution_count": 105,
      "outputs": []
    },
    {
      "cell_type": "code",
      "metadata": {
        "id": "OiWT1KVX-Cd-"
      },
      "source": [
        ""
      ],
      "execution_count": null,
      "outputs": []
    }
  ]
}